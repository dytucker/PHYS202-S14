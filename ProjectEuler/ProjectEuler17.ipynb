{
 "metadata": {
  "name": "",
  "signature": "sha256:23923f0adf9d839b969359ba18a8349f9854899eb1e890810485eed25cac0dd0"
 },
 "nbformat": 3,
 "nbformat_minor": 0,
 "worksheets": [
  {
   "cells": [
    {
     "cell_type": "heading",
     "level": 1,
     "metadata": {},
     "source": [
      "Project Euler No. 17"
     ]
    },
    {
     "cell_type": "markdown",
     "metadata": {},
     "source": [
      "If the numbers 1 to 5 are written out in words: one, two, three, four, five, then there are 3 + 3 + 5 + 4 + 4 = 19 letters used in total.\n",
      "\n",
      "If all the numbers from 1 to 1000 (one thousand) inclusive were written out in words, how many letters would be used?\n",
      "\n",
      "\n",
      "NOTE: Do not count spaces or hyphens. For example, 342 (three hundred and forty-two) contains 23 letters and 115 (one hundred and fifteen) contains 20 letters. The use of \"and\" when writing out numbers is in compliance with British usage."
     ]
    },
    {
     "cell_type": "code",
     "collapsed": false,
     "input": [
      "number_dict = {\n",
      "    0:0,\n",
      "    1:3,\n",
      "    2:3,\n",
      "    3:5,\n",
      "    4:4,\n",
      "    5:4,\n",
      "    6:3,\n",
      "    7:5,\n",
      "    8:5,\n",
      "    9:4,\n",
      "    10:3,\n",
      "    11:6,\n",
      "    12:6,\n",
      "    13:8,\n",
      "    14:8,\n",
      "    15:7,\n",
      "    16:7,\n",
      "    17:9,\n",
      "    18:8,\n",
      "    19:8,\n",
      "    20:6,\n",
      "    30:6,\n",
      "    40:5,\n",
      "    50:5,\n",
      "    60:5,\n",
      "    70:7,\n",
      "    80:6,\n",
      "    90:6,\n",
      "    100:10,\n",
      "    200:10,\n",
      "    300:12,\n",
      "    400:11,\n",
      "    500:11,\n",
      "    600:10,\n",
      "    700:12,\n",
      "    800:12,\n",
      "    900:11,\n",
      "    1000:11\n",
      "}"
     ],
     "language": "python",
     "metadata": {},
     "outputs": [],
     "prompt_number": 6
    },
    {
     "cell_type": "code",
     "collapsed": false,
     "input": [
      "print (number_dict[1000])"
     ],
     "language": "python",
     "metadata": {},
     "outputs": [
      {
       "output_type": "stream",
       "stream": "stdout",
       "text": [
        "11\n"
       ]
      }
     ],
     "prompt_number": 7
    },
    {
     "cell_type": "code",
     "collapsed": false,
     "input": [
      "total = 0\n",
      "for i in range(1,6):\n",
      "    total += number_dict[i]\n",
      "print total"
     ],
     "language": "python",
     "metadata": {},
     "outputs": [
      {
       "output_type": "stream",
       "stream": "stdout",
       "text": [
        "19\n"
       ]
      }
     ],
     "prompt_number": 8
    },
    {
     "cell_type": "code",
     "collapsed": false,
     "input": [
      "total = 0\n",
      "for i in range(1001):\n",
      "    if i <= 20:\n",
      "        total += number_dict[i]\n",
      "    elif i < 100:\n",
      "        total += number_dict[i/10*10]\n",
      "        total += number_dict[i%10]\n",
      "    elif i < 1000:\n",
      "        if i % 100 == 0:\n",
      "            total += number_dict[i]\n",
      "        elif i % 100 > 19:\n",
      "            total += number_dict[i/100*100]\n",
      "            total += number_dict[i%100 / 10 * 10]\n",
      "            total += number_dict[i%10]\n",
      "            total += 3\n",
      "        elif i % 100 < 10:\n",
      "            total += number_dict[i/100*100]\n",
      "            total += number_dict[i%10]\n",
      "            total += 3\n",
      "        else:\n",
      "            total += number_dict[i/100*100]\n",
      "            total += number_dict[i % 100]\n",
      "            total += 3\n",
      "    else:\n",
      "        total += 11\n",
      "        \n",
      "print total"
     ],
     "language": "python",
     "metadata": {},
     "outputs": [
      {
       "output_type": "stream",
       "stream": "stdout",
       "text": [
        "21124\n"
       ]
      }
     ],
     "prompt_number": 25
    },
    {
     "cell_type": "markdown",
     "metadata": {},
     "source": [
      "There is a total of 21124 characters used in counting from one to one thousand."
     ]
    },
    {
     "cell_type": "code",
     "collapsed": false,
     "input": [],
     "language": "python",
     "metadata": {},
     "outputs": []
    }
   ],
   "metadata": {}
  }
 ]
}