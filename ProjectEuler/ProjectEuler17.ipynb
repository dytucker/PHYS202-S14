{
 "metadata": {
  "name": "",
  "signature": "sha256:edae504390dfe8ff880b0edc799dfe0505465a1d4be0b346909061a86419479d"
 },
 "nbformat": 3,
 "nbformat_minor": 0,
 "worksheets": [
  {
   "cells": [
    {
     "cell_type": "heading",
     "level": 1,
     "metadata": {},
     "source": [
      "Project Euler No. 17 (21124)"
     ]
    },
    {
     "cell_type": "markdown",
     "metadata": {},
     "source": [
      "If the numbers 1 to 5 are written out in words: one, two, three, four, five, then there are 3 + 3 + 5 + 4 + 4 = 19 letters used in total.\n",
      "\n",
      "If all the numbers from 1 to 1000 (one thousand) inclusive were written out in words, how many letters would be used?\n",
      "\n",
      "\n",
      "NOTE: Do not count spaces or hyphens. For example, 342 (three hundred and forty-two) contains 23 letters and 115 (one hundred and fifteen) contains 20 letters. The use of \"and\" when writing out numbers is in compliance with British usage."
     ]
    },
    {
     "cell_type": "code",
     "collapsed": false,
     "input": [
      "number_dict = {\n",
      "    0:0,\n",
      "    1:3,\n",
      "    2:3,\n",
      "    3:5,\n",
      "    4:4,\n",
      "    5:4,\n",
      "    6:3,\n",
      "    7:5,\n",
      "    8:5,\n",
      "    9:4,\n",
      "    10:3,\n",
      "    11:6,\n",
      "    12:6,\n",
      "    13:8,\n",
      "    14:8,\n",
      "    15:7,\n",
      "    16:7,\n",
      "    17:9,\n",
      "    18:9,\n",
      "    19:8,\n",
      "    20:6,\n",
      "    30:6,\n",
      "    40:5,\n",
      "    50:5,\n",
      "    60:5,\n",
      "    70:7,\n",
      "    80:6,\n",
      "    90:6,\n",
      "    100:10,\n",
      "    200:10,\n",
      "    300:12,\n",
      "    400:11,\n",
      "    500:11,\n",
      "    600:10,\n",
      "    700:12,\n",
      "    800:12,\n",
      "    900:11,\n",
      "    1000:11\n",
      "}"
     ],
     "language": "python",
     "metadata": {},
     "outputs": [],
     "prompt_number": 24
    },
    {
     "cell_type": "code",
     "collapsed": false,
     "input": [
      "print (number_dict[1000])"
     ],
     "language": "python",
     "metadata": {},
     "outputs": [
      {
       "output_type": "stream",
       "stream": "stdout",
       "text": [
        "11\n"
       ]
      }
     ],
     "prompt_number": 25
    },
    {
     "cell_type": "code",
     "collapsed": false,
     "input": [
      "total = 0\n",
      "for i in range(1,6):\n",
      "    total += number_dict[i]\n",
      "print total"
     ],
     "language": "python",
     "metadata": {},
     "outputs": [
      {
       "output_type": "stream",
       "stream": "stdout",
       "text": [
        "19\n"
       ]
      }
     ],
     "prompt_number": 26
    },
    {
     "cell_type": "code",
     "collapsed": false,
     "input": [
      "total = 0\n",
      "for i in range(1,1001):\n",
      "    if i <= 20:\n",
      "        total += number_dict[i]\n",
      "    elif i < 100:\n",
      "        total += number_dict[i/10*10]\n",
      "        total += number_dict[i%10]\n",
      "    \"\"\"elif i < 1000:\n",
      "        if i % 100 == 0:\n",
      "            total += number_dict[i]\n",
      "        else:\n",
      "            total += number_dict[i/100*100]\n",
      "            total += number_dict[i%100 / 10 * 10]\n",
      "            total += number_dict[i%10]\n",
      "            total += 3\n",
      "    else:\n",
      "        total += 11\"\"\"\n",
      "print i\n",
      "        \n",
      "print total"
     ],
     "language": "python",
     "metadata": {},
     "outputs": [
      {
       "output_type": "stream",
       "stream": "stdout",
       "text": [
        "1000\n",
        "855\n"
       ]
      }
     ],
     "prompt_number": 49
    },
    {
     "cell_type": "code",
     "collapsed": false,
     "input": [
      "print 23 % 10 * 10"
     ],
     "language": "python",
     "metadata": {},
     "outputs": [
      {
       "output_type": "stream",
       "stream": "stdout",
       "text": [
        "30\n"
       ]
      }
     ],
     "prompt_number": 39
    },
    {
     "cell_type": "code",
     "collapsed": false,
     "input": [
      "126 % 100"
     ],
     "language": "python",
     "metadata": {},
     "outputs": [
      {
       "metadata": {},
       "output_type": "pyout",
       "prompt_number": 45,
       "text": [
        "26"
       ]
      }
     ],
     "prompt_number": 45
    },
    {
     "cell_type": "code",
     "collapsed": false,
     "input": [
      "23 / 10 * 10"
     ],
     "language": "python",
     "metadata": {},
     "outputs": [
      {
       "metadata": {},
       "output_type": "pyout",
       "prompt_number": 40,
       "text": [
        "20"
       ]
      }
     ],
     "prompt_number": 40
    },
    {
     "cell_type": "code",
     "collapsed": false,
     "input": [],
     "language": "python",
     "metadata": {},
     "outputs": []
    }
   ],
   "metadata": {}
  }
 ]
}