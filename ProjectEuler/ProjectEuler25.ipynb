{
 "metadata": {
  "name": "",
  "signature": "sha256:4fdd42fcebec3d0588fc5ebbf44db882e33d55939ec0d5b1bc8ff9ca6c76b429"
 },
 "nbformat": 3,
 "nbformat_minor": 0,
 "worksheets": [
  {
   "cells": [
    {
     "cell_type": "heading",
     "level": 1,
     "metadata": {},
     "source": [
      "Project Euler No. 25"
     ]
    },
    {
     "cell_type": "code",
     "collapsed": false,
     "input": [
      "x = \"\"\n",
      "n_minus1 = 5\n",
      "n_minus2 = 3\n",
      "term = 5\n",
      "\n",
      "while len(x) < 3:\n",
      "    n = n_minus1 + n_minus2\n",
      "    x = str(n)\n",
      "    term += 1\n",
      "    n_minus2 = n_minus1\n",
      "    n_minus1 = n\n",
      "\n",
      "print \"The first term to contain 3 digits is term number\", term"
     ],
     "language": "python",
     "metadata": {},
     "outputs": [
      {
       "output_type": "stream",
       "stream": "stdout",
       "text": [
        "The first term to contain 3 digits is term number 12\n"
       ]
      }
     ],
     "prompt_number": 8
    },
    {
     "cell_type": "code",
     "collapsed": false,
     "input": [
      "x = \"\"\n",
      "n_minus1 = 5\n",
      "n_minus2 = 3\n",
      "term = 5\n",
      "\n",
      "while len(x) < 1000:\n",
      "    n = n_minus1 + n_minus2\n",
      "    x = str(n)\n",
      "    term += 1\n",
      "    n_minus2 = n_minus1\n",
      "    n_minus1 = n\n",
      "\n",
      "print \"The first term to contain 1000 digits is term number\", term"
     ],
     "language": "python",
     "metadata": {},
     "outputs": [
      {
       "output_type": "stream",
       "stream": "stdout",
       "text": [
        "The first term to contain 1000 digits is term number 4782\n"
       ]
      }
     ],
     "prompt_number": 9
    },
    {
     "cell_type": "code",
     "collapsed": false,
     "input": [],
     "language": "python",
     "metadata": {},
     "outputs": []
    }
   ],
   "metadata": {}
  }
 ]
}