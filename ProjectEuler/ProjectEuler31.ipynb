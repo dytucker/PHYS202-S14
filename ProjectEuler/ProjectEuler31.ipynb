{
 "metadata": {
  "name": "",
  "signature": "sha256:ce76cfd2e9fc3fe212182c3e9491be1ef21e5a5c92c293d7e5430e7dafd5bb9f"
 },
 "nbformat": 3,
 "nbformat_minor": 0,
 "worksheets": [
  {
   "cells": [
    {
     "cell_type": "heading",
     "level": 1,
     "metadata": {},
     "source": [
      "Project Euler 31 73682"
     ]
    },
    {
     "cell_type": "markdown",
     "metadata": {},
     "source": [
      "In England the currency is made up of pound, \u00a3, and pence, p, and there are eight coins in general circulation:\n",
      "\n",
      "1p, 2p, 5p, 10p, 20p, 50p, \u00a31 (100p) and \u00a32 (200p).\n",
      "It is possible to make \u00a32 in the following way:\n",
      "\n",
      "1\u00d7\u00a31 + 1\u00d750p + 2\u00d720p + 1\u00d75p + 1\u00d72p + 3\u00d71p\n",
      "\n",
      "How many different ways can \u00a32 be made using any number of coins?"
     ]
    },
    {
     "cell_type": "code",
     "collapsed": false,
     "input": [
      "%pylab"
     ],
     "language": "python",
     "metadata": {},
     "outputs": [
      {
       "output_type": "stream",
       "stream": "stdout",
       "text": [
        "Using matplotlib backend: Qt4Agg\n",
        "Populating the interactive namespace from numpy and matplotlib\n"
       ]
      }
     ],
     "prompt_number": 1
    },
    {
     "cell_type": "code",
     "collapsed": false,
     "input": [
      "coins = np.arange(377)\n",
      "#max number of 1p coins (200)\n",
      "for i in range(200):\n",
      "    coins[i] = 1\n",
      "#max number of 2p coins (100)\n",
      "for i in range(200,300):\n",
      "    coins[i] = 2\n",
      "#max number os 5p coins (40)\n",
      "for i in range(300,340):\n",
      "    coins[i] = 5\n",
      "#max number of 10p coins (20)\n",
      "for i in range(340,360):\n",
      "    coins[i] = 10\n",
      "#max number of 20p coins(10)\n",
      "for i in range(360,370):\n",
      "    coins[i] = 20\n",
      "#max number of 50p coins(4)\n",
      "for i in range(370,374):\n",
      "    coins[i] = 50\n",
      "#max number of 100p coins (2)\n",
      "for i in range(374,376):\n",
      "    coins[i] = 100\n",
      "coins[376] = 200\n",
      "print coins"
     ],
     "language": "python",
     "metadata": {},
     "outputs": [
      {
       "output_type": "stream",
       "stream": "stdout",
       "text": [
        "[  1   1   1   1   1   1   1   1   1   1   1   1   1   1   1   1   1   1\n",
        "   1   1   1   1   1   1   1   1   1   1   1   1   1   1   1   1   1   1\n",
        "   1   1   1   1   1   1   1   1   1   1   1   1   1   1   1   1   1   1\n",
        "   1   1   1   1   1   1   1   1   1   1   1   1   1   1   1   1   1   1\n",
        "   1   1   1   1   1   1   1   1   1   1   1   1   1   1   1   1   1   1\n",
        "   1   1   1   1   1   1   1   1   1   1   1   1   1   1   1   1   1   1\n",
        "   1   1   1   1   1   1   1   1   1   1   1   1   1   1   1   1   1   1\n",
        "   1   1   1   1   1   1   1   1   1   1   1   1   1   1   1   1   1   1\n",
        "   1   1   1   1   1   1   1   1   1   1   1   1   1   1   1   1   1   1\n",
        "   1   1   1   1   1   1   1   1   1   1   1   1   1   1   1   1   1   1\n",
        "   1   1   1   1   1   1   1   1   1   1   1   1   1   1   1   1   1   1\n",
        "   1   1   2   2   2   2   2   2   2   2   2   2   2   2   2   2   2   2\n",
        "   2   2   2   2   2   2   2   2   2   2   2   2   2   2   2   2   2   2\n",
        "   2   2   2   2   2   2   2   2   2   2   2   2   2   2   2   2   2   2\n",
        "   2   2   2   2   2   2   2   2   2   2   2   2   2   2   2   2   2   2\n",
        "   2   2   2   2   2   2   2   2   2   2   2   2   2   2   2   2   2   2\n",
        "   2   2   2   2   2   2   2   2   2   2   2   2   5   5   5   5   5   5\n",
        "   5   5   5   5   5   5   5   5   5   5   5   5   5   5   5   5   5   5\n",
        "   5   5   5   5   5   5   5   5   5   5   5   5   5   5   5   5  10  10\n",
        "  10  10  10  10  10  10  10  10  10  10  10  10  10  10  10  10  10  10\n",
        "  20  20  20  20  20  20  20  20  20  20  50  50  50  50 100 100 200]\n"
       ]
      }
     ],
     "prompt_number": 2
    },
    {
     "cell_type": "markdown",
     "metadata": {},
     "source": [
      "Algorythm:\n",
      "Start at the last index.\n",
      "1. Take a number and ignore all numbers with a higher index.\n",
      "2. Add numbers with a lower index until 200 or above is reached.\n",
      "3. Incriment the counter by 1.\n",
      "4. When 200 or above is reached, repeat the process starting at the number who's index is two below the start.\n",
      "5. When that is done, repeat with the first number to be added being 3 indeces below the start.\n",
      "6. Continue until sum is below 200 at the end of a round.\n",
      "7. Repeat with starting number as number with next lowest index."
     ]
    },
    {
     "cell_type": "code",
     "collapsed": false,
     "input": [
      "number_of_combinations = 0\n",
      "current_sum = 0\n",
      "#iterate over the whole list\n",
      "for i in range(377):\n",
      "    print i\n",
      "    current_sum = 200\n",
      "    while current_sum >= 200:\n",
      "        current_sum = 0\n",
      "        for n in range(376):\n",
      "            current_sum += coins[376-i-n]\n",
      "            if current_sum == 200:\n",
      "                number_of_combinations += 1\n",
      "                if number_of_combinations > 100000:\n",
      "                    break\n",
      "print number_of_combinations    "
     ],
     "language": "python",
     "metadata": {},
     "outputs": []
    },
    {
     "cell_type": "code",
     "collapsed": false,
     "input": [
      "print number_of_combinations"
     ],
     "language": "python",
     "metadata": {},
     "outputs": [
      {
       "output_type": "stream",
       "stream": "stdout",
       "text": [
        "7213\n"
       ]
      }
     ],
     "prompt_number": 57
    },
    {
     "cell_type": "code",
     "collapsed": false,
     "input": [
      "#for i in range(377):\n",
      "#    print i\n",
      "current_sum = 200\n",
      "while current_sum >= 200:\n",
      "        current_sum = 0\n",
      "        print \"zero\"\n",
      "    "
     ],
     "language": "python",
     "metadata": {},
     "outputs": [
      {
       "output_type": "stream",
       "stream": "stdout",
       "text": [
        "zero\n"
       ]
      }
     ],
     "prompt_number": 4
    },
    {
     "cell_type": "code",
     "collapsed": false,
     "input": [
      "nums = 0\n",
      "current_sum = 0\n",
      "for i in range(377):\n",
      "    for n in range(377):\n",
      "        print n\n",
      "        current_sum = 0\n",
      "        #print n\n",
      "        current_sum += coins[376-i-n]\n",
      "        #print current_sum\n",
      "        if current_sum >= 200:\n",
      "            nums += 1\n",
      "print nums"
     ],
     "language": "python",
     "metadata": {},
     "outputs": []
    },
    {
     "cell_type": "code",
     "collapsed": false,
     "input": [
      "print coins[376]"
     ],
     "language": "python",
     "metadata": {},
     "outputs": [
      {
       "output_type": "stream",
       "stream": "stdout",
       "text": [
        "200\n"
       ]
      }
     ],
     "prompt_number": 31
    },
    {
     "cell_type": "code",
     "collapsed": false,
     "input": [
      "current_sum = 0\n",
      "current_sum += coins[376]\n",
      "print current_sum"
     ],
     "language": "python",
     "metadata": {},
     "outputs": [
      {
       "output_type": "stream",
       "stream": "stdout",
       "text": [
        "200\n"
       ]
      }
     ],
     "prompt_number": 36
    },
    {
     "cell_type": "code",
     "collapsed": false,
     "input": [
      "for i in range(377):\n",
      "    print coins[i]"
     ],
     "language": "python",
     "metadata": {},
     "outputs": []
    }
   ],
   "metadata": {}
  }
 ]
}