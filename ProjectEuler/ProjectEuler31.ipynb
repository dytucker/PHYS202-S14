{
 "metadata": {
  "name": "",
  "signature": "sha256:bd5f430479dd1725a71e3c67710892226be384b042c245de115d3c388d4df987"
 },
 "nbformat": 3,
 "nbformat_minor": 0,
 "worksheets": [
  {
   "cells": [
    {
     "cell_type": "heading",
     "level": 1,
     "metadata": {},
     "source": [
      "Project Euler 31"
     ]
    },
    {
     "cell_type": "markdown",
     "metadata": {},
     "source": [
      "In England the currency is made up of pound, \u00a3, and pence, p, and there are eight coins in general circulation:\n",
      "\n",
      "1p, 2p, 5p, 10p, 20p, 50p, \u00a31 (100p) and \u00a32 (200p).\n",
      "It is possible to make \u00a32 in the following way:\n",
      "\n",
      "1\u00d7\u00a31 + 1\u00d750p + 2\u00d720p + 1\u00d75p + 1\u00d72p + 3\u00d71p\n",
      "\n",
      "How many different ways can \u00a32 be made using any number of coins?"
     ]
    },
    {
     "cell_type": "code",
     "collapsed": false,
     "input": [
      "%pylab"
     ],
     "language": "python",
     "metadata": {},
     "outputs": [
      {
       "output_type": "stream",
       "stream": "stdout",
       "text": [
        "Using matplotlib backend: Qt4Agg\n",
        "Populating the interactive namespace from numpy and matplotlib\n"
       ]
      }
     ],
     "prompt_number": 70
    },
    {
     "cell_type": "markdown",
     "metadata": {},
     "source": [
      "Algorythm:\n",
      "Add together every possible combination of coins with a maximum bound per coin of $200/$ value of the coin. If the combination equals 200, incriment the counter by 1."
     ]
    },
    {
     "cell_type": "code",
     "collapsed": false,
     "input": [
      "    counter = 2\n",
      "    for j in range(2):\n",
      "        for k in range(5):\n",
      "            for l in range(11):\n",
      "                for m in range(21):\n",
      "                    for n in range(41):\n",
      "                        for o in range(101):\n",
      "                            for p in range(201):\n",
      "                                if 200*i + 100*j + 50*k + 20*l + 10*m + 5*n + 2*o + p == 200:\n",
      "                                    counter += 1"
     ],
     "language": "python",
     "metadata": {},
     "outputs": [],
     "prompt_number": 209
    },
    {
     "cell_type": "code",
     "collapsed": true,
     "input": [
      "print counter"
     ],
     "language": "python",
     "metadata": {},
     "outputs": [
      {
       "output_type": "stream",
       "stream": "stdout",
       "text": [
        "73682\n"
       ]
      }
     ],
     "prompt_number": 210
    },
    {
     "cell_type": "markdown",
     "metadata": {},
     "source": [
      "There are 73,682 ways to combine the coins of English currency to make two pounds."
     ]
    }
   ],
   "metadata": {}
  }
 ]
}