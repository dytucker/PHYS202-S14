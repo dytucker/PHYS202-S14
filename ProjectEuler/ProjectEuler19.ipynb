{
 "metadata": {
  "name": "",
  "signature": "sha256:17aef9fbedae1f856b991810fe57c3cbcaf0875b448c9527e9f117151d927355"
 },
 "nbformat": 3,
 "nbformat_minor": 0,
 "worksheets": [
  {
   "cells": [
    {
     "cell_type": "heading",
     "level": 1,
     "metadata": {},
     "source": [
      "Project Euler No. 19"
     ]
    },
    {
     "cell_type": "markdown",
     "metadata": {},
     "source": [
      "You are given the following information, but you may prefer to do some research for yourself.\n",
      "\n",
      "1 Jan 1900 was a Monday.\n",
      "Thirty days has September,\n",
      "April, June and November.\n",
      "All the rest have thirty-one,\n",
      "Saving February alone,\n",
      "Which has twenty-eight, rain or shine.\n",
      "And on leap years, twenty-nine.\n",
      "A leap year occurs on any year evenly divisible by 4, but not on a century unless it is divisible by 400.\n",
      "How many Sundays fell on the first of the month during the twentieth century (1 Jan 1901 to 31 Dec 2000)?"
     ]
    },
    {
     "cell_type": "code",
     "collapsed": false,
     "input": [
      "month_dict = {\n",
      "    0:range(1,32),\n",
      "    1:range(1,29),\n",
      "    2:range(1,32),\n",
      "    3:range(1,31),\n",
      "    4:range(1,32),\n",
      "    5:range(1,31),\n",
      "    6:range(1,32),\n",
      "    7:range(1,32),\n",
      "    8:range(1,31),\n",
      "    9:range(1,32),\n",
      "    10:range(1,31),\n",
      "    11:range(1,32)\n",
      "}"
     ],
     "language": "python",
     "metadata": {},
     "outputs": [],
     "prompt_number": 126
    },
    {
     "cell_type": "code",
     "collapsed": false,
     "input": [
      "#getting rid of the first two hits in 1900\n",
      "firsts = -2\n",
      "#starting in 1900 on a Monday\n",
      "day_of_week = 1\n",
      "year = 1899\n",
      "for y in range(101):\n",
      "    year += 1\n",
      "    if year % 4 == 0 and year != 1900:\n",
      "        month_dict[1].append(29)\n",
      "        leap_counter += 1\n",
      "    for month in month_dict:\n",
      "        for day in month_dict[month]:\n",
      "            #print day_of_week,day\n",
      "            if (day_of_week == 0 and day == 1):\n",
      "                firsts += 1\n",
      "            day_of_week += 1\n",
      "            if day_of_week == 7:\n",
      "                day_of_week = 0\n",
      "    month_dict[1] = range(1,29)\n",
      "    \n",
      "print \"There were %d Sundays that fell on the first day of the month from 1901 through 2000\" %(firsts)"
     ],
     "language": "python",
     "metadata": {},
     "outputs": [
      {
       "output_type": "stream",
       "stream": "stdout",
       "text": [
        "There were 171 Sundays that fell on the first day of the month from 1901 through 2000\n"
       ]
      }
     ],
     "prompt_number": 127
    }
   ],
   "metadata": {}
  }
 ]
}