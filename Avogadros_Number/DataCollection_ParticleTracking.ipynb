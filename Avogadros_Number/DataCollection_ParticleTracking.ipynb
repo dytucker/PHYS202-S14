{
 "metadata": {
  "name": "",
  "signature": "sha256:c1aed6b4108585a6a52e0c9f84033e37026156b6c6ed1857184642d390236f0d"
 },
 "nbformat": 3,
 "nbformat_minor": 0,
 "worksheets": [
  {
   "cells": [
    {
     "cell_type": "code",
     "collapsed": false,
     "input": [
      "%pylab inline\n",
      "import numpy as np\n",
      "import matplotlib.pyplot as plt\n",
      "from PIL import Image\n",
      "import requests\n",
      "from StringIO import StringIO\n",
      "from Blobfinder import *"
     ],
     "language": "python",
     "metadata": {},
     "outputs": [
      {
       "output_type": "stream",
       "stream": "stdout",
       "text": [
        "Populating the interactive namespace from numpy and matplotlib\n"
       ]
      },
      {
       "output_type": "stream",
       "stream": "stderr",
       "text": [
        "WARNING: pylab import has clobbered these variables: ['fill']\n",
        "`%matplotlib` prevents importing * from pylab and numpy\n"
       ]
      }
     ],
     "prompt_number": 14
    },
    {
     "cell_type": "code",
     "collapsed": false,
     "input": [
      "def BlobPrinter(P,tau,pic):\n",
      "    \"\"\"prints mass and center of mass\n",
      "    of all blobs with at least P pixels\n",
      "    and then the mass and center of mass\n",
      "    of all blobs with at least one pixel\"\"\"\n",
      "    \n",
      "    blob_list = BlobFinder(pic,tau)\n",
      "    beads_num = countBeads(P,blob_list)\n",
      "    bigBlob_list = getBeads(P, blob_list)\n",
      "    \n",
      "    for i in range(beads_num):\n",
      "        print bigBlob_list[i].mass, bigBlob_list[i].centerOfMass\n",
      "    for i in range(len(blob_list)):\n",
      "        print blob_list[i].mass, blob_list[i].centerOfMass"
     ],
     "language": "python",
     "metadata": {},
     "outputs": [],
     "prompt_number": 17
    },
    {
     "cell_type": "code",
     "collapsed": false,
     "input": [],
     "language": "python",
     "metadata": {},
     "outputs": []
    }
   ],
   "metadata": {}
  }
 ]
}