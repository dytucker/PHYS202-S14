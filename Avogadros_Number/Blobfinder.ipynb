{
 "metadata": {
  "name": "",
  "signature": "sha256:314dece5007beba736a5be965ab2cb24d37def1efc3eb6971757b5ddc50690e7"
 },
 "nbformat": 3,
 "nbformat_minor": 0,
 "worksheets": [
  {
   "cells": [
    {
     "cell_type": "heading",
     "level": 1,
     "metadata": {},
     "source": [
      "Blobfinder"
     ]
    },
    {
     "cell_type": "code",
     "collapsed": false,
     "input": [
      "%%file Blobfinder.py\n",
      "\n",
      "#usual opening stuff\n",
      "#%pylab inline\n",
      "import numpy as np\n",
      "import matplotlib.pyplot as plt\n",
      "from PIL import Image\n",
      "import requests\n",
      "from StringIO import StringIO\n",
      "\n",
      "#Defining class Blob\n",
      "class Blob():\n",
      "    def __init__(self):\n",
      "        self.blobPoints = []\n",
      "        self.mass = 0\n",
      "    def add(self,i,j):\n",
      "        self.blobPoints.append((i,j));\n",
      "    def getmass(self):\n",
      "        self.mass = len(self.blobPoints)\n",
      "    def distanceTo(self,com1,com2):\n",
      "        x1 = com1[0]\n",
      "        y1 = com1[1]\n",
      "        x2 = com2[0]\n",
      "        y2 = com2[1]\n",
      "        \n",
      "\n",
      "        self.distance = ((x2-x1)**2 + (y2-y1)**2)**0.5\n",
      "        return self.distance\n",
      "        \n",
      "    def getcenterOfMass(self):\n",
      "        total = []\n",
      "        xtot = 0\n",
      "        ytot = 0\n",
      "        for point in self.blobPoints:\n",
      "            xtot += point[0]\n",
      "            ytot += point[1]\n",
      "        xave =  float(xtot) / len(self.blobPoints)\n",
      "        yave =  float(ytot) / len(self.blobPoints)   \n",
      "        self.centerOfMass = [xave,yave]\n",
      "        return [xave,yave]\n",
      "\n",
      "#the monochrome function\n",
      "def monochrome(picture, threshold):\n",
      "    \"\"\"loops over the pixels in the loaded image, \n",
      "    replacing the RGB values of each with either \n",
      "    black or white depending on whether its total \n",
      "    luminance is above or below some threshold \n",
      "    passed in by the user\"\"\"\n",
      "    black = (0, 0, 0)\n",
      "    white = (255, 255, 255)\n",
      "    xsize, ysize = picture.size\n",
      "    temp = picture.load()\n",
      "\n",
      "    \n",
      "    for x in range(xsize):\n",
      "        for y in range(ysize):\n",
      "            r,g,b = temp[x,y]\n",
      "            if r+g+b >= threshold: \n",
      "                temp[x,y] = black\n",
      "            else:\n",
      "                temp[x,y] = white\n",
      "\n",
      "#The count function\n",
      "def count(picture, counter, blob_list):\n",
      "    \"\"\"scan the image top to bottom and left to right using a nested loop.\n",
      "    when black pixel is found, increment the count, create a new blob, then call the fill\n",
      "    function to fill in all the pixels connected to that one. Put the pixels into the blob in the fill function.\"\"\"\n",
      "    BLACK = (0,0,0)\n",
      "    RED = (255,0,0)\n",
      "    temp = picture.load()\n",
      "    xsize, ysize = picture.size\n",
      "    result = 0\n",
      "    for x in range(xsize):\n",
      "        for y in range(ysize):\n",
      "            if temp[x,y] == BLACK:\n",
      "                result += 1\n",
      "                \"\"\"create a new blob\"\"\"\n",
      "                blobbert = Blob()\n",
      "                fill(temp,xsize,ysize,x,y,blobbert)\n",
      "                blobbert.getmass()\n",
      "                blobbert.getcenterOfMass()\n",
      "                blob_list.append(blobbert)\n",
      "    return blob_list\n",
      "\n",
      "#The fill function\n",
      "def fill(picture, xsize, ysize, xstart, ystart,current_blob):\n",
      "    \"\"\"keep a list of pixels that need to be looked at, \n",
      "    but haven't yet been filled in - a list of the (x,y) \n",
      "    coordinates of pixels that are neighbors of ones we have \n",
      "    already examined.  Keep looping until there's nothing \n",
      "    left in this list. When a pixel is filled in, put it into the blob\"\"\"\n",
      "    BLACK = (0,0,0)\n",
      "    RED = (255,0,0)\n",
      "    queue = [(xstart,ystart)]\n",
      "    while queue:\n",
      "        x,y,queue = queue[0][0], queue[0][1], queue[1:]\n",
      "        if picture[x,y] == BLACK:\n",
      "            picture[x,y] = RED\n",
      "            \"\"\"if a point is red, add that point to the current blob we're working with\"\"\"\n",
      "            current_blob.add(x,y)\n",
      "            if x > 0:\n",
      "                queue.append((x-1,y))\n",
      "            if x < (xsize-1):\n",
      "                queue.append((x+1,y))\n",
      "            if y > 0:\n",
      "                queue.append((x, y-1))\n",
      "            if y < (ysize-1):\n",
      "                queue.append((x, y+1))\n",
      "                \n",
      "#The BlobFinder function\n",
      "def BlobFinder(picture, tau):\n",
      "    float(tau)\n",
      "    blob_list = []\n",
      "    monochrome(picture, tau)\n",
      "    #slide = picture.load()\n",
      "    all_blobs = count(picture,fill,blob_list)\n",
      "    \n",
      "    return all_blobs\n",
      "\n",
      "#The count beads function\n",
      "def countBeads(P,blob_list):\n",
      "    \"\"\"return the number of beads with >= P pixels\"\"\"\n",
      "    counter = 0\n",
      "    for b in blob_list:\n",
      "        if b.mass >= P:\n",
      "            counter += 1\n",
      "    return counter\n",
      "            \n",
      "#The Get beads function\n",
      "def getBeads(P,blob_list):\n",
      "    \"\"\"return all beads with >= P pixels\"\"\"\n",
      "    bigBlob_list = []\n",
      "    for b in blob_list:\n",
      "        if b.mass >= 25:\n",
      "            bigBlob_list.append(b)\n",
      "    return bigBlob_list"
     ],
     "language": "python",
     "metadata": {},
     "outputs": [
      {
       "output_type": "stream",
       "stream": "stdout",
       "text": [
        "Overwriting Blobfinder.py\n"
       ]
      }
     ],
     "prompt_number": 12
    },
    {
     "cell_type": "code",
     "collapsed": false,
     "input": [
      "class Blob():\n",
      "    def __init__(self):\n",
      "        self.blobPoints = []\n",
      "        self.mass = 0\n",
      "    def add(self,i,j):\n",
      "        self.blobPoints.append((i,j));\n",
      "    def getmass(self):\n",
      "        self.mass = len(self.blobPoints)\n",
      "    def distanceTo(self,other_blob):\n",
      "        xdistance = self.centerOfMass[0] - other_blob.centerOfMass[0]\n",
      "        ydistance = self.centerOfMass[1] - other_blob.centerOfMass[1]\n",
      "\n",
      "        self.distance = (xdistance**2 + ydistance**2)**0.5\n",
      "        \n",
      "    def getcenterOfMass(self):\n",
      "        total = []\n",
      "        xtot = 0\n",
      "        ytot = 0\n",
      "        for point in self.blobPoints:\n",
      "            xtot += point[0]\n",
      "            ytot += point[1]\n",
      "        xave =  float(xtot) / len(self.blobPoints)\n",
      "        yave =  float(ytot) / len(self.blobPoints)   \n",
      "        self.centerOfMass = [xave,yave]"
     ],
     "language": "python",
     "metadata": {},
     "outputs": [],
     "prompt_number": 1
    },
    {
     "cell_type": "code",
     "collapsed": false,
     "input": [
      "blobbert = Blob()\n",
      "blobina = Blob()\n",
      "blobbert.add(1,1)\n",
      "blobbert.add(2,2)\n",
      "blobbert.add(3,3)\n",
      "blobbert.getmass()\n",
      "blobbert.getcenterOfMass()\n",
      "\n",
      "blobina.add(1,1)\n",
      "blobina.getmass()\n",
      "blobina.getcenterOfMass()\n",
      "\n",
      "blobbert.distanceTo(blobina)\n",
      "print blobbert.blobPoints\n",
      "print blobbert.mass\n",
      "print blobbert.centerOfMass\n",
      "print blobbert.distance\n",
      "\n",
      "bloblist = [blobbert,blobina]\n",
      "print bloblist[0].mass, bloblist[1].mass"
     ],
     "language": "python",
     "metadata": {},
     "outputs": [
      {
       "output_type": "stream",
       "stream": "stdout",
       "text": [
        "[(1, 1), (2, 2), (3, 3)]\n",
        "3\n",
        "[2.0, 2.0]\n",
        "1.41421356237\n",
        "3 1\n"
       ]
      }
     ],
     "prompt_number": 15
    },
    {
     "cell_type": "code",
     "collapsed": false,
     "input": [
      "blobs = []\n",
      "for i in range(2):\n",
      "    blobbert = Blob()\n",
      "    blobbert.mass = i\n",
      "    blobs.append(blobbert.mass)\n",
      "print blobs"
     ],
     "language": "python",
     "metadata": {},
     "outputs": [
      {
       "output_type": "stream",
       "stream": "stdout",
       "text": [
        "[0, 1]\n"
       ]
      }
     ],
     "prompt_number": 3
    },
    {
     "cell_type": "code",
     "collapsed": false,
     "input": [
      "%pylab inline\n",
      "import numpy as np\n",
      "import matplotlib.pyplot as plt\n",
      "from PIL import Image\n",
      "import requests\n",
      "from StringIO import StringIO\n",
      "\n"
     ],
     "language": "python",
     "metadata": {},
     "outputs": [
      {
       "output_type": "stream",
       "stream": "stdout",
       "text": [
        "Populating the interactive namespace from numpy and matplotlib\n"
       ]
      }
     ],
     "prompt_number": 4
    },
    {
     "cell_type": "code",
     "collapsed": false,
     "input": [
      "#no need to mess with monochrome\n",
      "def monochrome(picture, threshold):\n",
      "    \"\"\"loops over the pixels in the loaded image, \n",
      "    replacing the RGB values of each with either \n",
      "    black or white depending on whether its total \n",
      "    luminance is above or below some threshold \n",
      "    passed in by the user\"\"\"\n",
      "    black = (0, 0, 0)\n",
      "    white = (255, 255, 255)\n",
      "    xsize, ysize = picture.size\n",
      "    temp = picture.load()\n",
      "    for x in range(xsize):\n",
      "        for y in range(ysize):\n",
      "            r,g,b = temp[x,y]\n",
      "            if r+g+b >= threshold: \n",
      "                temp[x,y] = black\n",
      "            else:\n",
      "                temp[x,y] = white"
     ],
     "language": "python",
     "metadata": {},
     "outputs": [],
     "prompt_number": 11
    },
    {
     "cell_type": "code",
     "collapsed": false,
     "input": [
      "def count(picture, counter, blob_list):\n",
      "    \"\"\"scan the image top to bottom and left to right using a nested loop.\n",
      "    when black pixel is found, increment the count, create a new blob, then call the fill\n",
      "    function to fill in all the pixels connected to that one. Put the pixels into the blob in the fill function.\"\"\"\n",
      "    BLACK = (0,0,0)\n",
      "    RED = (255,0,0)\n",
      "    xsize, ysize = picture.size\n",
      "    temp = picture.load()\n",
      "    result = 0\n",
      "    for x in range(xsize):\n",
      "        for y in range(ysize):\n",
      "            if temp[x,y] == BLACK:\n",
      "                result += 1\n",
      "                \"\"\"create a new blob\"\"\"\n",
      "                blobbert = Blob()\n",
      "                fill(temp,xsize,ysize,x,y,blobbert)\n",
      "                blobbert.getmass()\n",
      "                blobbert.getcenterOfMass()\n",
      "                blob_list.append(blobbert)\n",
      "    return blob_list"
     ],
     "language": "python",
     "metadata": {},
     "outputs": [],
     "prompt_number": 11
    },
    {
     "cell_type": "code",
     "collapsed": false,
     "input": [
      "def fill(picture, xsize, ysize, xstart, ystart,current_blob):\n",
      "    \"\"\"keep a list of pixels that need to be looked at, \n",
      "    but haven't yet been filled in - a list of the (x,y) \n",
      "    coordinates of pixels that are neighbors of ones we have \n",
      "    already examined.  Keep looping until there's nothing \n",
      "    left in this list. When a pixel is filled in, put it into the blob\"\"\"\n",
      "    queue = [(xstart,ystart)]\n",
      "    while queue:\n",
      "        x,y,queue = queue[0][0], queue[0][1], queue[1:]\n",
      "        if picture[x,y] == BLACK:\n",
      "            picture[x,y] = RED\n",
      "            \"\"\"if a point is red, add that point to the current blob we're working with\"\"\"\n",
      "            blobbert.add(x,y)\n",
      "            if x > 0:\n",
      "                queue.append((x-1,y))\n",
      "            if x < (xsize-1):\n",
      "                queue.append((x+1,y))\n",
      "            if y > 0:\n",
      "                queue.append((x, y-1))\n",
      "            if y < (ysize-1):\n",
      "                queue.append((x, y+1))"
     ],
     "language": "python",
     "metadata": {},
     "outputs": [],
     "prompt_number": 5
    },
    {
     "cell_type": "code",
     "collapsed": false,
     "input": [
      "def BlobFinder(picture, tau):\n",
      "    float(tau)\n",
      "    blob_list = []\n",
      "    monochrome(picture, tau)\n",
      "    slide = picture.load()\n",
      "    number_of_blobs = count(slide,fill,blob_list)\n",
      "    \n",
      "    return blob_list"
     ],
     "language": "python",
     "metadata": {},
     "outputs": [],
     "prompt_number": 6
    },
    {
     "cell_type": "code",
     "collapsed": false,
     "input": [
      "def countBeads(P,blob_list):\n",
      "    \"\"\"return the number of beads with >= P pixels\"\"\"\n",
      "    counter = 0\n",
      "    for b in blob_list:\n",
      "        if b.mass >= P:\n",
      "            counter += 1"
     ],
     "language": "python",
     "metadata": {},
     "outputs": [],
     "prompt_number": 7
    },
    {
     "cell_type": "code",
     "collapsed": false,
     "input": [
      "def getBeads(P,blob_list):\n",
      "    \"\"\"return all beads with >= P pixels\"\"\"\n",
      "    bigBlob_list = []\n",
      "    for b in blob_list:\n",
      "        if b.mass >= 25:\n",
      "            bigBlob_list.append(b)"
     ],
     "language": "python",
     "metadata": {},
     "outputs": [],
     "prompt_number": 38
    },
    {
     "cell_type": "code",
     "collapsed": false,
     "input": [
      "picture = Image.open(Users\\Dylan\\Downloads\\run6.zip\\run6\\'frame00000')\n",
      "\n",
      "blobs = BlobFinder(picture,180.2)"
     ],
     "language": "python",
     "metadata": {},
     "outputs": [
      {
       "ename": "SyntaxError",
       "evalue": "unexpected character after line continuation character (<ipython-input-37-b7c457336b05>, line 1)",
       "output_type": "pyerr",
       "traceback": [
        "\u001b[1;36m  File \u001b[1;32m\"<ipython-input-37-b7c457336b05>\"\u001b[1;36m, line \u001b[1;32m1\u001b[0m\n\u001b[1;33m    picture = Image.open(Users\\Dylan\\Downloads\\run6.zip\\run6\\'frame00000')\u001b[0m\n\u001b[1;37m                                                                          ^\u001b[0m\n\u001b[1;31mSyntaxError\u001b[0m\u001b[1;31m:\u001b[0m unexpected character after line continuation character\n"
       ]
      }
     ],
     "prompt_number": 37
    },
    {
     "cell_type": "code",
     "collapsed": false,
     "input": [],
     "language": "python",
     "metadata": {},
     "outputs": []
    }
   ],
   "metadata": {}
  }
 ]
}