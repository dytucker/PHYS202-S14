{
 "metadata": {
  "name": "",
  "signature": "sha256:bfc4818f6873a9c48592f4f5821a86f9e4e8397a5483f3115aa9f1f19554cbc7"
 },
 "nbformat": 3,
 "nbformat_minor": 0,
 "worksheets": [
  {
   "cells": [
    {
     "cell_type": "heading",
     "level": 1,
     "metadata": {},
     "source": [
      "Blobfinder"
     ]
    },
    {
     "cell_type": "code",
     "collapsed": false,
     "input": [
      "class Blob():\n",
      "    def __init__(self):\n",
      "        self.blobPoints = []\n",
      "        self.mass = 0\n",
      "    def add(self,i,j):\n",
      "        self.blobPoints.append((i,j));\n",
      "    def getmass(self):\n",
      "        self.mass = len(self.blobPoints)\n",
      "    def distanceTo(self,other_blob):\n",
      "        xdistance = self.centerOfMass[0] - other_blob.centerOfMass[0]\n",
      "        ydistance = self.centerOfMass[1] - other_blob.centerOfMass[1]\n",
      "\n",
      "        self.distance = (xdistance,ydistance)\n",
      "        \n",
      "    def getcenterOfMass(self):\n",
      "        total = []\n",
      "        xtot = 0\n",
      "        ytot = 0\n",
      "        for point in self.blobPoints:\n",
      "            xtot += point[0]\n",
      "            ytot += point[1]\n",
      "        xave =  float(xtot) / len(self.blobPoints)\n",
      "        yave =  float(ytot) / len(self.blobPoints)   \n",
      "        self.centerOfMass = [xave,yave]"
     ],
     "language": "python",
     "metadata": {},
     "outputs": [],
     "prompt_number": 201
    },
    {
     "cell_type": "code",
     "collapsed": false,
     "input": [
      "blobbert = Blob()\n",
      "blobina = Blob()\n",
      "blobbert.add(1,1)\n",
      "blobbert.add(2,2)\n",
      "blobbert.add(3,3)\n",
      "blobbert.getmass()\n",
      "blobbert.getcenterOfMass()\n",
      "\n",
      "blobina.add(1,1)\n",
      "blobina.getmass()\n",
      "blobina.getcenterOfMass()\n",
      "\n",
      "blobbert.distanceTo(blobina)\n",
      "print blobbert.blobPoints\n",
      "print blobbert.mass\n",
      "print blobbert.centerOfMass\n",
      "print blobbert.distance"
     ],
     "language": "python",
     "metadata": {},
     "outputs": [
      {
       "output_type": "stream",
       "stream": "stdout",
       "text": [
        "[(1, 1), (2, 2), (3, 3)]\n",
        "3\n",
        "[2.0, 2.0]\n",
        "(1.0, 1.0)\n"
       ]
      }
     ],
     "prompt_number": 202
    },
    {
     "cell_type": "code",
     "collapsed": false,
     "input": [],
     "language": "python",
     "metadata": {},
     "outputs": []
    }
   ],
   "metadata": {}
  }
 ]
}