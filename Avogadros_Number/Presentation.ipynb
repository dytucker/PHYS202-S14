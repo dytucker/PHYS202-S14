{
 "metadata": {
  "name": "",
  "signature": "sha256:3b346dd0d74ce7a9314d64d8141b13b828fe7d67edff58dfbdcc82ff7482d787"
 },
 "nbformat": 3,
 "nbformat_minor": 0,
 "worksheets": [
  {
   "cells": [
    {
     "cell_type": "heading",
     "level": 1,
     "metadata": {},
     "source": [
      "Avogadro's Number Presentation"
     ]
    },
    {
     "cell_type": "heading",
     "level": 2,
     "metadata": {},
     "source": [
      "Dylan Tucker"
     ]
    },
    {
     "cell_type": "markdown",
     "metadata": {},
     "source": [
      "The following code's purpose is to obtain an estimate of Avogadro's number through the observation of Brownian motion of beads in a fluid. This is done by using the equation $D=\\frac{kT}{6\\pi\\eta\\rho}$ where $D$ of obtained by tracking the motion of each bead over a $0.5s$ time period.\n",
      "\n",
      "The Algorythm:\n",
      "\n",
      "1. First, Blobfinder.py is imported\n",
      "    a. Blobfinder.py contains the class Blob which has functions to find the location and mass of each bead\n",
      "2. "
     ]
    },
    {
     "cell_type": "code",
     "collapsed": false,
     "input": [
      "%pylab inline\n",
      "import numpy as np\n",
      "import matplotlib.pyplot as plt\n",
      "from PIL import Image\n",
      "import requests\n",
      "from StringIO import StringIO\n",
      "from Blobfinder import *"
     ],
     "language": "python",
     "metadata": {},
     "outputs": [
      {
       "output_type": "stream",
       "stream": "stdout",
       "text": [
        "Populating the interactive namespace from numpy and matplotlib\n"
       ]
      }
     ],
     "prompt_number": 1
    },
    {
     "cell_type": "code",
     "collapsed": false,
     "input": [
      "def tracker(files_list,P,tau,delta_p):\n",
      "    #open the first frame of the files\n",
      "    #frame2 = Image.open(files_list[0])\n",
      "    \n",
      "    #return list of displacements\n",
      "    all_distances = []\n",
      "    \n",
      "    #iterate over remaining 199 frames\n",
      "    for i in range(len(files_list)-1):\n",
      "        frame1 = Image.open(files_list[i])\n",
      "        frame2 = Image.open(files_list[i+1])\n",
      "    \n",
      "        beads1 = getBeads(P,BlobFinder(frame1,tau))\n",
      "        beads2 = getBeads(P,BlobFinder(frame2,tau))\n",
      "\n",
      "        distances = []\n",
      "        distance_list = []\n",
      "\n",
      "        #get the distances of all beads from each other\n",
      "        for i in range(len(beads1)):\n",
      "            for j in range(len(beads2)):\n",
      "                distance = Blob.distanceTo(beads1[i],beads1[i].centerOfMass,beads2[j].centerOfMass)\n",
      "                if distance < delta_p:\n",
      "                    distances.append(distance)\n",
      "                else:\n",
      "                    pass\n",
      "            #if any beads are closer than delta_p, append the closest one to the list of distances\n",
      "            if len(distances) > 0:\n",
      "                distance_list.append(min(distances))\n",
      "            #reset list of distances to one point\n",
      "            distances = []\n",
      "        #if a frame 1 and 2 have different number of beads, remove the largest distance from the\n",
      "        #list until they have the same number of beads\n",
      "        len1 = len(beads1)\n",
      "        len2 = len(beads1)\n",
      "        while len1 != len2:\n",
      "            distance_list.remove(max(distance_list))\n",
      "            if len1 > len2:\n",
      "                len1 -= 1\n",
      "            if len2 > len1:\n",
      "                len2 -= 1\n",
      "                                 \n",
      "        \n",
      "        #add list of distances from frame1 to frame2 to master list of all distances\n",
      "        all_distances.append(distance_list)\n",
      "    \n",
      "    #the part where it writes to a file\n",
      "    data = []\n",
      "    for i in all_distances:\n",
      "        for j in i:\n",
      "            data.append(j)\n",
      "    \n",
      "    return data"
     ],
     "language": "python",
     "metadata": {},
     "outputs": [],
     "prompt_number": 2
    },
    {
     "cell_type": "code",
     "collapsed": false,
     "input": [
      "files_list = []\n",
      "for i in range(1,200):\n",
      "    x = str(i)\n",
      "    if i < 10:\n",
      "        files_list.append(\"Tucker_T000\"+x+\".jpg\")\n",
      "    elif i < 100:\n",
      "        files_list.append(\"Tucker_T00\"+x+\".jpg\")\n",
      "    else:\n",
      "        files_list.append(\"Tucker_T0\"+x+\".jpg\")"
     ],
     "language": "python",
     "metadata": {},
     "outputs": [],
     "prompt_number": 3
    },
    {
     "cell_type": "code",
     "collapsed": false,
     "input": [
      "P = 30\n",
      "tau = 600\n",
      "delta_p = 10\n",
      "movements = tracker(files_list,P,tau,delta_p)"
     ],
     "language": "python",
     "metadata": {},
     "outputs": [],
     "prompt_number": 4
    },
    {
     "cell_type": "code",
     "collapsed": false,
     "input": [
      "np.savetxt(\"milkMovements.dat\", movements, fmt= '%.4f', header=\"Blob Data Set:\\nP=25\\nTau=180\\ndelta_P=50\\n\")"
     ],
     "language": "python",
     "metadata": {},
     "outputs": [],
     "prompt_number": 5
    },
    {
     "cell_type": "code",
     "collapsed": false,
     "input": [
      "DataIn = np.loadtxt('milkMovements.dat')\n",
      "sigma_squared = (((DataIn*0.175*10**(-6))**2).sum())/(2*len(DataIn))\n",
      "print \"Sigma squared is %.4e meters.\" %sigma_squared\n",
      "\n",
      "D = sigma_squared\n",
      "T = 297.\n",
      "n = 9.135*10**-4\n",
      "p = 0.5*10**(-6)\n",
      "\n",
      "k = 6*np.pi*D*n*p/T\n",
      "print \"Blotzmann's constant is estimated to be %.4e.\" %k\n",
      "\n",
      "R =  8.31457\n",
      "NA = R/k\n",
      "print \"Avogadro's number is estimated to be %.4e.\" %NA"
     ],
     "language": "python",
     "metadata": {},
     "outputs": [
      {
       "output_type": "stream",
       "stream": "stdout",
       "text": [
        "Sigma squared is 4.5434e-13 meters.\n",
        "Blotzmann's constant is estimated to be 1.3171e-23.\n",
        "Avogadro's number is estimated to be 6.3130e+23.\n"
       ]
      }
     ],
     "prompt_number": 10
    },
    {
     "cell_type": "code",
     "collapsed": false,
     "input": [],
     "language": "python",
     "metadata": {},
     "outputs": []
    }
   ],
   "metadata": {}
  }
 ]
}