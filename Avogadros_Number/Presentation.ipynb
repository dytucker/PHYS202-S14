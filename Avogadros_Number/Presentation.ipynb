{
 "metadata": {
  "name": "",
  "signature": "sha256:3e33c13cd0cbcf106633a206a83f974a4e0f4b601b493707d2870a53bfb24e4e"
 },
 "nbformat": 3,
 "nbformat_minor": 0,
 "worksheets": [
  {
   "cells": [
    {
     "cell_type": "heading",
     "level": 1,
     "metadata": {},
     "source": [
      "Avogadro's Number Presentation"
     ]
    },
    {
     "cell_type": "heading",
     "level": 2,
     "metadata": {},
     "source": [
      "Dylan Tucker"
     ]
    },
    {
     "cell_type": "markdown",
     "metadata": {},
     "source": [
      "The following code's purpose is to obtain an estimate of Avogadro's number through the observation of Brownian motion of beads in a fluid. This is done by using the equation $D=\\frac{kT}{6\\pi\\eta\\rho}$ where $D$ of obtained by tracking the motion of each bead over a $0.5s$ time period.\n",
      "\n",
      "The Algorythm:\n",
      "\n",
      "1. First, Blobfinder.py is imported\n",
      "    a. Blobfinder.py contains the class Blob which has functions to find the location and mass of each bead\n",
      "2. "
     ]
    },
    {
     "cell_type": "code",
     "collapsed": false,
     "input": [
      "%pylab inline\n",
      "import numpy as np\n",
      "import matplotlib.pyplot as plt\n",
      "from PIL import Image\n",
      "import requests\n",
      "from StringIO import StringIO\n",
      "from Blobfinder import *"
     ],
     "language": "python",
     "metadata": {},
     "outputs": []
    }
   ],
   "metadata": {}
  }
 ]
}