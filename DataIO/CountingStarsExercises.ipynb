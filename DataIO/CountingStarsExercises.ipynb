{
 "metadata": {
  "name": "",
  "signature": "sha256:92e4368cd234660649ca488fe4f13d93d22eeadb5eb8bf8395e6f8dfd633bc0b"
 },
 "nbformat": 3,
 "nbformat_minor": 0,
 "worksheets": [
  {
   "cells": [
    {
     "cell_type": "heading",
     "level": 1,
     "metadata": {},
     "source": [
      "Counting Stars Exercises"
     ]
    },
    {
     "cell_type": "code",
     "collapsed": false,
     "input": [
      "%pylab inline\n",
      "import numpy as np\n",
      "import matplotlib.pyplot as plt\n",
      "from PIL import Image\n",
      "import requests\n",
      "from StringIO import StringIO"
     ],
     "language": "python",
     "metadata": {},
     "outputs": [
      {
       "output_type": "stream",
       "stream": "stdout",
       "text": [
        "Populating the interactive namespace from numpy and matplotlib\n"
       ]
      }
     ],
     "prompt_number": 81
    },
    {
     "cell_type": "markdown",
     "metadata": {},
     "source": [
      "1. Modify the fill function so that it never looks at the same pixel twice. There are at least two ways to do this. Name your new function fastfill. The function prototype might look something like this:\n",
      "def fastfill(picture, xsize, ysize, xstart, ystart):\n",
      "    \"\"\"Faster fill algorithm that doesn't look at any pixel more than once.\"\"\"\n",
      "Be sure to include comments and add detail to the docstring to describe what it is doing."
     ]
    },
    {
     "cell_type": "code",
     "collapsed": false,
     "input": [
      "def fastfill(picture, xsize, ysize, xstart, ystart):\n",
      "    \"\"\"keep a list of pixels that need to be looked at, \n",
      "    but haven't yet been filled in - a list of the (x,y) \n",
      "    coordinates of pixels that are neighbors of ones we have \n",
      "    already examined.  Keep looping until there's nothing \n",
      "    left in this list\"\"\"\n",
      "    queue = [(xstart,ystart)]\n",
      "    #mask added to store checked squares\n",
      "    mask = []\n",
      "    while queue:\n",
      "        x,y,queue = queue[0][0], queue[0][1], queue[1:]\n",
      "        if [x,y] == RED or [x,y] in mask:\n",
      "            pass\n",
      "        else:\n",
      "            if picture[x,y] == BLACK:\n",
      "                picture[x,y] = RED\n",
      "                if x > 0:\n",
      "                    queue.append((x-1,y))\n",
      "                if x < (xsize-1):\n",
      "                    queue.append((x+1,y))\n",
      "                if y > 0:\n",
      "                    queue.append((x, y-1))\n",
      "                if y < (ysize-1):\n",
      "                    queue.append((x, y+1))\n",
      "                #once a square is checked, it is added to mask\n",
      "                mask.append([x,y])"
     ],
     "language": "python",
     "metadata": {},
     "outputs": [],
     "prompt_number": 6
    },
    {
     "cell_type": "markdown",
     "metadata": {},
     "source": [
      "2: Modify your count function to take another argument - which fill function to use - and compare the time it takes to count the stars using the original fill, your improved fastfill, and the recursive recfill."
     ]
    },
    {
     "cell_type": "code",
     "collapsed": false,
     "input": [
      "def monochrome(picture, threshold):\n",
      "    \"\"\"loops over the pixels in the loaded image, \n",
      "    replacing the RGB values of each with either \n",
      "    black or white depending on whether its total \n",
      "    luminance is above or below some threshold \n",
      "    passed in by the user\"\"\"\n",
      "    black = (0, 0, 0)\n",
      "    white = (255, 255, 255)\n",
      "    xsize, ysize = picture.size\n",
      "    temp = picture.load()\n",
      "    for x in range(xsize):\n",
      "        for y in range(ysize):\n",
      "            r,g,b = temp[x,y]\n",
      "            if r+g+b >= threshold: \n",
      "                temp[x,y] = black\n",
      "            else:\n",
      "                temp[x,y] = white"
     ],
     "language": "python",
     "metadata": {},
     "outputs": [],
     "prompt_number": 17
    },
    {
     "cell_type": "code",
     "collapsed": false,
     "input": [
      "BLACK = (0,0,0)\n",
      "RED = (255,0,0)\n",
      "def count(picture, counter):\n",
      "    \"\"\"scan the image top to bottom and left to right using a nested loop.\n",
      "    when black pixel is found, increment the count, then call the fill\n",
      "    function to fill in all the pixels connected to that one.\"\"\"\n",
      "    xsize, ysize = picture.size\n",
      "    temp = picture.load()\n",
      "    result = 0\n",
      "    for x in range(xsize):\n",
      "        for y in range(ysize):\n",
      "            if temp[x,y] == BLACK:\n",
      "                result += 1\n",
      "                counter(temp,xsize,ysize,x,y)\n",
      "    return result"
     ],
     "language": "python",
     "metadata": {},
     "outputs": [],
     "prompt_number": 8
    },
    {
     "cell_type": "code",
     "collapsed": false,
     "input": [
      "def fill(picture, xsize, ysize, xstart, ystart):\n",
      "    \"\"\"keep a list of pixels that need to be looked at, \n",
      "    but haven't yet been filled in - a list of the (x,y) \n",
      "    coordinates of pixels that are neighbors of ones we have \n",
      "    already examined.  Keep looping until there's nothing \n",
      "    left in this list\"\"\"\n",
      "    queue = [(xstart,ystart)]\n",
      "    while queue:\n",
      "        x,y,queue = queue[0][0], queue[0][1], queue[1:]\n",
      "        if picture[x,y] == BLACK:\n",
      "            picture[x,y] = RED\n",
      "            if x > 0:\n",
      "                queue.append((x-1,y))\n",
      "            if x < (xsize-1):\n",
      "                queue.append((x+1,y))\n",
      "            if y > 0:\n",
      "                queue.append((x, y-1))\n",
      "            if y < (ysize-1):\n",
      "                queue.append((x, y+1))"
     ],
     "language": "python",
     "metadata": {},
     "outputs": [],
     "prompt_number": 9
    },
    {
     "cell_type": "code",
     "collapsed": false,
     "input": [
      "def fillrec(picture, xsize, ysize, x, y):\n",
      "    \"\"\"each call to 'fillrec' takes care of one pixel, \n",
      "    then calls 'fillrec' again to take care of the neighbors\"\"\"\n",
      "    if picture[x,y] != BLACK:\n",
      "        return\n",
      "    picture[x,y] = RED\n",
      "    if x > 0:\n",
      "        fillrec(picture, xsize, ysize, x-1, y)\n",
      "    if x < (xsize-1):\n",
      "        fillrec(picture, xsize, ysize, x+1, y)\n",
      "    if y > 0:\n",
      "        fillrec(picture, xsize, ysize, x, y-1)\n",
      "    if y < (ysize-1):\n",
      "        fillrec(picture, xsize, ysize, x, y+1)"
     ],
     "language": "python",
     "metadata": {},
     "outputs": [],
     "prompt_number": 10
    },
    {
     "cell_type": "code",
     "collapsed": false,
     "input": [
      "response = requests.get(\"http://imgsrc.hubblesite.org/hu/db/images/hs-2004-20-a-large_web.jpg\")\n",
      "pic = Image.open(StringIO(response.content))\n",
      "monochrome(pic, 600)"
     ],
     "language": "python",
     "metadata": {},
     "outputs": [],
     "prompt_number": 11
    },
    {
     "cell_type": "code",
     "collapsed": false,
     "input": [
      "count(pic,fill)"
     ],
     "language": "python",
     "metadata": {},
     "outputs": [
      {
       "metadata": {},
       "output_type": "pyout",
       "prompt_number": 12,
       "text": [
        "121"
       ]
      }
     ],
     "prompt_number": 12
    },
    {
     "cell_type": "code",
     "collapsed": false,
     "input": [
      "count(pic,fillrec)"
     ],
     "language": "python",
     "metadata": {},
     "outputs": [
      {
       "metadata": {},
       "output_type": "pyout",
       "prompt_number": 87,
       "text": [
        "121"
       ]
      }
     ],
     "prompt_number": 87
    },
    {
     "cell_type": "code",
     "collapsed": false,
     "input": [
      "count(pic,fastfill)"
     ],
     "language": "python",
     "metadata": {},
     "outputs": [
      {
       "metadata": {},
       "output_type": "pyout",
       "prompt_number": 89,
       "text": [
        "121"
       ]
      }
     ],
     "prompt_number": 89
    },
    {
     "cell_type": "markdown",
     "metadata": {},
     "source": [
      "3: Use the fastest algorithm from question 2 to count the stars above a threshold in all of the images listed at the top of the page. How does the count for each image change if you lower the threshold from 600 to 500? Comment on any changes to the count. Why do they happen?"
     ]
    },
    {
     "cell_type": "code",
     "collapsed": false,
     "input": [
      "response = requests.get(\"http://imgsrc.hubblesite.org/hu/db/images/hs-2004-20-a-large_web.jpg\")\n",
      "pic = Image.open(StringIO(response.content))\n",
      "monochrome(pic, 600)\n",
      "count(pic,fastfill)"
     ],
     "language": "python",
     "metadata": {},
     "outputs": [
      {
       "metadata": {},
       "output_type": "pyout",
       "prompt_number": 70,
       "text": [
        "121"
       ]
      }
     ],
     "prompt_number": 70
    },
    {
     "cell_type": "code",
     "collapsed": false,
     "input": [
      "response = requests.get(\"http://imgsrc.hubblesite.org/hu/db/images/hs-2004-20-a-large_web.jpg\")\n",
      "pic = Image.open(StringIO(response.content))\n",
      "monochrome(pic, 500)\n",
      "count(pic,fill)"
     ],
     "language": "python",
     "metadata": {},
     "outputs": [
      {
       "metadata": {},
       "output_type": "pyout",
       "prompt_number": 71,
       "text": [
        "210"
       ]
      }
     ],
     "prompt_number": 71
    },
    {
     "cell_type": "markdown",
     "metadata": {},
     "source": [
      "The number of stars increases by almost one hundred when the threshold is lowered from 600 to 500. Lowering the threshold allows more points to pass through the black and white filter so it is only natural that lowering the threshold results in a higher star count."
     ]
    },
    {
     "cell_type": "markdown",
     "metadata": {},
     "source": [
      "4: Write a variation on your count function to keep track of the pixels in a given blob and use the brightest pixel in the blob as the \"location\" of the star. Use the data I/O skills we learned to write out a text (not binary) file containing\n",
      "a header which includes\n",
      "the link to the image\n",
      "the threshold value used in the conversion to monochrome\n",
      "the algorithm used to count its stars\n",
      "how fast it processed the image\n",
      "how many stars were found\n",
      "a description of the data in the subsequent columns\n",
      "a list of the star data organized in three columns and formatted for easy reading as follows:\n",
      "location (x,y in pixel units)\n",
      "maximum brightness value for the star\n",
      "Apply your function to the six images at the top of the page."
     ]
    },
    {
     "cell_type": "code",
     "collapsed": false,
     "input": [
      "def brightest(picture):\n",
      "    \"\"\"add up each pixel's color values \n",
      "    to approximate its overall luminance\"\"\"\n",
      "    xsize, ysize = picture.size\n",
      "    bx, by, max_val = 0, 0, 0\n",
      "    for x in range(xsize):\n",
      "        for y in range(ysize):\n",
      "            r,g,b = pic.getpixel((x,y))\n",
      "            if r+g+b > max_val:\n",
      "                bx, by, max_val = x, y, r+g+b\n",
      "    return (bx, by), max_val"
     ],
     "language": "python",
     "metadata": {},
     "outputs": [],
     "prompt_number": 72
    },
    {
     "cell_type": "code",
     "collapsed": false,
     "input": [
      "def monochrome_pixel(picture, xcord, ycord):\n",
      "    \"\"\"replaces the RGB values of desired pixel with either \n",
      "    black or white depending on whether its total \n",
      "    luminance is above or below some threshold \n",
      "    passed in by the user\"\"\"\n",
      "    black = (0, 0, 0)\n",
      "    white = (255, 255, 255)\n",
      "    temp = picture.load()\n",
      "    r,g,b = temp[x,y]\n",
      "    if r+g+b >= threshold: \n",
      "        temp[x,y] = black\n",
      "    else:\n",
      "        temp[x,y] = white"
     ],
     "language": "python",
     "metadata": {},
     "outputs": [],
     "prompt_number": 73
    },
    {
     "cell_type": "markdown",
     "metadata": {},
     "source": [
      "Here's the algorythm:\n",
      "Define black and white.\n",
      "Get two coppies of the picture: to turn it b/w and one to check the brightness of pixels\n",
      "run regular count and fill algorythm on b/w pic\n",
      "run modified count/fill algorythm on color pic"
     ]
    },
    {
     "cell_type": "code",
     "collapsed": false,
     "input": [
      "def monochrome(picture, threshold):\n",
      "    \"\"\"loops over the pixels in the loaded image, \n",
      "    replacing the RGB values of each with either \n",
      "    black or white depending on whether its total \n",
      "    luminance is above or below some threshold \n",
      "    passed in by the user\"\"\"\n",
      "    black = (0, 0, 0)\n",
      "    white = (255, 255, 255)\n",
      "    xsize, ysize = picture.size\n",
      "    temp = picture.load()\n",
      "    for x in range(xsize):\n",
      "        for y in range(ysize):\n",
      "            r,g,b = temp[x,y]\n",
      "            if r+g+b >= threshold: \n",
      "                temp[x,y] = black\n",
      "            else:\n",
      "                temp[x,y] = white"
     ],
     "language": "python",
     "metadata": {},
     "outputs": [],
     "prompt_number": 61
    },
    {
     "cell_type": "code",
     "collapsed": false,
     "input": [
      "def fill_and_find(picture, color_mask, xsize, ysize, xstart, ystart, threshold):\n",
      "    \"\"\"keep a list of pixels that need to be looked at, \n",
      "    but haven't yet been filled in - a list of the (x,y) \n",
      "    coordinates of pixels that are neighbors of ones we have \n",
      "    already examined.  Keep looping until there's nothing \n",
      "    left in this list\"\"\"\n",
      "    queue = [(xstart,ystart)]\n",
      "    brightest_point = [xstart,ystart]\n",
      "    brightness = sum(color_mask[xstart,ystart])\n",
      "    while queue:\n",
      "        x,y,queue = queue[0][0], queue[0][1], queue[1:]\n",
      "        if picture[x,y] == BLACK:\n",
      "            if sum(color_mask[x,y]) > brightness:\n",
      "                brightest_point = [x,y]\n",
      "                brightness = sum(color_mask[x,y])\n",
      "            picture[x,y] = RED\n",
      "            if x > 0:\n",
      "                queue.append((x-1,y))\n",
      "            if x < (xsize-1):\n",
      "                queue.append((x+1,y))\n",
      "            if y > 0:\n",
      "                queue.append((x, y-1))\n",
      "            if y < (ysize-1):\n",
      "                queue.append((x, y+1))\n",
      "    brightest_point.append(brightness)\n",
      "    return brightest_point"
     ],
     "language": "python",
     "metadata": {},
     "outputs": [],
     "prompt_number": 85
    },
    {
     "cell_type": "code",
     "collapsed": false,
     "input": [
      "def count_location(bw_picture, color_picture, filler, threshold):\n",
      "    \"\"\"scan the image top to bottom and left to right using a nested loop.\n",
      "    when black pixel is found, increment the count, then call the fill\n",
      "    function to fill in all the pixels connected to that one.\"\"\"\n",
      "    BLACK = (0,0,0)\n",
      "    RED = (255,0,0)\n",
      "    WHITE = (255,255,255)\n",
      "    xsize, ysize = bw_picture.size\n",
      "    color_mask = color_picture.load()\n",
      "    #test code\n",
      "    print sum(color_mask[100,200])\n",
      "    #test\n",
      "    #monochrome(picture,threshold)\n",
      "    #temp contains set of all points and their b/w color value\n",
      "    monochrome(bw_picture,threshold)\n",
      "    temp = bw_picture.load()\n",
      "    #test code\n",
      "    print sum(color_mask[100,200])\n",
      "    print sum(temp[100,200])\n",
      "    #test\n",
      "    result = 0\n",
      "    locations_and_brightness = []\n",
      "    for x in range(xsize):\n",
      "        for y in range(ysize):\n",
      "            if temp[x,y] == BLACK:\n",
      "                result += 1\n",
      "                locations_and_brightness.append(filler(temp, color_mask, xsize,ysize,x,y, threshold))\n",
      "    return result, locations_and_brightness"
     ],
     "language": "python",
     "metadata": {},
     "outputs": [],
     "prompt_number": 109
    },
    {
     "cell_type": "code",
     "collapsed": false,
     "input": [
      "%pylab inline\n",
      "import numpy as np\n",
      "import matplotlib.pyplot as plt\n",
      "from PIL import Image\n",
      "import requests\n",
      "from StringIO import StringIO\n",
      "\n",
      "response = requests.get(\"http://imgsrc.hubblesite.org/hu/db/images/hs-2004-20-a-large_web.jpg\")\n",
      "bw_pic = Image.open(StringIO(response.content))\n",
      "col_pic = Image.open(StringIO(response.content))\n",
      "BLACK = (0,0,0)\n",
      "RED = (255,0,0)\n",
      "a,b = count_location(bw_pic, col_pic, fill_and_find, 600)"
     ],
     "language": "python",
     "metadata": {},
     "outputs": [
      {
       "output_type": "stream",
       "stream": "stdout",
       "text": [
        "Populating the interactive namespace from numpy and matplotlib\n",
        "93"
       ]
      },
      {
       "output_type": "stream",
       "stream": "stdout",
       "text": [
        "\n",
        "93"
       ]
      },
      {
       "output_type": "stream",
       "stream": "stdout",
       "text": [
        "\n",
        "765\n"
       ]
      }
     ],
     "prompt_number": 117
    },
    {
     "cell_type": "code",
     "collapsed": false,
     "input": [
      "print a\n",
      "print len(b)"
     ],
     "language": "python",
     "metadata": {},
     "outputs": [
      {
       "output_type": "stream",
       "stream": "stdout",
       "text": [
        "121\n",
        "121\n"
       ]
      }
     ],
     "prompt_number": 114
    },
    {
     "cell_type": "code",
     "collapsed": false,
     "input": [
      "header_string = \"The image we counted is from http://imgsrc.hubblesite.org/hu/db/images/hs-2004-20-a-large_web.jpg.\\nThe threshold value when converting to monochrome used was 600.\\nThe algorythm was to:\\n1. Get two coppies of the image.\\n2. Pass the image into the count_location function.\\n3. Store the image as color and as black and white in two seperate variables.\\n4. Loop over all points of black and white image.\\n5. If black pixel is encounter, incriment count by one and turn all connecting black pixels red.\\n6. While turnign pixels black, check their brightness on the color copy of the image.\\n7. If a pixel is brighter than brightesst pixel, brightest pixel = new pixel.\\n8. Return number of stars and list of brightest point in each star.\\nThe program takes 1.7 seconds to run.\\n121 stars were found.\\nThe data in the columns is organized as follows:\\n    x,y coordinates of brightest pixel in star. Brightnes of star.\""
     ],
     "language": "python",
     "metadata": {},
     "outputs": [],
     "prompt_number": 115
    },
    {
     "cell_type": "raw",
     "metadata": {},
     "source": [
      "np.savetxt('star_locations', fmt='', header=header_string)"
     ]
    },
    {
     "cell_type": "code",
     "collapsed": false,
     "input": [
      "print header_string"
     ],
     "language": "python",
     "metadata": {},
     "outputs": [
      {
       "output_type": "stream",
       "stream": "stdout",
       "text": [
        "The image we counted is from http://imgsrc.hubblesite.org/hu/db/images/hs-2004-20-a-large_web.jpg.\n",
        "The threshold value when converting to monochrome used was 600.\n",
        "The algorythm was to:\n",
        "1. Get two coppies of the image.\n",
        "2. Pass the image into the count_location function.\n",
        "3. Store the image as color and as black and white in two seperate variables.\n",
        "4. Loop over all points of black and white image.\n",
        "5. If black pixel is encounter, incriment count by one and turn all connecting black pixels red.\n",
        "6. While turnign pixels black, check their brightness on the color copy of the image.\n",
        "7. If a pixel is brighter than brightesst pixel, brightest pixel = new pixel.\n",
        "8. Return number of stars and list of brightest point in each star.\n",
        "The program takes 1.7 seconds to run.\n",
        "121 stars were found.\n",
        "The data in the columns is organized as follows:\n",
        "    x,y coordinates of brightest pixel in star. Brightnes of star.\n"
       ]
      }
     ],
     "prompt_number": 116
    },
    {
     "cell_type": "code",
     "collapsed": false,
     "input": [],
     "language": "python",
     "metadata": {},
     "outputs": []
    }
   ],
   "metadata": {}
  }
 ]
}