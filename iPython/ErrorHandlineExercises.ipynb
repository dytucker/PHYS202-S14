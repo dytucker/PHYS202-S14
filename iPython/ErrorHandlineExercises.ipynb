{
 "metadata": {
  "name": "",
  "signature": "sha256:36f40cc3242f7be8f3da83e2f7ecc01679f83784f8c25ac59afb322ebefaaddf"
 },
 "nbformat": 3,
 "nbformat_minor": 0,
 "worksheets": [
  {
   "cells": [
    {
     "cell_type": "heading",
     "level": 1,
     "metadata": {},
     "source": [
      "Error Handling Exercises"
     ]
    },
    {
     "cell_type": "code",
     "collapsed": false,
     "input": [
      "%pylab inline"
     ],
     "language": "python",
     "metadata": {},
     "outputs": [
      {
       "output_type": "stream",
       "stream": "stdout",
       "text": [
        "Populating the interactive namespace from numpy and matplotlib\n"
       ]
      }
     ],
     "prompt_number": 1
    },
    {
     "cell_type": "markdown",
     "metadata": {},
     "source": [
      "1 . Find a partner. Choose a driver and a navigator. The driver should copy their Battleship code to a cell in the driver's ErrorHandlingExercises notebook. The driver should explain to the navigator the basics of how their program works. Work together to add some error handling to the program. Include a markdown cell identifying the driver and navigator. When you are done, switch roles and let the navigator be the driver and vice versa. At the end you should both have a Battleship program that includes some error handling."
     ]
    },
    {
     "cell_type": "code",
     "collapsed": false,
     "input": [
      "from ipythonblocks import BlockGrid\n",
      "from random import randint\n",
      "from time import sleep\n",
      "\n",
      "\n",
      "\n",
      "def len_check(length):\n",
      "    if length < 2:\n",
      "        raise ValueError(\"Board is too short\")\n",
      "        \n",
      "def tries_check(tries):\n",
      "    if tries < 1:\n",
      "        raise ValueError(\"You need at least one try to play.\")\n",
      "    \n",
      "def ship_check(ship_len,len_board):\n",
      "    if ship_len > len_board:\n",
      "        raise ValueError(\"Your ship is larger than the ocean!\")\n",
      "    elif ship_len < 1:\n",
      "        raise ValueError(\"...there's no ship.\")\n",
      "\n",
      "#define the length/width of square board\n",
      "len_board = int(raw_input(\"How long and wide would you like the board?:\"))\n",
      "len_check(len_board)\n",
      "\n",
      "#create board to store previous guesses\n",
      "guesses = []\n",
      "for i in range(len_board):\n",
      "    guesses.append([\"O\"] * len_board)\n",
      "\n",
      "\n",
      "#initialize number of tries\n",
      "tries_num = int(raw_input(\"How many tries would you like?:\"))\n",
      "tries_check(tries_num)\n",
      "    \n",
      "#initialize board to 'light blue'\n",
      "board = BlockGrid(len_board, len_board , fill = (32, 178, 170))\n",
      "\n",
      "\n",
      "#place a ship of length specified by user in random location in random orientation\n",
      "ship_len = int(raw_input(\"How big do you want your ship?:\"))\n",
      "ship_check(ship_len,len_board)\n",
      "\n",
      "orient = randint(0,2)\n",
      "def random_row(board, ship_len):\n",
      "    return randint(0, len_board - ship_len)\n",
      "def random_col(board, ship_len):\n",
      "    return randint(0, len_board - ship_len)\n",
      "row_not = random_row(board, ship_len)\n",
      "col_not = random_row(board, ship_len)\n",
      "\n",
      "\n",
      "if orient == 0:\n",
      "    ship_row = [row_not + x for x in range(ship_len)]\n",
      "    ship_col = col_not\n",
      "    \n",
      "else:\n",
      "    ship_row = row_not\n",
      "    ship_col = [col_not + x for x in range(ship_len)]\n",
      "\n",
      "\n",
      "#start game and display completely blue board\n",
      "print \"Let's play Battleship!\"\n",
      "board.show()\n",
      "print \"You've got \" + str(tries_num) + \" tries, so make them count.\"\n",
      "\n",
      "#initialize hit counter\n",
      "hits = 0\n",
      "\n",
      "for turn in range(tries_num + 1):\n",
      "    if turn == tries_num:\n",
      "            print \"Game Over\"\n",
      "            break\n",
      "    print \"Turn\", turn + 1\n",
      "    #prompt user for guess\n",
      "    guess_row = int(raw_input(\"Guess Row:\"))\n",
      "    guess_col = int(raw_input(\"Guess Col:\"))\n",
      "    #adjust for base 0 of code\n",
      "    guess_row -= 1\n",
      "    guess_col -= 1\n",
      "    \n",
      "    \n",
      "    if orient == 0:\n",
      "        #if guess is correct, color board red, congragulate user, end game\n",
      "        if guess_row in ship_row and guess_col == ship_col:\n",
      "            board[guess_row, guess_col] = (255, 0, 0)\n",
      "            print \"Nice hit!\"\n",
      "            hits += 1\n",
      "            board.show()\n",
      "            #if whole shipt is red, end game\n",
      "            if hits == ship_len:\n",
      "                print \"You sunk my ship... Why would you do that?!?!?!\"\n",
      "                sleep(2)\n",
      "                print \"I hade one last payment on that, ya know?\"\n",
      "                sleep(2)\n",
      "                print \"And you just sink it for no reason?\"\n",
      "                sleep(4)\n",
      "                print \"Ya know what, I'm over it.\"\n",
      "                sleep(10)\n",
      "                print \"Fine! I'm not over it!\"\n",
      "                print \"I'll be okay after some doughnuts.\"\n",
      "                sleep(3)\n",
      "                print \"Wanna go grab some doughnuts?\"\n",
      "                break\n",
      "        else:\n",
      "            #check if guess is on the board\n",
      "            if (guess_row < 0 or guess_row > len_board - 1) or (guess_col < 0 or guess_col > len_board - 1):\n",
      "                print \"Oops, that's not even in the ocean.\"\n",
      "                board.show()\n",
      "            #check if spot has been guessed already\n",
      "            elif guesses[guess_row][guess_col] == \"x\":\n",
      "                print \"You guessed that one already.\"\n",
      "                board.show()\n",
      "            else:\n",
      "            #mark the board with the miss. miss color = black = (0,0,0)\n",
      "                guesses[guess_row][guess_col] = \"x\"\n",
      "                print \"You missed my battleship!\"\n",
      "                board[guess_row, guess_col] = (0,0,0)\n",
      "                board.show()\n",
      "    else:\n",
      "        #if guess is correct, color board red, congragulate user\n",
      "        if guess_row == ship_row and guess_col in ship_col:\n",
      "            board[guess_row, guess_col] = (255, 0, 0)\n",
      "            print \"Nice hit!\"\n",
      "            hits += 1\n",
      "            board.show()\n",
      "            #if whole shipt is red, end game\n",
      "            if hits == ship_len:\n",
      "                print \"You sunk my ship... Why would you do that?!?!?!\"\n",
      "                sleep(2)\n",
      "                print \"I hade one last payment on that, ya know?\"\n",
      "                sleep(2)\n",
      "                print \"And you just sink it for no reason?\"\n",
      "                sleep(4)\n",
      "                print \"Ya know what, I'm over it.\"\n",
      "                sleep(10)\n",
      "                print \"Fine! I'm not over it!\"\n",
      "                print \"I'll be okay after some doughnuts.\"\n",
      "                sleep(3)\n",
      "                print \"Wanna go grab some doughnuts?\"\n",
      "                break\n",
      "        else:\n",
      "            #check if guess is on the board\n",
      "            if (guess_row < 0 or guess_row > len_board - 1) or (guess_col < 0 or guess_col > len_board - 1):\n",
      "                print \"Oops, that's not even in the ocean.\"\n",
      "                board.show()\n",
      "            #check if spot has been guessed already\n",
      "            elif guesses[guess_row][guess_col] == \"x\":\n",
      "                print \"You guessed that one already.\"\n",
      "                board.show()\n",
      "            else:\n",
      "            #mark the board with the miss. miss color = black = (0,0,0)\n",
      "                guesses[guess_row][guess_col] = \"x\"\n",
      "                print \"You missed my battleship!\"\n",
      "                board[guess_row, guess_col] = (0,0,0)\n",
      "                board.show()\n",
      "\n",
      "if orient == 0:\n",
      "    for i in range(ship_len):\n",
      "        board[i+row_not, col_not] = (255,67,102)\n",
      "else:\n",
      "    for i in range(ship_len):\n",
      "        board[row_not, col_not + i] = (255,67,102)\n",
      "print \"Here's where the ship is\"\n",
      "board.show()"
     ],
     "language": "python",
     "metadata": {},
     "outputs": []
    },
    {
     "cell_type": "markdown",
     "metadata": {},
     "source": [
      "Driver: Dylan Tucker\n",
      "Navigator: Cameron Allen"
     ]
    },
    {
     "cell_type": "markdown",
     "metadata": {},
     "source": [
      "2 . Here is a function which takes a filename, opens the file, reads the result, closes the file, and returns the contents. It should look something like this:\n",
      "\n"
     ]
    },
    {
     "cell_type": "markdown",
     "metadata": {},
     "source": [
      "def read_all_from_file(filename):\n",
      "    f = open(filename)\n",
      "    contents = f.read()\n",
      "    f.close()\n",
      "    return contents"
     ]
    },
    {
     "cell_type": "markdown",
     "metadata": {},
     "source": [
      "Use runtime error handling concepts to improve this function, so that it does the following:\n",
      "\n",
      "raises an informative custom error if the file doesn't exist\n",
      "\n",
      "uses try, except, else, and/or finally to safely return the file's contents & close the file if necessary.\n",
      "\n",
      "add a keyword safe which defaults to False. If the function is called with safe=True, then return an empty string if the file doesn't exist."
     ]
    },
    {
     "cell_type": "code",
     "collapsed": false,
     "input": [
      "def read_all_from_file(filename, safe=False):\n",
      "    try:\n",
      "        f = open(filename)\n",
      "    except:\n",
      "        if safe == True:\n",
      "            return ''\n",
      "        raise IOError(\"It appears the file does not exist.\")\n",
      "    f = open(filename)\n",
      "    contents = f.read()\n",
      "    f.close()\n",
      "    return contents"
     ],
     "language": "python",
     "metadata": {},
     "outputs": [],
     "prompt_number": 30
    },
    {
     "cell_type": "code",
     "collapsed": false,
     "input": [
      "read_all_from_file('temp.txt', True)"
     ],
     "language": "python",
     "metadata": {},
     "outputs": [
      {
       "metadata": {},
       "output_type": "pyout",
       "prompt_number": 33,
       "text": [
        "''"
       ]
      }
     ],
     "prompt_number": 33
    },
    {
     "cell_type": "code",
     "collapsed": false,
     "input": [
      "x = 2\n",
      "try:\n",
      "    print x/0\n",
      "except:\n",
      "    print x/0"
     ],
     "language": "python",
     "metadata": {},
     "outputs": [
      {
       "ename": "ZeroDivisionError",
       "evalue": "integer division or modulo by zero",
       "output_type": "pyerr",
       "traceback": [
        "\u001b[1;31m---------------------------------------------------------------------------\u001b[0m\n\u001b[1;31mZeroDivisionError\u001b[0m                         Traceback (most recent call last)",
        "\u001b[1;32m<ipython-input-7-ae45d4b3f281>\u001b[0m in \u001b[0;36m<module>\u001b[1;34m()\u001b[0m\n\u001b[0;32m      3\u001b[0m     \u001b[1;32mprint\u001b[0m \u001b[0mx\u001b[0m\u001b[1;33m/\u001b[0m\u001b[1;36m0\u001b[0m\u001b[1;33m\u001b[0m\u001b[0m\n\u001b[0;32m      4\u001b[0m \u001b[1;32mexcept\u001b[0m\u001b[1;33m:\u001b[0m\u001b[1;33m\u001b[0m\u001b[0m\n\u001b[1;32m----> 5\u001b[1;33m     \u001b[1;32mprint\u001b[0m \u001b[0mx\u001b[0m\u001b[1;33m/\u001b[0m\u001b[1;36m0\u001b[0m\u001b[1;33m\u001b[0m\u001b[0m\n\u001b[0m",
        "\u001b[1;31mZeroDivisionError\u001b[0m: integer division or modulo by zero"
       ]
      }
     ],
     "prompt_number": 7
    },
    {
     "cell_type": "code",
     "collapsed": false,
     "input": [
      "x = 2\n",
      "try:\n",
      "    x/0\n",
      "except:\n",
      "    print x"
     ],
     "language": "python",
     "metadata": {},
     "outputs": [
      {
       "output_type": "stream",
       "stream": "stdout",
       "text": [
        "2\n"
       ]
      }
     ],
     "prompt_number": 9
    },
    {
     "cell_type": "code",
     "collapsed": false,
     "input": [],
     "language": "python",
     "metadata": {},
     "outputs": []
    }
   ],
   "metadata": {}
  }
 ]
}