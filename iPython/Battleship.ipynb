{
 "metadata": {
  "name": "",
  "signature": "sha256:440cfc7b1b2a438fd7279f697ce5cae2d6320147f3d499e3dc1e4a9d724268a7"
 },
 "nbformat": 3,
 "nbformat_minor": 0,
 "worksheets": [
  {
   "cells": [
    {
     "cell_type": "heading",
     "level": 1,
     "metadata": {},
     "source": [
      "Dylan's Battleship"
     ]
    },
    {
     "cell_type": "code",
     "collapsed": false,
     "input": [
      "from ipythonblocks import BlockGrid"
     ],
     "language": "python",
     "metadata": {},
     "outputs": [],
     "prompt_number": 2
    },
    {
     "cell_type": "code",
     "collapsed": false,
     "input": [
      "from ipythonblocks import BlockGrid\n",
      "from random import randint\n",
      "\n",
      "#define the length/width of square board\n",
      "len_board = 5\n",
      "\n",
      "#initialize board to 'light blue'\n",
      "board = BlockGrid(len_board, len_board , fill = (32, 178, 170))\n",
      "\n",
      "#start game and display completely blue board\n",
      "print \"Let's play Battleship!\"\n",
      "board.show()\n",
      "\n",
      "#place a ship in random location\n",
      "def random_row(board):\n",
      "    return randint(0, len_board - 1)\n",
      "\n",
      "def random_col(board):\n",
      "    return randint(0, len_board - 1)\n",
      "\n",
      "ship_row = random_row(len_board)\n",
      "ship_col = random_col(len_board)\n",
      "#print ship_row\n",
      "#print ship_col\n",
      "#these are to test\n",
      "print ship_row\n",
      "print ship_col\n",
      "\n",
      "\n",
      "\n",
      "for turn in range(3):\n",
      "    #prompt user for guess\n",
      "    guess_row = int(raw_input(\"Guess Row:\"))\n",
      "    guess_col = int(raw_input(\"Guess Col:\"))\n",
      "    #adjust for base 0 of code\n",
      "    guess_row -= 1\n",
      "    guess_col -= 1\n",
      "    #incriment turn counter (possibly)\n",
      "    #turn +=1\n",
      "    #if guess is correct, color board red, congragulate user, end game\n",
      "    if guess_row == ship_row and guess_col == ship_col:\n",
      "        board[ship_row, ship_col] = (255, 0, 0)\n",
      "        print \"Congratulations! You sunk my battleship!\"\n",
      "        board.show()\n",
      "        break\n",
      "    else:\n",
      "        #check if guess is on the board\n",
      "        if (guess_row < 0 or guess_row > 4) or (guess_col < 0 or guess_col > 4):\n",
      "            print \"Oops, that's not even in the ocean.\"\n",
      "        #check if spot has been guessed already\n",
      "        elif(board[guess_row, guess_col] == (0,0,0)):\n",
      "            print \"You guessed that one already.\"\n",
      "        else:\n",
      "        #mark the board with the miss. miss color = white = (0,0,0)\n",
      "            print \"You missed my battleship!\"\n",
      "            board[guess_row][guess_col] = \"X\"\n",
      "    if turn == 3:\n",
      "        print \"Game Over\"\n",
      "    # Print (turn + 1) here!\n",
      "        print_board(board)\n",
      "    print \"Turn\", turn + 1 "
     ],
     "language": "python",
     "metadata": {},
     "outputs": [
      {
       "output_type": "stream",
       "stream": "stdout",
       "text": [
        "Let's play Battleship!\n"
       ]
      },
      {
       "html": [
        "<style type=\"text/css\">table.blockgrid {border: none;} .blockgrid tr {border: none;} .blockgrid td {padding: 0px;} #blocksb344fc3f-9154-45cf-813a-6875dbe161ad td {border: 1px solid white;}</style><table id=\"blocksb344fc3f-9154-45cf-813a-6875dbe161ad\" class=\"blockgrid\"><tbody><tr><td title=\"Index: [0, 0]&#10;Color: (32, 178, 170)\" style=\"width: 20px; height: 20px;background-color: rgb(32, 178, 170);\"></td><td title=\"Index: [0, 1]&#10;Color: (32, 178, 170)\" style=\"width: 20px; height: 20px;background-color: rgb(32, 178, 170);\"></td><td title=\"Index: [0, 2]&#10;Color: (32, 178, 170)\" style=\"width: 20px; height: 20px;background-color: rgb(32, 178, 170);\"></td><td title=\"Index: [0, 3]&#10;Color: (32, 178, 170)\" style=\"width: 20px; height: 20px;background-color: rgb(32, 178, 170);\"></td><td title=\"Index: [0, 4]&#10;Color: (32, 178, 170)\" style=\"width: 20px; height: 20px;background-color: rgb(32, 178, 170);\"></td></tr><tr><td title=\"Index: [1, 0]&#10;Color: (32, 178, 170)\" style=\"width: 20px; height: 20px;background-color: rgb(32, 178, 170);\"></td><td title=\"Index: [1, 1]&#10;Color: (32, 178, 170)\" style=\"width: 20px; height: 20px;background-color: rgb(32, 178, 170);\"></td><td title=\"Index: [1, 2]&#10;Color: (32, 178, 170)\" style=\"width: 20px; height: 20px;background-color: rgb(32, 178, 170);\"></td><td title=\"Index: [1, 3]&#10;Color: (32, 178, 170)\" style=\"width: 20px; height: 20px;background-color: rgb(32, 178, 170);\"></td><td title=\"Index: [1, 4]&#10;Color: (32, 178, 170)\" style=\"width: 20px; height: 20px;background-color: rgb(32, 178, 170);\"></td></tr><tr><td title=\"Index: [2, 0]&#10;Color: (32, 178, 170)\" style=\"width: 20px; height: 20px;background-color: rgb(32, 178, 170);\"></td><td title=\"Index: [2, 1]&#10;Color: (32, 178, 170)\" style=\"width: 20px; height: 20px;background-color: rgb(32, 178, 170);\"></td><td title=\"Index: [2, 2]&#10;Color: (32, 178, 170)\" style=\"width: 20px; height: 20px;background-color: rgb(32, 178, 170);\"></td><td title=\"Index: [2, 3]&#10;Color: (32, 178, 170)\" style=\"width: 20px; height: 20px;background-color: rgb(32, 178, 170);\"></td><td title=\"Index: [2, 4]&#10;Color: (32, 178, 170)\" style=\"width: 20px; height: 20px;background-color: rgb(32, 178, 170);\"></td></tr><tr><td title=\"Index: [3, 0]&#10;Color: (32, 178, 170)\" style=\"width: 20px; height: 20px;background-color: rgb(32, 178, 170);\"></td><td title=\"Index: [3, 1]&#10;Color: (32, 178, 170)\" style=\"width: 20px; height: 20px;background-color: rgb(32, 178, 170);\"></td><td title=\"Index: [3, 2]&#10;Color: (32, 178, 170)\" style=\"width: 20px; height: 20px;background-color: rgb(32, 178, 170);\"></td><td title=\"Index: [3, 3]&#10;Color: (32, 178, 170)\" style=\"width: 20px; height: 20px;background-color: rgb(32, 178, 170);\"></td><td title=\"Index: [3, 4]&#10;Color: (32, 178, 170)\" style=\"width: 20px; height: 20px;background-color: rgb(32, 178, 170);\"></td></tr><tr><td title=\"Index: [4, 0]&#10;Color: (32, 178, 170)\" style=\"width: 20px; height: 20px;background-color: rgb(32, 178, 170);\"></td><td title=\"Index: [4, 1]&#10;Color: (32, 178, 170)\" style=\"width: 20px; height: 20px;background-color: rgb(32, 178, 170);\"></td><td title=\"Index: [4, 2]&#10;Color: (32, 178, 170)\" style=\"width: 20px; height: 20px;background-color: rgb(32, 178, 170);\"></td><td title=\"Index: [4, 3]&#10;Color: (32, 178, 170)\" style=\"width: 20px; height: 20px;background-color: rgb(32, 178, 170);\"></td><td title=\"Index: [4, 4]&#10;Color: (32, 178, 170)\" style=\"width: 20px; height: 20px;background-color: rgb(32, 178, 170);\"></td></tr></tbody></table>"
       ],
       "metadata": {},
       "output_type": "display_data",
       "text": [
        "<IPython.core.display.HTML at 0x3bc5dd8>"
       ]
      },
      {
       "output_type": "stream",
       "stream": "stdout",
       "text": [
        "2\n",
        "4\n"
       ]
      },
      {
       "name": "stdout",
       "output_type": "stream",
       "stream": "stdout",
       "text": [
        "Guess Row:2\n"
       ]
      },
      {
       "name": "stdout",
       "output_type": "stream",
       "stream": "stdout",
       "text": [
        "Guess Col:4\n"
       ]
      },
      {
       "output_type": "stream",
       "stream": "stdout",
       "text": [
        "Congratulations! You sunk my battleship!\n"
       ]
      },
      {
       "html": [
        "<style type=\"text/css\">table.blockgrid {border: none;} .blockgrid tr {border: none;} .blockgrid td {padding: 0px;} #blocks87918128-c0fd-4349-af80-0d62ee9f2773 td {border: 1px solid white;}</style><table id=\"blocks87918128-c0fd-4349-af80-0d62ee9f2773\" class=\"blockgrid\"><tbody><tr><td title=\"Index: [0, 0]&#10;Color: (32, 178, 170)\" style=\"width: 20px; height: 20px;background-color: rgb(32, 178, 170);\"></td><td title=\"Index: [0, 1]&#10;Color: (32, 178, 170)\" style=\"width: 20px; height: 20px;background-color: rgb(32, 178, 170);\"></td><td title=\"Index: [0, 2]&#10;Color: (32, 178, 170)\" style=\"width: 20px; height: 20px;background-color: rgb(32, 178, 170);\"></td><td title=\"Index: [0, 3]&#10;Color: (32, 178, 170)\" style=\"width: 20px; height: 20px;background-color: rgb(32, 178, 170);\"></td><td title=\"Index: [0, 4]&#10;Color: (32, 178, 170)\" style=\"width: 20px; height: 20px;background-color: rgb(32, 178, 170);\"></td></tr><tr><td title=\"Index: [1, 0]&#10;Color: (32, 178, 170)\" style=\"width: 20px; height: 20px;background-color: rgb(32, 178, 170);\"></td><td title=\"Index: [1, 1]&#10;Color: (32, 178, 170)\" style=\"width: 20px; height: 20px;background-color: rgb(32, 178, 170);\"></td><td title=\"Index: [1, 2]&#10;Color: (32, 178, 170)\" style=\"width: 20px; height: 20px;background-color: rgb(32, 178, 170);\"></td><td title=\"Index: [1, 3]&#10;Color: (32, 178, 170)\" style=\"width: 20px; height: 20px;background-color: rgb(32, 178, 170);\"></td><td title=\"Index: [1, 4]&#10;Color: (32, 178, 170)\" style=\"width: 20px; height: 20px;background-color: rgb(32, 178, 170);\"></td></tr><tr><td title=\"Index: [2, 0]&#10;Color: (32, 178, 170)\" style=\"width: 20px; height: 20px;background-color: rgb(32, 178, 170);\"></td><td title=\"Index: [2, 1]&#10;Color: (32, 178, 170)\" style=\"width: 20px; height: 20px;background-color: rgb(32, 178, 170);\"></td><td title=\"Index: [2, 2]&#10;Color: (32, 178, 170)\" style=\"width: 20px; height: 20px;background-color: rgb(32, 178, 170);\"></td><td title=\"Index: [2, 3]&#10;Color: (32, 178, 170)\" style=\"width: 20px; height: 20px;background-color: rgb(32, 178, 170);\"></td><td title=\"Index: [2, 4]&#10;Color: (255, 0, 0)\" style=\"width: 20px; height: 20px;background-color: rgb(255, 0, 0);\"></td></tr><tr><td title=\"Index: [3, 0]&#10;Color: (32, 178, 170)\" style=\"width: 20px; height: 20px;background-color: rgb(32, 178, 170);\"></td><td title=\"Index: [3, 1]&#10;Color: (32, 178, 170)\" style=\"width: 20px; height: 20px;background-color: rgb(32, 178, 170);\"></td><td title=\"Index: [3, 2]&#10;Color: (32, 178, 170)\" style=\"width: 20px; height: 20px;background-color: rgb(32, 178, 170);\"></td><td title=\"Index: [3, 3]&#10;Color: (32, 178, 170)\" style=\"width: 20px; height: 20px;background-color: rgb(32, 178, 170);\"></td><td title=\"Index: [3, 4]&#10;Color: (32, 178, 170)\" style=\"width: 20px; height: 20px;background-color: rgb(32, 178, 170);\"></td></tr><tr><td title=\"Index: [4, 0]&#10;Color: (32, 178, 170)\" style=\"width: 20px; height: 20px;background-color: rgb(32, 178, 170);\"></td><td title=\"Index: [4, 1]&#10;Color: (32, 178, 170)\" style=\"width: 20px; height: 20px;background-color: rgb(32, 178, 170);\"></td><td title=\"Index: [4, 2]&#10;Color: (32, 178, 170)\" style=\"width: 20px; height: 20px;background-color: rgb(32, 178, 170);\"></td><td title=\"Index: [4, 3]&#10;Color: (32, 178, 170)\" style=\"width: 20px; height: 20px;background-color: rgb(32, 178, 170);\"></td><td title=\"Index: [4, 4]&#10;Color: (32, 178, 170)\" style=\"width: 20px; height: 20px;background-color: rgb(32, 178, 170);\"></td></tr></tbody></table>"
       ],
       "metadata": {},
       "output_type": "display_data",
       "text": [
        "<IPython.core.display.HTML at 0x3bd3a20>"
       ]
      }
     ],
     "prompt_number": 2
    },
    {
     "cell_type": "code",
     "collapsed": false,
     "input": [
      "from random import randint\n",
      "\n",
      "board = []\n",
      "\n",
      "for x in range(5):\n",
      "    board.append([\"O\"] * 5)\n",
      "\n",
      "def print_board(board):\n",
      "    for row in board:\n",
      "        print \" \".join(row)\n",
      "\n",
      "print \"Let's play Battleship!\"\n",
      "print_board(board)\n",
      "\n",
      "def random_row(board):\n",
      "    return randint(0, len(board) - 1)\n",
      "\n",
      "def random_col(board):\n",
      "    return randint(0, len(board[0]) - 1)\n",
      "\n",
      "ship_row = random_row(board)\n",
      "ship_col = random_col(board)\n",
      "#print ship_row\n",
      "#print ship_col\n",
      "\n",
      "# Everything from here on should go in your for loop!\n",
      "# Be sure to indent four spaces!\n",
      "for turn in range(4):\n",
      "    guess_row = int(raw_input(\"Guess Row:\"))\n",
      "    guess_col = int(raw_input(\"Guess Col:\"))\n",
      "    turn +=1\n",
      "    if guess_row == ship_row and guess_col == ship_col:\n",
      "      print \"Congratulations! You sunk my battleship!\"\n",
      "      break\n",
      "    else:\n",
      "        if (guess_row < 0 or guess_row > 4) or (guess_col < 0 or guess_col > 4):\n",
      "            print \"Oops, that's not even in the ocean.\"\n",
      "        elif(board[guess_row][guess_col] == \"X\"):\n",
      "            print \"You guessed that one already.\"\n",
      "        else:\n",
      "            print \"You missed my battleship!\"\n",
      "            board[guess_row][guess_col] = \"X\"\n",
      "    if turn == 3:\n",
      "        print \"Game Over\"\n",
      "    # Print (turn + 1) here!\n",
      "        print_board(board)\n",
      "    print \"Turn\", turn + 1"
     ],
     "language": "python",
     "metadata": {},
     "outputs": []
    },
    {
     "cell_type": "code",
     "collapsed": false,
     "input": [],
     "language": "python",
     "metadata": {},
     "outputs": []
    }
   ],
   "metadata": {}
  }
 ]
}