{
 "metadata": {
  "name": "",
  "signature": "sha256:70cb38cface33e4c2efae210df8f7b2658f93b89a63a757a40ef5a5bd49068c9"
 },
 "nbformat": 3,
 "nbformat_minor": 0,
 "worksheets": [
  {
   "cells": [
    {
     "cell_type": "heading",
     "level": 1,
     "metadata": {},
     "source": [
      "Dylan's Battleship"
     ]
    },
    {
     "cell_type": "markdown",
     "metadata": {},
     "source": [
      "Here we have a simple battleship simulation. To run the code, select the grid and press 'shift + enter'. A grid will appear and user will be prompted for guess of ship's location."
     ]
    },
    {
     "cell_type": "code",
     "collapsed": false,
     "input": [
      "from ipythonblocks import BlockGrid\n",
      "from random import randint\n",
      "\n",
      "#define the length/width of square board\n",
      "len_board = 5\n",
      "\n",
      "#create board to store previous guesses\n",
      "guesses = []\n",
      "for i in range(len_board):\n",
      "    guesses.append([\"O\"] * 5)\n",
      "\n",
      "\n",
      "#initialize board to 'light blue'\n",
      "board = BlockGrid(len_board, len_board , fill = (32, 178, 170))\n",
      "\n",
      "#start game and display completely blue board\n",
      "print \"Let's play Battleship!\"\n",
      "board.show()\n",
      "\n",
      "#place a ship in random location\n",
      "def random_row(board):\n",
      "    return randint(0, len_board - 1)\n",
      "\n",
      "def random_col(board):\n",
      "    return randint(0, len_board - 1)\n",
      "\n",
      "ship_row = random_row(len_board)\n",
      "ship_col = random_col(len_board)\n",
      "\n",
      "\n",
      "for turn in range(4):\n",
      "    if turn == 3:\n",
      "            print \"Game Over\"\n",
      "            break\n",
      "    print \"Turn\", turn + 1\n",
      "    #prompt user for guess\n",
      "    guess_row = int(raw_input(\"Guess Row:\"))\n",
      "    guess_col = int(raw_input(\"Guess Col:\"))\n",
      "    #adjust for base 0 of code\n",
      "    guess_row -= 1\n",
      "    guess_col -= 1\n",
      "    #incriment turn counter (possibly)\n",
      "    \n",
      "    #if guess is correct, color board red, congragulate user, end game\n",
      "    if guess_row == ship_row and guess_col == ship_col:\n",
      "        board[ship_row, ship_col] = (255, 0, 0)\n",
      "        print \"Congratulations! You sunk my battleship!\"\n",
      "        board.show()\n",
      "        break\n",
      "    else:\n",
      "        #check if guess is on the board\n",
      "        if (guess_row < 0 or guess_row > 4) or (guess_col < 0 or guess_col > 4):\n",
      "            print \"Oops, that's not even in the ocean.\"\n",
      "            board.show()\n",
      "        #check if spot has been guessed already\n",
      "        elif guesses[guess_row][guess_col] == \"x\":\n",
      "            print \"You guessed that one already.\"\n",
      "            board.show()\n",
      "        else:\n",
      "        #mark the board with the miss. miss color = black = (0,0,0)\n",
      "            guesses[guess_row][guess_col] = \"x\"\n",
      "            print \"You missed my battleship!\"\n",
      "            board[guess_row, guess_col] = (0,0,0)\n",
      "            board.show()"
     ],
     "language": "python",
     "metadata": {},
     "outputs": []
    },
    {
     "cell_type": "markdown",
     "metadata": {},
     "source": [
      "Below is the battleship code with some modifications: longer ship, user chooses board and ship size, user chooses number of guesses, code checks if user paramaters make sense, and code displays location of ship if user fails to find ship in specified number of tries.\n"
     ]
    },
    {
     "cell_type": "code",
     "collapsed": false,
     "input": [
      "from ipythonblocks import BlockGrid\n",
      "from random import randint\n",
      "from time import sleep\n",
      "\n",
      "\n",
      "\n",
      "#define the length/width of square board\n",
      "len_board = int(raw_input(\"How long and wide would you like the board?:\"))\n",
      "if len_board < 2:\n",
      "    print \"That's not really fair, is it?\"\n",
      "    len_board = int(raw_input(\"How long and wide would you like the board?:\"))\n",
      "\n",
      "#create board to store previous guesses\n",
      "guesses = []\n",
      "for i in range(len_board):\n",
      "    guesses.append([\"O\"] * len_board)\n",
      "\n",
      "\n",
      "#initialize number of tries\n",
      "tries_num = int(raw_input(\"How many tries would you like?:\"))\n",
      "if tries_num < 1:\n",
      "    print \"Um... let's try that again.\"\n",
      "    tries_num = int(raw_input(\"How many tries would you like?:\"))\n",
      "elif tries_num > 12:\n",
      "    print \"This could take a while...\"\n",
      "    \n",
      "#initialize board to 'light blue'\n",
      "board = BlockGrid(len_board, len_board , fill = (32, 178, 170))\n",
      "\n",
      "\n",
      "#place a ship of length specified by user in random location in random orientation\n",
      "ship_len = int(raw_input(\"How big do you want your ship?:\"))\n",
      "if ship_len > len_board or ship_len < 1:\n",
      "    print \"Think you're clever, do you?\"\n",
      "    ship_len = int(raw_input(\"How big do you want your ship?:\"))\n",
      "\n",
      "orient = randint(0,2)\n",
      "def random_row(board, ship_len):\n",
      "    return randint(0, len_board - ship_len)\n",
      "def random_col(board, ship_len):\n",
      "    return randint(0, len_board - ship_len)\n",
      "row_not = random_row(board, ship_len)\n",
      "col_not = random_row(board, ship_len)\n",
      "\n",
      "\n",
      "if orient == 0:\n",
      "    ship_row = [row_not + x for x in range(ship_len)]\n",
      "    ship_col = col_not\n",
      "    \n",
      "else:\n",
      "    ship_row = row_not\n",
      "    ship_col = [col_not + x for x in range(ship_len)]\n",
      "\n",
      "\n",
      "#start game and display completely blue board\n",
      "print \"Let's play Battleship!\"\n",
      "board.show()\n",
      "print \"You've got \" + str(tries_num) + \" tries, so make them count.\"\n",
      "\n",
      "#initialize hit counter\n",
      "hits = 0\n",
      "\n",
      "for turn in range(tries_num + 1):\n",
      "    if turn == tries_num:\n",
      "            print \"Game Over\"\n",
      "            break\n",
      "    print \"Turn\", turn + 1\n",
      "    #prompt user for guess\n",
      "    guess_row = int(raw_input(\"Guess Row:\"))\n",
      "    guess_col = int(raw_input(\"Guess Col:\"))\n",
      "    #adjust for base 0 of code\n",
      "    guess_row -= 1\n",
      "    guess_col -= 1\n",
      "    \n",
      "    \n",
      "    if orient == 0:\n",
      "        #if guess is correct, color board red, congragulate user, end game\n",
      "        if guess_row in ship_row and guess_col == ship_col:\n",
      "            board[guess_row, guess_col] = (255, 0, 0)\n",
      "            print \"Nice hit!\"\n",
      "            hits += 1\n",
      "            board.show()\n",
      "            #if whole shipt is red, end game\n",
      "            if hits == ship_len:\n",
      "                print \"You sunk my ship... Why would you do that?!?!?!\"\n",
      "                sleep(2)\n",
      "                print \"I hade one last payment on that, ya know?\"\n",
      "                sleep(2)\n",
      "                print \"And you just sink it for no reason?\"\n",
      "                sleep(4)\n",
      "                print \"Ya know what, I'm over it.\"\n",
      "                sleep(10)\n",
      "                print \"Fine! I'm not over it!\"\n",
      "                print \"I'll be okay after some doughnuts.\"\n",
      "                sleep(3)\n",
      "                print \"Wanna go grab some doughnuts?\"\n",
      "                break\n",
      "        else:\n",
      "            #check if guess is on the board\n",
      "            if (guess_row < 0 or guess_row > len_board - 1) or (guess_col < 0 or guess_col > len_board - 1):\n",
      "                print \"Oops, that's not even in the ocean.\"\n",
      "                board.show()\n",
      "            #check if spot has been guessed already\n",
      "            elif guesses[guess_row][guess_col] == \"x\":\n",
      "                print \"You guessed that one already.\"\n",
      "                board.show()\n",
      "            else:\n",
      "            #mark the board with the miss. miss color = black = (0,0,0)\n",
      "                guesses[guess_row][guess_col] = \"x\"\n",
      "                print \"You missed my battleship!\"\n",
      "                board[guess_row, guess_col] = (0,0,0)\n",
      "                board.show()\n",
      "    else:\n",
      "        #if guess is correct, color board red, congragulate user\n",
      "        if guess_row == ship_row and guess_col in ship_col:\n",
      "            board[guess_row, guess_col] = (255, 0, 0)\n",
      "            print \"Nice hit!\"\n",
      "            hits += 1\n",
      "            board.show()\n",
      "            #if whole shipt is red, end game\n",
      "            if hits == ship_len:\n",
      "                print \"You sunk my ship... Why would you do that?!?!?!\"\n",
      "                sleep(2)\n",
      "                print \"I hade one last payment on that, ya know?\"\n",
      "                sleep(2)\n",
      "                print \"And you just sink it for no reason?\"\n",
      "                sleep(4)\n",
      "                print \"Ya know what, I'm over it.\"\n",
      "                sleep(10)\n",
      "                print \"Fine! I'm not over it!\"\n",
      "                print \"I'll be okay after some doughnuts.\"\n",
      "                sleep(3)\n",
      "                print \"Wanna go grab some doughnuts?\"\n",
      "                break\n",
      "        else:\n",
      "            #check if guess is on the board\n",
      "            if (guess_row < 0 or guess_row > len_board - 1) or (guess_col < 0 or guess_col > len_board - 1):\n",
      "                print \"Oops, that's not even in the ocean.\"\n",
      "                board.show()\n",
      "            #check if spot has been guessed already\n",
      "            elif guesses[guess_row][guess_col] == \"x\":\n",
      "                print \"You guessed that one already.\"\n",
      "                board.show()\n",
      "            else:\n",
      "            #mark the board with the miss. miss color = black = (0,0,0)\n",
      "                guesses[guess_row][guess_col] = \"x\"\n",
      "                print \"You missed my battleship!\"\n",
      "                board[guess_row, guess_col] = (0,0,0)\n",
      "                board.show()\n",
      "\n",
      "if orient == 0:\n",
      "    for i in range(ship_len):\n",
      "        board[i+row_not, col_not] = (255,67,102)\n",
      "else:\n",
      "    for i in range(ship_len):\n",
      "        board[row_not, col_not + i] = (255,67,102)\n",
      "print \"Here's where the ship is\"\n",
      "board.show()"
     ],
     "language": "python",
     "metadata": {},
     "outputs": []
    },
    {
     "cell_type": "markdown",
     "metadata": {},
     "source": [
      "Here's an example:"
     ]
    },
    {
     "cell_type": "code",
     "collapsed": false,
     "input": [
      "from ipythonblocks import BlockGrid\n",
      "from random import randint\n",
      "from time import sleep\n",
      "\n",
      "\n",
      "\n",
      "#define the length/width of square board\n",
      "len_board = int(raw_input(\"How long and wide would you like the board?:\"))\n",
      "if len_board < 2:\n",
      "    print \"That's not really fair, is it?\"\n",
      "    len_board = int(raw_input(\"How long and wide would you like the board?:\"))\n",
      "\n",
      "#create board to store previous guesses\n",
      "guesses = []\n",
      "for i in range(len_board):\n",
      "    guesses.append([\"O\"] * len_board)\n",
      "\n",
      "\n",
      "#initialize number of tries\n",
      "tries_num = int(raw_input(\"How many tries would you like?:\"))\n",
      "if tries_num < 1:\n",
      "    print \"Um... let's try that again.\"\n",
      "    tries_num = int(raw_input(\"How many tries would you like?:\"))\n",
      "elif tries_num > 12:\n",
      "    print \"This could take a while...\"\n",
      "    \n",
      "#initialize board to 'light blue'\n",
      "board = BlockGrid(len_board, len_board , fill = (32, 178, 170))\n",
      "\n",
      "\n",
      "#place a ship of length specified by user in random location in random orientation\n",
      "ship_len = int(raw_input(\"How big do you want your ship?:\"))\n",
      "if ship_len > len_board or ship_len < 1:\n",
      "    print \"Think you're clever, do you?\"\n",
      "    ship_len = int(raw_input(\"How big do you want your ship?:\"))\n",
      "\n",
      "orient = randint(0,2)\n",
      "def random_row(board, ship_len):\n",
      "    return randint(0, len_board - ship_len)\n",
      "def random_col(board, ship_len):\n",
      "    return randint(0, len_board - ship_len)\n",
      "row_not = random_row(board, ship_len)\n",
      "col_not = random_row(board, ship_len)\n",
      "\n",
      "\n",
      "if orient == 0:\n",
      "    ship_row = [row_not + x for x in range(ship_len)]\n",
      "    ship_col = col_not\n",
      "    \n",
      "else:\n",
      "    ship_row = row_not\n",
      "    ship_col = [col_not + x for x in range(ship_len)]\n",
      "\n",
      "\n",
      "#start game and display completely blue board\n",
      "print \"Let's play Battleship!\"\n",
      "board.show()\n",
      "print \"You've got \" + str(tries_num) + \" tries, so make them count.\"\n",
      "\n",
      "#initialize hit counter\n",
      "hits = 0\n",
      "\n",
      "for turn in range(tries_num + 1):\n",
      "    if turn == tries_num:\n",
      "            print \"Game Over\"\n",
      "            break\n",
      "    print \"Turn\", turn + 1\n",
      "    #prompt user for guess\n",
      "    guess_row = int(raw_input(\"Guess Row:\"))\n",
      "    guess_col = int(raw_input(\"Guess Col:\"))\n",
      "    #adjust for base 0 of code\n",
      "    guess_row -= 1\n",
      "    guess_col -= 1\n",
      "    \n",
      "    \n",
      "    if orient == 0:\n",
      "        #if guess is correct, color board red, congragulate user, end game\n",
      "        if guess_row in ship_row and guess_col == ship_col:\n",
      "            board[guess_row, guess_col] = (255, 0, 0)\n",
      "            print \"Nice hit!\"\n",
      "            hits += 1\n",
      "            board.show()\n",
      "            #if whole shipt is red, end game\n",
      "            if hits == ship_len:\n",
      "                print \"You sunk my ship... Why would you do that?!?!?!\"\n",
      "                sleep(2)\n",
      "                print \"I hade one last payment on that, ya know?\"\n",
      "                sleep(2)\n",
      "                print \"And you just sink it for no reason?\"\n",
      "                sleep(4)\n",
      "                print \"Ya know what, I'm over it.\"\n",
      "                sleep(10)\n",
      "                print \"Fine! I'm not over it!\"\n",
      "                print \"I'll be okay after some doughnuts.\"\n",
      "                sleep(3)\n",
      "                print \"Wanna go grab some doughnuts?\"\n",
      "                break\n",
      "        else:\n",
      "            #check if guess is on the board\n",
      "            if (guess_row < 0 or guess_row > len_board - 1) or (guess_col < 0 or guess_col > len_board - 1):\n",
      "                print \"Oops, that's not even in the ocean.\"\n",
      "                board.show()\n",
      "            #check if spot has been guessed already\n",
      "            elif guesses[guess_row][guess_col] == \"x\":\n",
      "                print \"You guessed that one already.\"\n",
      "                board.show()\n",
      "            else:\n",
      "            #mark the board with the miss. miss color = black = (0,0,0)\n",
      "                guesses[guess_row][guess_col] = \"x\"\n",
      "                print \"You missed my battleship!\"\n",
      "                board[guess_row, guess_col] = (0,0,0)\n",
      "                board.show()\n",
      "    else:\n",
      "        #if guess is correct, color board red, congragulate user\n",
      "        if guess_row == ship_row and guess_col in ship_col:\n",
      "            board[guess_row, guess_col] = (255, 0, 0)\n",
      "            print \"Nice hit!\"\n",
      "            hits += 1\n",
      "            board.show()\n",
      "            #if whole shipt is red, end game\n",
      "            if hits == ship_len:\n",
      "                print \"You sunk my ship... Why would you do that?!?!?!\"\n",
      "                sleep(2)\n",
      "                print \"I hade one last payment on that, ya know?\"\n",
      "                sleep(2)\n",
      "                print \"And you just sink it for no reason?\"\n",
      "                sleep(4)\n",
      "                print \"Ya know what, I'm over it.\"\n",
      "                sleep(10)\n",
      "                print \"Fine! I'm not over it!\"\n",
      "                print \"I'll be okay after some doughnuts.\"\n",
      "                sleep(3)\n",
      "                print \"Wanna go grab some doughnuts?\"\n",
      "                break\n",
      "        else:\n",
      "            #check if guess is on the board\n",
      "            if (guess_row < 0 or guess_row > len_board - 1) or (guess_col < 0 or guess_col > len_board - 1):\n",
      "                print \"Oops, that's not even in the ocean.\"\n",
      "                board.show()\n",
      "            #check if spot has been guessed already\n",
      "            elif guesses[guess_row][guess_col] == \"x\":\n",
      "                print \"You guessed that one already.\"\n",
      "                board.show()\n",
      "            else:\n",
      "            #mark the board with the miss. miss color = black = (0,0,0)\n",
      "                guesses[guess_row][guess_col] = \"x\"\n",
      "                print \"You missed my battleship!\"\n",
      "                board[guess_row, guess_col] = (0,0,0)\n",
      "                board.show()\n",
      "\n",
      "if orient == 0:\n",
      "    for i in range(ship_len):\n",
      "        board[i+row_not, col_not] = (255,67,102)\n",
      "else:\n",
      "    for i in range(ship_len):\n",
      "        board[row_not, col_not + i] = (255,67,102)\n",
      "print \"Here's where the ship is\"\n",
      "board.show()"
     ],
     "language": "python",
     "metadata": {},
     "outputs": [
      {
       "name": "stdout",
       "output_type": "stream",
       "stream": "stdout",
       "text": [
        "How long and wide would you like the board?:-1\n"
       ]
      },
      {
       "output_type": "stream",
       "stream": "stdout",
       "text": [
        "That's not really fair, is it?\n"
       ]
      },
      {
       "name": "stdout",
       "output_type": "stream",
       "stream": "stdout",
       "text": [
        "How long and wide would you like the board?:5\n"
       ]
      },
      {
       "name": "stdout",
       "output_type": "stream",
       "stream": "stdout",
       "text": [
        "How many tries would you like?:0\n"
       ]
      },
      {
       "output_type": "stream",
       "stream": "stdout",
       "text": [
        "Um... let's try that again.\n"
       ]
      },
      {
       "name": "stdout",
       "output_type": "stream",
       "stream": "stdout",
       "text": [
        "How many tries would you like?:3\n"
       ]
      },
      {
       "name": "stdout",
       "output_type": "stream",
       "stream": "stdout",
       "text": [
        "How big do you want your ship?:-3\n"
       ]
      },
      {
       "output_type": "stream",
       "stream": "stdout",
       "text": [
        "Think you're clever, do you?\n"
       ]
      },
      {
       "name": "stdout",
       "output_type": "stream",
       "stream": "stdout",
       "text": [
        "How big do you want your ship?:3\n"
       ]
      },
      {
       "output_type": "stream",
       "stream": "stdout",
       "text": [
        "Let's play Battleship!\n"
       ]
      },
      {
       "html": [
        "<style type=\"text/css\">table.blockgrid {border: none;} .blockgrid tr {border: none;} .blockgrid td {padding: 0px;} #blocksc4663c59-5071-412b-b151-8d84ecf38856 td {border: 1px solid white;}</style><table id=\"blocksc4663c59-5071-412b-b151-8d84ecf38856\" class=\"blockgrid\"><tbody><tr><td title=\"Index: [0, 0]&#10;Color: (32, 178, 170)\" style=\"width: 20px; height: 20px;background-color: rgb(32, 178, 170);\"></td><td title=\"Index: [0, 1]&#10;Color: (32, 178, 170)\" style=\"width: 20px; height: 20px;background-color: rgb(32, 178, 170);\"></td><td title=\"Index: [0, 2]&#10;Color: (32, 178, 170)\" style=\"width: 20px; height: 20px;background-color: rgb(32, 178, 170);\"></td><td title=\"Index: [0, 3]&#10;Color: (32, 178, 170)\" style=\"width: 20px; height: 20px;background-color: rgb(32, 178, 170);\"></td><td title=\"Index: [0, 4]&#10;Color: (32, 178, 170)\" style=\"width: 20px; height: 20px;background-color: rgb(32, 178, 170);\"></td></tr><tr><td title=\"Index: [1, 0]&#10;Color: (32, 178, 170)\" style=\"width: 20px; height: 20px;background-color: rgb(32, 178, 170);\"></td><td title=\"Index: [1, 1]&#10;Color: (32, 178, 170)\" style=\"width: 20px; height: 20px;background-color: rgb(32, 178, 170);\"></td><td title=\"Index: [1, 2]&#10;Color: (32, 178, 170)\" style=\"width: 20px; height: 20px;background-color: rgb(32, 178, 170);\"></td><td title=\"Index: [1, 3]&#10;Color: (32, 178, 170)\" style=\"width: 20px; height: 20px;background-color: rgb(32, 178, 170);\"></td><td title=\"Index: [1, 4]&#10;Color: (32, 178, 170)\" style=\"width: 20px; height: 20px;background-color: rgb(32, 178, 170);\"></td></tr><tr><td title=\"Index: [2, 0]&#10;Color: (32, 178, 170)\" style=\"width: 20px; height: 20px;background-color: rgb(32, 178, 170);\"></td><td title=\"Index: [2, 1]&#10;Color: (32, 178, 170)\" style=\"width: 20px; height: 20px;background-color: rgb(32, 178, 170);\"></td><td title=\"Index: [2, 2]&#10;Color: (32, 178, 170)\" style=\"width: 20px; height: 20px;background-color: rgb(32, 178, 170);\"></td><td title=\"Index: [2, 3]&#10;Color: (32, 178, 170)\" style=\"width: 20px; height: 20px;background-color: rgb(32, 178, 170);\"></td><td title=\"Index: [2, 4]&#10;Color: (32, 178, 170)\" style=\"width: 20px; height: 20px;background-color: rgb(32, 178, 170);\"></td></tr><tr><td title=\"Index: [3, 0]&#10;Color: (32, 178, 170)\" style=\"width: 20px; height: 20px;background-color: rgb(32, 178, 170);\"></td><td title=\"Index: [3, 1]&#10;Color: (32, 178, 170)\" style=\"width: 20px; height: 20px;background-color: rgb(32, 178, 170);\"></td><td title=\"Index: [3, 2]&#10;Color: (32, 178, 170)\" style=\"width: 20px; height: 20px;background-color: rgb(32, 178, 170);\"></td><td title=\"Index: [3, 3]&#10;Color: (32, 178, 170)\" style=\"width: 20px; height: 20px;background-color: rgb(32, 178, 170);\"></td><td title=\"Index: [3, 4]&#10;Color: (32, 178, 170)\" style=\"width: 20px; height: 20px;background-color: rgb(32, 178, 170);\"></td></tr><tr><td title=\"Index: [4, 0]&#10;Color: (32, 178, 170)\" style=\"width: 20px; height: 20px;background-color: rgb(32, 178, 170);\"></td><td title=\"Index: [4, 1]&#10;Color: (32, 178, 170)\" style=\"width: 20px; height: 20px;background-color: rgb(32, 178, 170);\"></td><td title=\"Index: [4, 2]&#10;Color: (32, 178, 170)\" style=\"width: 20px; height: 20px;background-color: rgb(32, 178, 170);\"></td><td title=\"Index: [4, 3]&#10;Color: (32, 178, 170)\" style=\"width: 20px; height: 20px;background-color: rgb(32, 178, 170);\"></td><td title=\"Index: [4, 4]&#10;Color: (32, 178, 170)\" style=\"width: 20px; height: 20px;background-color: rgb(32, 178, 170);\"></td></tr></tbody></table>"
       ],
       "metadata": {},
       "output_type": "display_data",
       "text": [
        "<IPython.core.display.HTML at 0x3d84fd0>"
       ]
      },
      {
       "output_type": "stream",
       "stream": "stdout",
       "text": [
        "You've got 3 tries, so make them count.\n",
        "Turn 1\n"
       ]
      },
      {
       "name": "stdout",
       "output_type": "stream",
       "stream": "stdout",
       "text": [
        "Guess Row:2\n"
       ]
      },
      {
       "name": "stdout",
       "output_type": "stream",
       "stream": "stdout",
       "text": [
        "Guess Col:4\n"
       ]
      },
      {
       "output_type": "stream",
       "stream": "stdout",
       "text": [
        "You missed my battleship!\n"
       ]
      },
      {
       "html": [
        "<style type=\"text/css\">table.blockgrid {border: none;} .blockgrid tr {border: none;} .blockgrid td {padding: 0px;} #blocks3de0513a-2b16-49eb-8f3d-0fd934988748 td {border: 1px solid white;}</style><table id=\"blocks3de0513a-2b16-49eb-8f3d-0fd934988748\" class=\"blockgrid\"><tbody><tr><td title=\"Index: [0, 0]&#10;Color: (32, 178, 170)\" style=\"width: 20px; height: 20px;background-color: rgb(32, 178, 170);\"></td><td title=\"Index: [0, 1]&#10;Color: (32, 178, 170)\" style=\"width: 20px; height: 20px;background-color: rgb(32, 178, 170);\"></td><td title=\"Index: [0, 2]&#10;Color: (32, 178, 170)\" style=\"width: 20px; height: 20px;background-color: rgb(32, 178, 170);\"></td><td title=\"Index: [0, 3]&#10;Color: (32, 178, 170)\" style=\"width: 20px; height: 20px;background-color: rgb(32, 178, 170);\"></td><td title=\"Index: [0, 4]&#10;Color: (32, 178, 170)\" style=\"width: 20px; height: 20px;background-color: rgb(32, 178, 170);\"></td></tr><tr><td title=\"Index: [1, 0]&#10;Color: (32, 178, 170)\" style=\"width: 20px; height: 20px;background-color: rgb(32, 178, 170);\"></td><td title=\"Index: [1, 1]&#10;Color: (32, 178, 170)\" style=\"width: 20px; height: 20px;background-color: rgb(32, 178, 170);\"></td><td title=\"Index: [1, 2]&#10;Color: (32, 178, 170)\" style=\"width: 20px; height: 20px;background-color: rgb(32, 178, 170);\"></td><td title=\"Index: [1, 3]&#10;Color: (0, 0, 0)\" style=\"width: 20px; height: 20px;background-color: rgb(0, 0, 0);\"></td><td title=\"Index: [1, 4]&#10;Color: (32, 178, 170)\" style=\"width: 20px; height: 20px;background-color: rgb(32, 178, 170);\"></td></tr><tr><td title=\"Index: [2, 0]&#10;Color: (32, 178, 170)\" style=\"width: 20px; height: 20px;background-color: rgb(32, 178, 170);\"></td><td title=\"Index: [2, 1]&#10;Color: (32, 178, 170)\" style=\"width: 20px; height: 20px;background-color: rgb(32, 178, 170);\"></td><td title=\"Index: [2, 2]&#10;Color: (32, 178, 170)\" style=\"width: 20px; height: 20px;background-color: rgb(32, 178, 170);\"></td><td title=\"Index: [2, 3]&#10;Color: (32, 178, 170)\" style=\"width: 20px; height: 20px;background-color: rgb(32, 178, 170);\"></td><td title=\"Index: [2, 4]&#10;Color: (32, 178, 170)\" style=\"width: 20px; height: 20px;background-color: rgb(32, 178, 170);\"></td></tr><tr><td title=\"Index: [3, 0]&#10;Color: (32, 178, 170)\" style=\"width: 20px; height: 20px;background-color: rgb(32, 178, 170);\"></td><td title=\"Index: [3, 1]&#10;Color: (32, 178, 170)\" style=\"width: 20px; height: 20px;background-color: rgb(32, 178, 170);\"></td><td title=\"Index: [3, 2]&#10;Color: (32, 178, 170)\" style=\"width: 20px; height: 20px;background-color: rgb(32, 178, 170);\"></td><td title=\"Index: [3, 3]&#10;Color: (32, 178, 170)\" style=\"width: 20px; height: 20px;background-color: rgb(32, 178, 170);\"></td><td title=\"Index: [3, 4]&#10;Color: (32, 178, 170)\" style=\"width: 20px; height: 20px;background-color: rgb(32, 178, 170);\"></td></tr><tr><td title=\"Index: [4, 0]&#10;Color: (32, 178, 170)\" style=\"width: 20px; height: 20px;background-color: rgb(32, 178, 170);\"></td><td title=\"Index: [4, 1]&#10;Color: (32, 178, 170)\" style=\"width: 20px; height: 20px;background-color: rgb(32, 178, 170);\"></td><td title=\"Index: [4, 2]&#10;Color: (32, 178, 170)\" style=\"width: 20px; height: 20px;background-color: rgb(32, 178, 170);\"></td><td title=\"Index: [4, 3]&#10;Color: (32, 178, 170)\" style=\"width: 20px; height: 20px;background-color: rgb(32, 178, 170);\"></td><td title=\"Index: [4, 4]&#10;Color: (32, 178, 170)\" style=\"width: 20px; height: 20px;background-color: rgb(32, 178, 170);\"></td></tr></tbody></table>"
       ],
       "metadata": {},
       "output_type": "display_data",
       "text": [
        "<IPython.core.display.HTML at 0x3c44400>"
       ]
      },
      {
       "output_type": "stream",
       "stream": "stdout",
       "text": [
        "Turn 2\n"
       ]
      },
      {
       "name": "stdout",
       "output_type": "stream",
       "stream": "stdout",
       "text": [
        "Guess Row:3\n"
       ]
      },
      {
       "name": "stdout",
       "output_type": "stream",
       "stream": "stdout",
       "text": [
        "Guess Col:3\n"
       ]
      },
      {
       "output_type": "stream",
       "stream": "stdout",
       "text": [
        "You missed my battleship!\n"
       ]
      },
      {
       "html": [
        "<style type=\"text/css\">table.blockgrid {border: none;} .blockgrid tr {border: none;} .blockgrid td {padding: 0px;} #blockscc4c8512-fbf9-43f0-8020-f13ccd34243e td {border: 1px solid white;}</style><table id=\"blockscc4c8512-fbf9-43f0-8020-f13ccd34243e\" class=\"blockgrid\"><tbody><tr><td title=\"Index: [0, 0]&#10;Color: (32, 178, 170)\" style=\"width: 20px; height: 20px;background-color: rgb(32, 178, 170);\"></td><td title=\"Index: [0, 1]&#10;Color: (32, 178, 170)\" style=\"width: 20px; height: 20px;background-color: rgb(32, 178, 170);\"></td><td title=\"Index: [0, 2]&#10;Color: (32, 178, 170)\" style=\"width: 20px; height: 20px;background-color: rgb(32, 178, 170);\"></td><td title=\"Index: [0, 3]&#10;Color: (32, 178, 170)\" style=\"width: 20px; height: 20px;background-color: rgb(32, 178, 170);\"></td><td title=\"Index: [0, 4]&#10;Color: (32, 178, 170)\" style=\"width: 20px; height: 20px;background-color: rgb(32, 178, 170);\"></td></tr><tr><td title=\"Index: [1, 0]&#10;Color: (32, 178, 170)\" style=\"width: 20px; height: 20px;background-color: rgb(32, 178, 170);\"></td><td title=\"Index: [1, 1]&#10;Color: (32, 178, 170)\" style=\"width: 20px; height: 20px;background-color: rgb(32, 178, 170);\"></td><td title=\"Index: [1, 2]&#10;Color: (32, 178, 170)\" style=\"width: 20px; height: 20px;background-color: rgb(32, 178, 170);\"></td><td title=\"Index: [1, 3]&#10;Color: (0, 0, 0)\" style=\"width: 20px; height: 20px;background-color: rgb(0, 0, 0);\"></td><td title=\"Index: [1, 4]&#10;Color: (32, 178, 170)\" style=\"width: 20px; height: 20px;background-color: rgb(32, 178, 170);\"></td></tr><tr><td title=\"Index: [2, 0]&#10;Color: (32, 178, 170)\" style=\"width: 20px; height: 20px;background-color: rgb(32, 178, 170);\"></td><td title=\"Index: [2, 1]&#10;Color: (32, 178, 170)\" style=\"width: 20px; height: 20px;background-color: rgb(32, 178, 170);\"></td><td title=\"Index: [2, 2]&#10;Color: (0, 0, 0)\" style=\"width: 20px; height: 20px;background-color: rgb(0, 0, 0);\"></td><td title=\"Index: [2, 3]&#10;Color: (32, 178, 170)\" style=\"width: 20px; height: 20px;background-color: rgb(32, 178, 170);\"></td><td title=\"Index: [2, 4]&#10;Color: (32, 178, 170)\" style=\"width: 20px; height: 20px;background-color: rgb(32, 178, 170);\"></td></tr><tr><td title=\"Index: [3, 0]&#10;Color: (32, 178, 170)\" style=\"width: 20px; height: 20px;background-color: rgb(32, 178, 170);\"></td><td title=\"Index: [3, 1]&#10;Color: (32, 178, 170)\" style=\"width: 20px; height: 20px;background-color: rgb(32, 178, 170);\"></td><td title=\"Index: [3, 2]&#10;Color: (32, 178, 170)\" style=\"width: 20px; height: 20px;background-color: rgb(32, 178, 170);\"></td><td title=\"Index: [3, 3]&#10;Color: (32, 178, 170)\" style=\"width: 20px; height: 20px;background-color: rgb(32, 178, 170);\"></td><td title=\"Index: [3, 4]&#10;Color: (32, 178, 170)\" style=\"width: 20px; height: 20px;background-color: rgb(32, 178, 170);\"></td></tr><tr><td title=\"Index: [4, 0]&#10;Color: (32, 178, 170)\" style=\"width: 20px; height: 20px;background-color: rgb(32, 178, 170);\"></td><td title=\"Index: [4, 1]&#10;Color: (32, 178, 170)\" style=\"width: 20px; height: 20px;background-color: rgb(32, 178, 170);\"></td><td title=\"Index: [4, 2]&#10;Color: (32, 178, 170)\" style=\"width: 20px; height: 20px;background-color: rgb(32, 178, 170);\"></td><td title=\"Index: [4, 3]&#10;Color: (32, 178, 170)\" style=\"width: 20px; height: 20px;background-color: rgb(32, 178, 170);\"></td><td title=\"Index: [4, 4]&#10;Color: (32, 178, 170)\" style=\"width: 20px; height: 20px;background-color: rgb(32, 178, 170);\"></td></tr></tbody></table>"
       ],
       "metadata": {},
       "output_type": "display_data",
       "text": [
        "<IPython.core.display.HTML at 0x3d85ba8>"
       ]
      },
      {
       "output_type": "stream",
       "stream": "stdout",
       "text": [
        "Turn 3\n"
       ]
      },
      {
       "name": "stdout",
       "output_type": "stream",
       "stream": "stdout",
       "text": [
        "Guess Row:4\n"
       ]
      },
      {
       "name": "stdout",
       "output_type": "stream",
       "stream": "stdout",
       "text": [
        "Guess Col:1\n"
       ]
      },
      {
       "output_type": "stream",
       "stream": "stdout",
       "text": [
        "You missed my battleship!\n"
       ]
      },
      {
       "html": [
        "<style type=\"text/css\">table.blockgrid {border: none;} .blockgrid tr {border: none;} .blockgrid td {padding: 0px;} #blocks413ee2c0-5860-4a1f-b363-d353d67ea681 td {border: 1px solid white;}</style><table id=\"blocks413ee2c0-5860-4a1f-b363-d353d67ea681\" class=\"blockgrid\"><tbody><tr><td title=\"Index: [0, 0]&#10;Color: (32, 178, 170)\" style=\"width: 20px; height: 20px;background-color: rgb(32, 178, 170);\"></td><td title=\"Index: [0, 1]&#10;Color: (32, 178, 170)\" style=\"width: 20px; height: 20px;background-color: rgb(32, 178, 170);\"></td><td title=\"Index: [0, 2]&#10;Color: (32, 178, 170)\" style=\"width: 20px; height: 20px;background-color: rgb(32, 178, 170);\"></td><td title=\"Index: [0, 3]&#10;Color: (32, 178, 170)\" style=\"width: 20px; height: 20px;background-color: rgb(32, 178, 170);\"></td><td title=\"Index: [0, 4]&#10;Color: (32, 178, 170)\" style=\"width: 20px; height: 20px;background-color: rgb(32, 178, 170);\"></td></tr><tr><td title=\"Index: [1, 0]&#10;Color: (32, 178, 170)\" style=\"width: 20px; height: 20px;background-color: rgb(32, 178, 170);\"></td><td title=\"Index: [1, 1]&#10;Color: (32, 178, 170)\" style=\"width: 20px; height: 20px;background-color: rgb(32, 178, 170);\"></td><td title=\"Index: [1, 2]&#10;Color: (32, 178, 170)\" style=\"width: 20px; height: 20px;background-color: rgb(32, 178, 170);\"></td><td title=\"Index: [1, 3]&#10;Color: (0, 0, 0)\" style=\"width: 20px; height: 20px;background-color: rgb(0, 0, 0);\"></td><td title=\"Index: [1, 4]&#10;Color: (32, 178, 170)\" style=\"width: 20px; height: 20px;background-color: rgb(32, 178, 170);\"></td></tr><tr><td title=\"Index: [2, 0]&#10;Color: (32, 178, 170)\" style=\"width: 20px; height: 20px;background-color: rgb(32, 178, 170);\"></td><td title=\"Index: [2, 1]&#10;Color: (32, 178, 170)\" style=\"width: 20px; height: 20px;background-color: rgb(32, 178, 170);\"></td><td title=\"Index: [2, 2]&#10;Color: (0, 0, 0)\" style=\"width: 20px; height: 20px;background-color: rgb(0, 0, 0);\"></td><td title=\"Index: [2, 3]&#10;Color: (32, 178, 170)\" style=\"width: 20px; height: 20px;background-color: rgb(32, 178, 170);\"></td><td title=\"Index: [2, 4]&#10;Color: (32, 178, 170)\" style=\"width: 20px; height: 20px;background-color: rgb(32, 178, 170);\"></td></tr><tr><td title=\"Index: [3, 0]&#10;Color: (0, 0, 0)\" style=\"width: 20px; height: 20px;background-color: rgb(0, 0, 0);\"></td><td title=\"Index: [3, 1]&#10;Color: (32, 178, 170)\" style=\"width: 20px; height: 20px;background-color: rgb(32, 178, 170);\"></td><td title=\"Index: [3, 2]&#10;Color: (32, 178, 170)\" style=\"width: 20px; height: 20px;background-color: rgb(32, 178, 170);\"></td><td title=\"Index: [3, 3]&#10;Color: (32, 178, 170)\" style=\"width: 20px; height: 20px;background-color: rgb(32, 178, 170);\"></td><td title=\"Index: [3, 4]&#10;Color: (32, 178, 170)\" style=\"width: 20px; height: 20px;background-color: rgb(32, 178, 170);\"></td></tr><tr><td title=\"Index: [4, 0]&#10;Color: (32, 178, 170)\" style=\"width: 20px; height: 20px;background-color: rgb(32, 178, 170);\"></td><td title=\"Index: [4, 1]&#10;Color: (32, 178, 170)\" style=\"width: 20px; height: 20px;background-color: rgb(32, 178, 170);\"></td><td title=\"Index: [4, 2]&#10;Color: (32, 178, 170)\" style=\"width: 20px; height: 20px;background-color: rgb(32, 178, 170);\"></td><td title=\"Index: [4, 3]&#10;Color: (32, 178, 170)\" style=\"width: 20px; height: 20px;background-color: rgb(32, 178, 170);\"></td><td title=\"Index: [4, 4]&#10;Color: (32, 178, 170)\" style=\"width: 20px; height: 20px;background-color: rgb(32, 178, 170);\"></td></tr></tbody></table>"
       ],
       "metadata": {},
       "output_type": "display_data",
       "text": [
        "<IPython.core.display.HTML at 0x3d853c8>"
       ]
      },
      {
       "output_type": "stream",
       "stream": "stdout",
       "text": [
        "Game Over\n",
        "Here's where the ship is\n"
       ]
      },
      {
       "html": [
        "<style type=\"text/css\">table.blockgrid {border: none;} .blockgrid tr {border: none;} .blockgrid td {padding: 0px;} #blocksc608b42b-01bb-4383-bec0-ae9e3e593a00 td {border: 1px solid white;}</style><table id=\"blocksc608b42b-01bb-4383-bec0-ae9e3e593a00\" class=\"blockgrid\"><tbody><tr><td title=\"Index: [0, 0]&#10;Color: (255, 67, 102)\" style=\"width: 20px; height: 20px;background-color: rgb(255, 67, 102);\"></td><td title=\"Index: [0, 1]&#10;Color: (32, 178, 170)\" style=\"width: 20px; height: 20px;background-color: rgb(32, 178, 170);\"></td><td title=\"Index: [0, 2]&#10;Color: (32, 178, 170)\" style=\"width: 20px; height: 20px;background-color: rgb(32, 178, 170);\"></td><td title=\"Index: [0, 3]&#10;Color: (32, 178, 170)\" style=\"width: 20px; height: 20px;background-color: rgb(32, 178, 170);\"></td><td title=\"Index: [0, 4]&#10;Color: (32, 178, 170)\" style=\"width: 20px; height: 20px;background-color: rgb(32, 178, 170);\"></td></tr><tr><td title=\"Index: [1, 0]&#10;Color: (255, 67, 102)\" style=\"width: 20px; height: 20px;background-color: rgb(255, 67, 102);\"></td><td title=\"Index: [1, 1]&#10;Color: (32, 178, 170)\" style=\"width: 20px; height: 20px;background-color: rgb(32, 178, 170);\"></td><td title=\"Index: [1, 2]&#10;Color: (32, 178, 170)\" style=\"width: 20px; height: 20px;background-color: rgb(32, 178, 170);\"></td><td title=\"Index: [1, 3]&#10;Color: (0, 0, 0)\" style=\"width: 20px; height: 20px;background-color: rgb(0, 0, 0);\"></td><td title=\"Index: [1, 4]&#10;Color: (32, 178, 170)\" style=\"width: 20px; height: 20px;background-color: rgb(32, 178, 170);\"></td></tr><tr><td title=\"Index: [2, 0]&#10;Color: (255, 67, 102)\" style=\"width: 20px; height: 20px;background-color: rgb(255, 67, 102);\"></td><td title=\"Index: [2, 1]&#10;Color: (32, 178, 170)\" style=\"width: 20px; height: 20px;background-color: rgb(32, 178, 170);\"></td><td title=\"Index: [2, 2]&#10;Color: (0, 0, 0)\" style=\"width: 20px; height: 20px;background-color: rgb(0, 0, 0);\"></td><td title=\"Index: [2, 3]&#10;Color: (32, 178, 170)\" style=\"width: 20px; height: 20px;background-color: rgb(32, 178, 170);\"></td><td title=\"Index: [2, 4]&#10;Color: (32, 178, 170)\" style=\"width: 20px; height: 20px;background-color: rgb(32, 178, 170);\"></td></tr><tr><td title=\"Index: [3, 0]&#10;Color: (0, 0, 0)\" style=\"width: 20px; height: 20px;background-color: rgb(0, 0, 0);\"></td><td title=\"Index: [3, 1]&#10;Color: (32, 178, 170)\" style=\"width: 20px; height: 20px;background-color: rgb(32, 178, 170);\"></td><td title=\"Index: [3, 2]&#10;Color: (32, 178, 170)\" style=\"width: 20px; height: 20px;background-color: rgb(32, 178, 170);\"></td><td title=\"Index: [3, 3]&#10;Color: (32, 178, 170)\" style=\"width: 20px; height: 20px;background-color: rgb(32, 178, 170);\"></td><td title=\"Index: [3, 4]&#10;Color: (32, 178, 170)\" style=\"width: 20px; height: 20px;background-color: rgb(32, 178, 170);\"></td></tr><tr><td title=\"Index: [4, 0]&#10;Color: (32, 178, 170)\" style=\"width: 20px; height: 20px;background-color: rgb(32, 178, 170);\"></td><td title=\"Index: [4, 1]&#10;Color: (32, 178, 170)\" style=\"width: 20px; height: 20px;background-color: rgb(32, 178, 170);\"></td><td title=\"Index: [4, 2]&#10;Color: (32, 178, 170)\" style=\"width: 20px; height: 20px;background-color: rgb(32, 178, 170);\"></td><td title=\"Index: [4, 3]&#10;Color: (32, 178, 170)\" style=\"width: 20px; height: 20px;background-color: rgb(32, 178, 170);\"></td><td title=\"Index: [4, 4]&#10;Color: (32, 178, 170)\" style=\"width: 20px; height: 20px;background-color: rgb(32, 178, 170);\"></td></tr></tbody></table>"
       ],
       "metadata": {},
       "output_type": "display_data",
       "text": [
        "<IPython.core.display.HTML at 0x3f11f60>"
       ]
      }
     ],
     "prompt_number": 3
    },
    {
     "cell_type": "code",
     "collapsed": false,
     "input": [],
     "language": "python",
     "metadata": {},
     "outputs": []
    }
   ],
   "metadata": {}
  }
 ]
}