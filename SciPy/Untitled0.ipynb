{
 "metadata": {
  "name": "",
  "signature": "sha256:9c9d314f24a5c8581b41b88a25160f9c0549fb771020a2cab40d54f68bab12e9"
 },
 "nbformat": 3,
 "nbformat_minor": 0,
 "worksheets": []
}