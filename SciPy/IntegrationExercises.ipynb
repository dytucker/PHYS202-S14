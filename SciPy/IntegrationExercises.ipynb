{
 "metadata": {
  "name": "",
  "signature": "sha256:d747911e89094bdc3744d1c771b4a9de1f3ee68aee281d4e38834686aef04a87"
 },
 "nbformat": 3,
 "nbformat_minor": 0,
 "worksheets": [
  {
   "cells": [
    {
     "cell_type": "heading",
     "level": 1,
     "metadata": {},
     "source": [
      "Integration Exercises"
     ]
    },
    {
     "cell_type": "code",
     "collapsed": false,
     "input": [
      "%pylab inline\n",
      "import numpy as np\n",
      "import matplotlib.pyplot as plt\n",
      "import scipy.integrate as integrate"
     ],
     "language": "python",
     "metadata": {},
     "outputs": [
      {
       "output_type": "stream",
       "stream": "stdout",
       "text": [
        "Populating the interactive namespace from numpy and matplotlib\n"
       ]
      }
     ],
     "prompt_number": 47
    },
    {
     "cell_type": "markdown",
     "metadata": {},
     "source": [
      "Question 1\n",
      "(a) Write two functions trapz(func,a,b,N) and simps(func,a,b,N) to compute the integral of the function func over the variable x using the trapezoidal rule and Simpson's rule to a file called Integrators.py. Do not use the scipy.integrate built-in functions. Include docstrings with each function that describe what they do. Then import the module and use the functions to answer the following questions. To avoid namespace conflicts, import your module as myint and then call the functions from that namespace. i.e.\n",
      "    import integrators as myint\n",
      "    #...your code...here\n",
      "    I = myint.trapz(func,a,b,N)\n",
      "Also, be sure that you import any needed modules inside your Integrators.py file."
     ]
    },
    {
     "cell_type": "code",
     "collapsed": false,
     "input": [
      "%%file Integrators.py\n",
      "\n",
      "import numpy as np\n",
      "\n",
      "def trapz(func,a,b,N):\n",
      "    h = (b-a)/N\n",
      "    \n",
      "    k = np.arange(1,N)\n",
      "    I = h*(0.5*func(a) + 0.5*func(b) + func(a+k*h).sum())\n",
      "\n",
      "    return I\n",
      "\n",
      "\n",
      "def simps(func,a,b,N):\n",
      "    h = (b-a)/N\n",
      "\n",
      "    k1 = np.arange(1,N/2+1)\n",
      "    k2 = np.arange(1,N/2)\n",
      "    I = (1./3.)*h*(func(a) + func(b) + \n",
      "        4.*func(a+(2*k1-1)*h).sum() + 2.*func(a+2*k2*h).sum())\n",
      "    \n",
      "    return I"
     ],
     "language": "python",
     "metadata": {},
     "outputs": [
      {
       "output_type": "stream",
       "stream": "stdout",
       "text": [
        "Overwriting Integrators.py\n"
       ]
      }
     ],
     "prompt_number": 29
    },
    {
     "cell_type": "markdown",
     "metadata": {},
     "source": [
      "(b) Use your trapz and simps functions from part (a) to calculate the integral of $x4\u22122x+1$ from $x = 0$ to $x = 2$ with $N = 10$, $N = 100$, and $N = 1000$. Then compare your result to the known correct value of $4.4$. What is the percent error in each case?"
     ]
    },
    {
     "cell_type": "code",
     "collapsed": false,
     "input": [
      "import Integrators as myint"
     ],
     "language": "python",
     "metadata": {},
     "outputs": [],
     "prompt_number": 27
    },
    {
     "cell_type": "code",
     "collapsed": false,
     "input": [
      "def func(x):\n",
      "    return x**4 - 2*x + 1\n",
      "\n",
      "func = lambda x : x**4 - 2*x + 1\n",
      "\n",
      "Itrapz_10 = myint.trapz(func,0.,2.,10.)\n",
      "Itrapz_100 = myint.trapz(func,0.,2.,10.)\n",
      "Itrapz_1000 = myint.trapz(func,0.,2.,10.)\n",
      "\n",
      "Isimps_10 = myint.simps(func,0.,2.,10.)\n",
      "Isimps_100 = myint.simps(func,0.,2.,10.)\n",
      "Isimps_1000 = myint.simps(func,0.,2.,10.)\n",
      "\n",
      "print \"The values for the trapezoidal method are:\\n\", Itrapz_10,Itrapz_100,Itrapz_1000\n",
      "print \"The errors are:\\n\", 440/Itrapz_10, 440/Itrapz_100, 440/Itrapz_100, \"percent\"\n",
      "\n",
      "print \"\\nThe values for Simpson's rule are:\\n\", Isimps_10,Isimps_100,Isimps_1000\n",
      "print \"The errors are:\\n\", 440/Isimps_10, 440/Isimps_100, 440/Isimps_100, \"percent\""
     ],
     "language": "python",
     "metadata": {},
     "outputs": [
      {
       "output_type": "stream",
       "stream": "stdout",
       "text": [
        "The values for the trapezoidal method are:\n",
        "4.50656 4.50656 4.50656\n",
        "The errors are:\n",
        "97.6354469928 97.6354469928 97.6354469928 percent\n",
        "\n",
        "The values for Simpson's rule are:\n",
        "4.40042666667 4.40042666667 4.40042666667\n",
        "The errors are:\n",
        "99.9903039705 99.9903039705 99.9903039705 percent\n"
       ]
      }
     ],
     "prompt_number": 46
    },
    {
     "cell_type": "markdown",
     "metadata": {},
     "source": [
      "Question 2\n",
      "Consider the integral\n",
      "\n",
      "E(x)=\u222bx0e\u2212t2dt\n",
      "\n",
      "This is the error function, commonly seen in probability and statistics. There is no known way to perform this particular integral analytically, although the integrand can be expanded in a Taylor series and terms computed to arbitrary order. For most applications, numerical approaches are the only way forward.\n",
      "\n",
      "(a) Use scipy.integrate.cumtrapz to calculate E(x) for values of x from 0 to 3 in steps of 0.1. Print the result."
     ]
    },
    {
     "cell_type": "code",
     "collapsed": false,
     "input": [
      "x = np.arange(0,3,.1)\n",
      "\n",
      "y = exp(-x**2)\n",
      "\n",
      "I = integrate.cumtrapz(y,x)\n",
      "\n",
      "print I"
     ],
     "language": "python",
     "metadata": {},
     "outputs": [
      {
       "output_type": "stream",
       "stream": "stdout",
       "text": [
        "[ 0.09950249  0.19704446  0.29078049  0.37908424  0.46063146  0.53445532\n",
        "  0.59997046  0.6569664   0.70557392  0.7462108   0.77951463  0.80627088\n",
        "  0.82734325  0.84361215  0.85592503  0.86506023  0.87170427  0.87644128\n",
        "  0.87975207  0.88202044  0.88354398  0.88454709  0.88519453  0.88560418\n",
        "  0.88585826  0.88601274  0.88610482  0.88615862  0.88618943]\n"
       ]
      }
     ],
     "prompt_number": 67
    },
    {
     "cell_type": "markdown",
     "metadata": {},
     "source": [
      "(b) Plot the integrand as a function of t and E(x) as a function of x (both ranging from 0 to 3) on the same graph."
     ]
    },
    {
     "cell_type": "code",
     "collapsed": false,
     "input": [
      "plt.plot(x,y)\n",
      "print len(x),len(I)\n",
      "plt.plot(x[:-1],I)\n",
      "plt.show()"
     ],
     "language": "python",
     "metadata": {},
     "outputs": [
      {
       "output_type": "stream",
       "stream": "stdout",
       "text": [
        "30 29\n"
       ]
      },
      {
       "metadata": {},
       "output_type": "display_data",
       "png": "[encoded data removed]",
       "text": [
        "<matplotlib.figure.Figure at 0x106adf610>"
       ]
      }
     ],
     "prompt_number": 64
    },
    {
     "cell_type": "markdown",
     "metadata": {},
     "source": [
      "Question 3\n",
      "Consider a particle in a one-dimensional box of width L. The probability of finding the particle between a and b is given by\n",
      "\n",
      "P(a,b)=\u222bba|\u03c8(x)|2dx\n",
      "where\n",
      "\n",
      "\u03c8(x)=2L\u203e\u203e\u203e\u221asin(n\u03c0xL)\n",
      "\n",
      "is the wavefunction."
     ]
    },
    {
     "cell_type": "markdown",
     "metadata": {},
     "source": [
      "(a) What is the probability of finding the particle between $L/3$ and $L/2$ for the ground state (n = 1) and for the first excited state $(n = 2)$? Let $L = 1$. Perform the integral using both scipy.integrate.trapz and scipy.integrate.quad with an accuracy of 6 sig figs. How many slices did you need to use for scipy.integrate.trapz?"
     ]
    },
    {
     "cell_type": "code",
     "collapsed": false,
     "input": [
      "def psi(x,n,L):\n",
      "    return (2./L)**(0.5)*np.sin(n*np.pi*x/L)\n",
      "\n",
      "x = np.arange(1./3.,0.5,.00000001)\n",
      "\n",
      "n = 1\n",
      "psi2 = lambda x : (2./1.)**(0.5)*np.sin(n*np.pi*x/1.)\n",
      "\n",
      "\n",
      "print \"n = 1\\n\"\n",
      "print \"The trapezoidal result is:\", integrate.trapz(psi(x,1,1),x)\n",
      "I,err = integrate.quad(psi2,1./3.,0.5)\n",
      "print \"The quad result is:\", I\n",
      "print \"100 Million steps were needed for 6 sig fig accuracy\""
     ],
     "language": "python",
     "metadata": {},
     "outputs": [
      {
       "output_type": "stream",
       "stream": "stdout",
       "text": [
        "n = 1\n",
        "\n",
        "The trapezoidal result is: "
       ]
      },
      {
       "output_type": "stream",
       "stream": "stdout",
       "text": [
        "0.225079069487\n",
        "The quad result is: 0.225079079039\n",
        "100 Million steps were needed for 6 sig fig accuracy\n"
       ]
      }
     ],
     "prompt_number": 103
    },
    {
     "cell_type": "code",
     "collapsed": false,
     "input": [
      "def psi(x,n,L):\n",
      "    return (2./L)**(0.5)*np.sin(2*n*np.pi*x/L)\n",
      "\n",
      "x = np.arange(1./3.,0.5,.0001)\n",
      "\n",
      "n = 1\n",
      "psi2 = lambda x : (2./1.)**(0.5)*np.sin(2*n*np.pi*x/1.)\n",
      "\n",
      "\n",
      "print \"n = 2\\n\"\n",
      "print \"The trapezoidal result is:\", integrate.trapz(psi(x,1,1),x)\n",
      "I,err = integrate.quad(psi2,1./3.,0.5)\n",
      "print \"The quad result is:\", I\n",
      "print \"10 thousand steps were needed for 6 sig fig accuracy\""
     ],
     "language": "python",
     "metadata": {},
     "outputs": [
      {
       "output_type": "stream",
       "stream": "stdout",
       "text": [
        "n = 2\n",
        "\n",
        "The trapezoidal result is: 0.112539516071\n",
        "The quad result is: 0.11253953952\n",
        "10 thousand steps were needed for 6 sig fig accuracy\n"
       ]
      }
     ],
     "prompt_number": 111
    },
    {
     "cell_type": "code",
     "collapsed": false,
     "input": [
      "x = np.arange(0,1,.0001)\n",
      "psi_n1 = lambda x : (2./1.)**(0.5)*np.sin(n*np.pi*x/1.)\n",
      "psi_n2 = lambda x : (2./1.)**(0.5)*np.sin(2*n*np.pi*x/1.)\n",
      "\n",
      "\n",
      "plt.plot(x,psi_n1(x), label = \"$\\psi^{2}(x)$ with n=1\")\n",
      "plt.plot(x,psi_n2(x), label = \"$\\psi^{2}(x)$ with n=2\")\n",
      "\n",
      "plt.legend(loc = 'best')\n",
      "plt.show()"
     ],
     "language": "python",
     "metadata": {},
     "outputs": [
      {
       "metadata": {},
       "output_type": "display_data",
       "png": "[encoded data removed]",
       "text": [
        "<matplotlib.figure.Figure at 0x106aef0d0>"
       ]
      }
     ],
     "prompt_number": 121
    },
    {
     "cell_type": "markdown",
     "metadata": {},
     "source": [
      "Question 4\n",
      "Integrals of mass density lead to three interesting quantities:\n",
      "\n",
      "M=\u222b\u03c1dVr\u20d7 \n",
      "cm=(xcm,ycm,zcm)=1M\u222br\u20d7 \n",
      "\u03c1dVIcm=\u222b(r\u2212rcm)2\u03c1dV\n",
      "\n",
      "where M is the total mass (a scalar), r\u20d7 cm is the center of mass position (a vector of 3 components), Icm are the moments of inertia about the center of mass (diagonals of a 3x3 matrix), and the mass density, \u03c1, may be a function of the spatial variables.\n",
      "\n",
      "Consider a rectangular box: length (in x) = 0.2 m, width (in y) = 0.2 m, and height (in z) = 1.0 m centered on the origin, (0,0,0) and with a mass density, \u03c1(x,y) = 100 (kg/m) [(y + 0.1) + z2] for y and z in meters.\n"
     ]
    },
    {
     "cell_type": "markdown",
     "metadata": {},
     "source": [
      "(a) Use numerical integration to find M, r\u20d7 cm, and Icm. Note that you need M to compute r\u20d7 cm and r\u20d7 cm to compute Icm. The moments of inertia Icm are Ixx, Iyy, and Izz, where e.g. $Ixx=\u222b((y\u2212ycm)2+(z\u2212zcm)2)\u03c1dV$, etc."
     ]
    },
    {
     "cell_type": "code",
     "collapsed": false,
     "input": [
      "from scipy.integrate import tplquad\n",
      "\n",
      "integrand = lambda z,y,x: 100*((y + 0.1) + z**2)\n",
      "\n",
      "xmin = -0.1\n",
      "xmax = 0.1\n",
      "\n",
      "ymin = lambda x: -0.1\n",
      "ymax = lambda x: 0.1\n",
      "\n",
      "zmin = lambda x,y: -0.5\n",
      "zmax = lambda x,y: 0.5\n",
      "\n",
      "ans, err = tplquad(integrand,xmin,xmax,ymin,ymax,zmin,zmax)\n",
      "\n",
      "print \"The mass of the block is\", ans"
     ],
     "language": "python",
     "metadata": {},
     "outputs": [
      {
       "output_type": "stream",
       "stream": "stdout",
       "text": [
        "The mass of the block is 0.733333333333\n"
       ]
      }
     ],
     "prompt_number": 129
    },
    {
     "cell_type": "code",
     "collapsed": false,
     "input": [
      "func_x = lambda z,y,x: 1/ans * x * 100*((y + 0.1) + z**2)\n",
      "func_y = lambda z,y,x: 1/ans * y * 100*((y + 0.1) + z**2)\n",
      "func_z = lambda z,y,x: 1/ans * z * 100*((y + 0.1) + z**2)\n",
      "\n",
      "xmin = -0.1\n",
      "xmax = 0.1\n",
      "\n",
      "ymin = lambda x: -0.1\n",
      "ymax = lambda x: 0.1\n",
      "\n",
      "zmin = lambda x,y: -0.5\n",
      "zmax = lambda x,y: 0.5\n",
      "\n",
      "comx, xerr = tplquad(func_x,xmin,xmax,ymin,ymax,zmin,zmax)\n",
      "comy, yerr = tplquad(func_y,xmin,xmax,ymin,ymax,zmin,zmax)\n",
      "comz, zerr = tplquad(func_z,xmin,xmax,ymin,ymax,zmin,zmax)\n",
      "print comx,comy,comz"
     ],
     "language": "python",
     "metadata": {},
     "outputs": [
      {
       "output_type": "stream",
       "stream": "stdout",
       "text": [
        "0.0 0.0181818181818 0.0\n"
       ]
      }
     ],
     "prompt_number": 138
    },
    {
     "cell_type": "code",
     "collapsed": false,
     "input": [],
     "language": "python",
     "metadata": {},
     "outputs": []
    }
   ],
   "metadata": {}
  }
 ]
}