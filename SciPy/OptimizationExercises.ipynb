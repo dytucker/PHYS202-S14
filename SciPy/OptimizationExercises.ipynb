{
 "metadata": {
  "name": "",
  "signature": "sha256:3adf18356d7c253d1155c1afe603cc27583f259d77718318a1d24e10203c236c"
 },
 "nbformat": 3,
 "nbformat_minor": 0,
 "worksheets": [
  {
   "cells": [
    {
     "cell_type": "heading",
     "level": 1,
     "metadata": {},
     "source": [
      "Linear Regression, Optimization and Curve Fitting Exercises"
     ]
    },
    {
     "cell_type": "code",
     "collapsed": false,
     "input": [
      "%pylab inline\n",
      "import numpy as np\n",
      "import matplotlib.pyplot as plot\n",
      "from scipy.optimize import curve_fit"
     ],
     "language": "python",
     "metadata": {},
     "outputs": [
      {
       "output_type": "stream",
       "stream": "stdout",
       "text": [
        "Populating the interactive namespace from numpy and matplotlib\n"
       ]
      }
     ],
     "prompt_number": 1
    },
    {
     "cell_type": "heading",
     "level": 3,
     "metadata": {},
     "source": [
      "Question 1"
     ]
    },
    {
     "cell_type": "markdown",
     "metadata": {},
     "source": [
      "(a) Write a function that can compute the weighted linear least squares (WLSQ) best fit line to a set of data."
     ]
    },
    {
     "cell_type": "code",
     "collapsed": false,
     "input": [
      "def WeightedLLSqFit(x,y,w):\n",
      "    \"\"\"Take in arrays representing (x,y) values for a set of linearly varying data and an array of weights w.\n",
      "    Perform a weighted linear least squares regression.  Return the resulting slope and intercept\n",
      "    parameters of the best fit line with their uncertainties.\n",
      "\n",
      "    If the weights are all equal to one, the uncertainties on the parameters are calculated using the \n",
      "    non-weighted least squares equations.\"\"\"\n",
      "\n",
      "    #your code goes here...\n",
      "    #if w.all() != w[::-1].all():\n",
      "    if w[::1] == w[::-1]\n",
      "        denom = w.sum()*(w*(x**2)).sum() - ((w*x).sum())**2\n",
      "        slope = ((w.sum())*(w*x*y).sum() - (w*x).sum()*(w*y).sum())/denom\n",
      "        intercept = ((w*(x**2)).sum() * (w*y).sum() - (w*x).sum() * (w*x*y).sum())/denom\n",
      "\n",
      "        slerr = (w.sum()/denom)**(1/2.)\n",
      "        interr = np.sqrt(((w*(x**2)).sum())/denom)\n",
      "        \n",
      "        return slope,slerr,intercept,interr\n",
      "    \n",
      "    \n",
      "    else:\n",
      "        xave = x.mean()\n",
      "        yave = y.mean()\n",
      "        x2ave = (x*x).mean()\n",
      "        xyave = (x*y).mean()\n",
      "        denom = (x2ave - xave**2)\n",
      "        m = (xyave - xave*yave)/denom\n",
      "        b = (x2ave*yave - xave*xyave)/denom\n",
      "        delta = y - (m*x + b)\n",
      "        d2ave = (delta*delta).mean()\n",
      "        n = len(y)\n",
      "        merr = sqrt((n-2)**(-1)*d2ave/denom)\n",
      "        berr = sqrt((n-2)**(-1)*d2ave*x2ave/denom)\n",
      "\n",
      "        return m,b,merr,berr    \n"
     ],
     "language": "python",
     "metadata": {},
     "outputs": [
      {
       "ename": "SyntaxError",
       "evalue": "invalid syntax (<ipython-input-29-334db7789be5>, line 11)",
       "output_type": "pyerr",
       "traceback": [
        "\u001b[1;36m  File \u001b[1;32m\"<ipython-input-29-334db7789be5>\"\u001b[1;36m, line \u001b[1;32m11\u001b[0m\n\u001b[1;33m    if w[::1] == w[::-1]\u001b[0m\n\u001b[1;37m                        ^\u001b[0m\n\u001b[1;31mSyntaxError\u001b[0m\u001b[1;31m:\u001b[0m invalid syntax\n"
       ]
      }
     ],
     "prompt_number": 29
    },
    {
     "cell_type": "markdown",
     "metadata": {},
     "source": [
      "(b) For the data below, use the uncertainties on the position values as weights to perform a WLSQ best fit. Print the results of the fit, both the fitted parameter values and their uncertainties."
     ]
    },
    {
     "cell_type": "code",
     "collapsed": false,
     "input": [
      "time = np.array([1.,2.,3.,4.,5.,6.,7.,8.,9.,10.])\n",
      "pos = np.array([7.75, 7.33, 6.89, 6.45, 5.96, 5.55, 5.10, 4.49, 3.93, 3.58])\n",
      "sigp = np.array([0.02, 0.03, 0.03, 0.04, 0.05, 0.06, 0.08, 0.11, 0.14, 0.17])\n",
      "\n",
      "print WeightedLLSqFit(time,pos,1/(sigp**2))"
     ],
     "language": "python",
     "metadata": {},
     "outputs": [
      {
       "output_type": "stream",
       "stream": "stdout",
       "text": [
        "(-0.45102398348675593, 0.0065758708587924392, 8.220071817895505, 0.021437765208320705)\n"
       ]
      }
     ],
     "prompt_number": 30
    },
    {
     "cell_type": "markdown",
     "metadata": {},
     "source": [
      "(c) Now make an errorbar plot that shows the (time,position) data with markers and error bars \u03c3p. Also plot lines representing the results from the LSQ and WSLQ fits to these data. Include a legend that shows the fitted line equations with the fit parameters as you did in the tour, with labels indicating which one is the weighted result and which the unweighted result."
     ]
    },
    {
     "cell_type": "code",
     "collapsed": false,
     "input": [
      "m,merr,b,berr = WeightedLLSqFit(time,pos,1/(sigp**2))\n",
      "pos = m*time+b\n",
      "plt.errorbar(time,pos,yerr = berr, xerr = merr,fmt='-')\n",
      "plt.show()"
     ],
     "language": "python",
     "metadata": {},
     "outputs": [
      {
       "metadata": {},
       "output_type": "display_data",
       "png": "[encoded data removed]",
       "text": [
        "<matplotlib.figure.Figure at 0xb451d68>"
       ]
      }
     ],
     "prompt_number": 31
    },
    {
     "cell_type": "heading",
     "level": 3,
     "metadata": {},
     "source": [
      "Question 2"
     ]
    },
    {
     "cell_type": "markdown",
     "metadata": {},
     "source": [
      "(a) Download the linked file waveform_2.npy by right-clicking on the link and selecting \"Save Link As\". Read in the data and plot it."
     ]
    },
    {
     "cell_type": "code",
     "collapsed": false,
     "input": [
      "waveform = np.load('waveform_2.npy')\n",
      "t = np.arange(len(waveform))"
     ],
     "language": "python",
     "metadata": {},
     "outputs": [],
     "prompt_number": 58
    },
    {
     "cell_type": "code",
     "collapsed": false,
     "input": [
      "plt.plot(t,waveform)\n",
      "plt.xlabel(\"time (ns)\",fontsize=20)\n",
      "plt.ylabel(\"intensity (bins)\",fontsize=20)\n",
      "plt.ylim(0,27)\n",
      "\n",
      "plt.show()"
     ],
     "language": "python",
     "metadata": {},
     "outputs": [
      {
       "metadata": {},
       "output_type": "display_data",
       "png": "[encoded data removed]",
       "text": [
        "<matplotlib.figure.Figure at 0xaac1ef0>"
       ]
      }
     ],
     "prompt_number": 62
    },
    {
     "cell_type": "code",
     "collapsed": false,
     "input": [
      "def model(t,B,A1,mu1,sigma1,A2,mu2,sigma2,A3,mu3,sigma3):\n",
      "    res1 = B + A1 * exp(-((t-mu1)/sigma1)**2)\n",
      "    res2 = A2 * exp(-((t-mu2)/sigma2)**2)\n",
      "    res3 = A3 * exp(-((t-mu3)/sigma3)**2)\n",
      "    return res1 + res2 + res3"
     ],
     "language": "python",
     "metadata": {},
     "outputs": [],
     "prompt_number": 61
    },
    {
     "cell_type": "markdown",
     "metadata": {},
     "source": [
      "(c) By inspecting the graph, come up with a set of initial guesses for the parameters of the fit and fit the data using curve_fit. Print the resulting parameters and their uncertainties."
     ]
    },
    {
     "cell_type": "code",
     "collapsed": false,
     "input": [
      "x0 =  np.array([3., 25., 18., 1.,\n",
      "                 12., 24., 1.5,\n",
      "                 8., 30., 2.])"
     ],
     "language": "python",
     "metadata": {},
     "outputs": [],
     "prompt_number": 69
    },
    {
     "cell_type": "code",
     "collapsed": false,
     "input": [
      "popt,pcov = curve_fit(model,t,waveform,x0)\n",
      "punc = zeros(len(popt))\n",
      "for i in arange(0,len(popt)):\n",
      "    punc[i] = sqrt(pcov[i,i])\n",
      "\n",
      "#Print the result\n",
      "print \"optimal parameters: \", popt\n",
      "print \"uncertainties of parameters: \", punc"
     ],
     "language": "python",
     "metadata": {},
     "outputs": [
      {
       "output_type": "stream",
       "stream": "stdout",
       "text": [
        "optimal parameters:  [  2.46463305  23.58626779  16.59646908   2.43359695   9.55796043\n",
        "  23.11517833   2.96739639   5.27900131  28.96465136   3.18706155]\n",
        "uncertainties of parameters:  [ 0.08507044  0.46011816  0.05143024  0.07398095  0.48590303  0.24342639\n",
        "  0.39312384  0.47628898  0.51919067  0.58988039]\n"
       ]
      }
     ],
     "prompt_number": 72
    },
    {
     "cell_type": "markdown",
     "metadata": {},
     "source": [
      "(d) Plot the data and the fit to see how well the model matches the data"
     ]
    },
    {
     "cell_type": "code",
     "collapsed": false,
     "input": [
      "popt,pcov = curve_fit(model,t,waveform,x0)\n",
      "\n",
      "plt.plot(t, waveform,label='data')\n",
      "plt.plot(t, model(t,popt[0],popt[1],popt[2],popt[3],\n",
      "                  popt[4],popt[5],popt[6],popt[7],popt[8],\n",
      "                  popt[9]),\n",
      "        'r-',label='fit',lw=2)\n",
      "plt.xlabel(\"Time (ns)\",fontsize=20)\n",
      "plt.ylabel(\"Intensity (bins)\",fontsize=20)\n",
      "\n",
      "plt.show()"
     ],
     "language": "python",
     "metadata": {},
     "outputs": [
      {
       "metadata": {},
       "output_type": "display_data",
       "png": "[encoded data removed]",
       "text": [
        "<matplotlib.figure.Figure at 0xabe97b8>"
       ]
      }
     ],
     "prompt_number": 71
    }
   ],
   "metadata": {}
  }
 ]
}