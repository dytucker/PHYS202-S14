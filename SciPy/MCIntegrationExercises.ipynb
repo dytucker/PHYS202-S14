{
 "metadata": {
  "name": "",
  "signature": "sha256:8970942e74fcf4c47aa7cb3b965ec5b6672d97ab173143788c5ca69fb7f7bf29"
 },
 "nbformat": 3,
 "nbformat_minor": 0,
 "worksheets": [
  {
   "cells": [
    {
     "cell_type": "heading",
     "level": 1,
     "metadata": {},
     "source": [
      "Monte Carlo Integration Exercises"
     ]
    },
    {
     "cell_type": "code",
     "collapsed": false,
     "input": [
      "%pylab inline\n",
      "import numpy as np\n",
      "import matplotlib.pyplot as plt"
     ],
     "language": "python",
     "metadata": {},
     "outputs": [
      {
       "output_type": "stream",
       "stream": "stdout",
       "text": [
        "Populating the interactive namespace from numpy and matplotlib\n"
       ]
      }
     ],
     "prompt_number": 1
    },
    {
     "cell_type": "code",
     "collapsed": false,
     "input": [
      "from Electrostatics import *\n",
      "from IPython.html.widgets import interact, interactive"
     ],
     "language": "python",
     "metadata": {},
     "outputs": [
      {
       "output_type": "stream",
       "stream": "stdout",
       "text": [
        "\n"
       ]
      }
     ],
     "prompt_number": 17
    },
    {
     "cell_type": "code",
     "collapsed": false,
     "input": [
      "def sampleMean(N=10000,xmin=1.7,xmax=12.4):\n",
      "    \n",
      "    f = lambda x: x**(0.5) + np.sin(x)\n",
      "    x = np.arange(0.,15.,0.001)\n",
      "    Iana = lambda x: (2./3.)*x**(3./2.) - np.cos(x)\n",
      "    Iexact = Iana(xmax)-Iana(xmin)\n",
      "    \n",
      "    samples_x = xmin + (xmax-xmin)*np.random.random_sample(N);\n",
      "    \n",
      "    approx = f(samples_x)\n",
      "    \n",
      "    Iunc = (xmax - xmin)*np.sqrt( ((approx**2).mean()-(approx.mean())**2)/N)\n",
      "    \n",
      "    \n",
      "    ymax = approx.max()\n",
      "    ymin=0.\n",
      "    \n",
      "    newmask = (samples_y < f(samples_x,))\n",
      "    I = (xmax-xmin)*(ymax-ymin)*newmask.sum()/newmask.size\n",
      "    \n",
      "    print \"I_exact = \", Iexact\n",
      "    print \"I_samplemean =\", I, \" +/- \",Iunc\n",
      "    print \"Error on I =\", Ierr,\"%\"\n",
      "    \n",
      "    plt.plot(x,f(x),lw=3)\n",
      "    plt.ylabel(r'$x^{1/2} + \\sin(x)$',fontsize=20)\n",
      "    plt.xlabel(r'$x$', fontsize = 20)\n",
      "    plt.xlim(0.,15.)\n",
      "    \n",
      "    plt.plot([xmin, xmin], [ymin, ymax], color='k', linestyle='--') \n",
      "    plt.plot([xmax, xmax], [ymin, ymax], color='k', linestyle='--')\n",
      "    plt.plot([xmin, xmax], [ymax, ymax], color='k', linestyle='--')\n",
      "    \n",
      "    plt.plot((xmin,xmax),(approx.mean(),approx.mean()),'r-',\n",
      "             label=\"Average value of the function at sample points\")\n",
      "    plt.legend(loc=\"upper left\")\n",
      "    \n",
      "    plt.show()\n",
      "    \n",
      "v = interact(sampleMean,N=(1000,100000,100),xmin=(0.,15.,0.001),\n",
      "              xmax=(0.,15.,0.001))"
     ],
     "language": "python",
     "metadata": {},
     "outputs": []
    },
    {
     "cell_type": "code",
     "collapsed": false,
     "input": [
      "def potentialFinder(N,xmin=-1,xmax=1,ymin=-1,ymax=1):\n",
      "    f = lambda x,y: pointPotential(x,y,10**(-6),2,3)\n",
      "    x = np.arange(0.,1.,0.001)\n",
      "    y = np.arange(0.,1.,0.001)\n",
      "    \n",
      "    subx = x[logical_and((x > xmin),(x<xmax))]\n",
      "    suby = y[logical_and((y > ymin),(y<ymax))]\n",
      "\n",
      "    zmax = f(subx,suby).max()*1.05\n",
      "    zmin = f(subx,suby).min()*1.05\n",
      "    \n",
      "    samples_x = xmin + (xmax-xmin)*np.random.random_sample(N);\n",
      "    samples_y = ymin + (ymax-ymin)*np.random.random_sample(N);\n",
      "    samples_z = ymin + (zmax-zmin)*np.random.random_sample(N);\n",
      "    \n",
      "\n",
      "    \n",
      "    \n",
      "    approx = f(samples_x,samples_y)\n",
      "    \n",
      "    Iunc = (xmax-xmin)*(ymax-ymin)*np.sqrt(((f(x,y)**2).mean() - \n",
      "                                          ((f(x,y)).mean())**2))\n",
      "    \n",
      "    zmax = approx.max()\n",
      "    zmin=0.\n",
      "    \n",
      "    newmask = (approx < f(samples_x,samples_y))\n",
      "    I = (xmax-xmin)*(ymax-ymin)*newmask.sum()/newmask.size\n",
      "    \n",
      "    print approx[0:10]\n",
      "    print f(samples_x,samples_y)[:10]\n",
      "    \n",
      "    print \"I_samplemean =\", I, \" +/- \",Iunc\n",
      "potentialFinder(100000)"
     ],
     "language": "python",
     "metadata": {},
     "outputs": [
      {
       "output_type": "stream",
       "stream": "stdout",
       "text": [
        "[ 2354.5978034   1982.0121177   2043.15167349  1914.67185061  2537.80964724\n",
        "  2619.81774774  3854.91325609  3060.49370752  2176.64236713  2257.79430167]\n",
        "[ 2354.5978034   1982.0121177   2043.15167349  1914.67185061  2537.80964724\n",
        "  2619.81774774  3854.91325609  3060.49370752  2176.64236713  2257.79430167]\n",
        "I_samplemean = 0  +/-  1738.59265895\n"
       ]
      }
     ],
     "prompt_number": 36
    },
    {
     "cell_type": "code",
     "collapsed": false,
     "input": [
      "!cat Electrostatics.py"
     ],
     "language": "python",
     "metadata": {},
     "outputs": [
      {
       "output_type": "stream",
       "stream": "stdout",
       "text": [
        "\r\n",
        "import numpy as np\r\n",
        "\r\n",
        "def pointPotential(x,y,q,Xc,Yc):\r\n",
        "    \"\"\"\r\n",
        "    Return the electric potential for a \r\n",
        "    point charge q at (Xc,Yc)\r\n",
        "    \r\n",
        "    Units returned are [Volts] if input \r\n",
        "    units are [meters] and [Coulombs]                                   \r\n",
        "    \"\"\"\r\n",
        "    \r\n",
        "    k = 8.987551787997912e9 #(Nm^2/C^2) \r\n",
        "    \r\n",
        "    Vxy = k*q/np.sqrt(((x-Xc)**2 + (y-Yc)**2))\r\n",
        "    return Vxy\r\n",
        "\r\n",
        "def dipolePotential(x,y,q,d):\r\n",
        "    Vxy=pointPotential(x,y,q,-d/2.,0.) + pointPotential(x,y,-q,+d/2.,0.)\r\n",
        "    return Vxy"
       ]
      }
     ],
     "prompt_number": 12
    },
    {
     "cell_type": "code",
     "collapsed": false,
     "input": [],
     "language": "python",
     "metadata": {},
     "outputs": []
    }
   ],
   "metadata": {}
  }
 ]
}