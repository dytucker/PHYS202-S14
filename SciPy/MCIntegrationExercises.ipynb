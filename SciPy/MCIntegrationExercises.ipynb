{
 "metadata": {
  "name": "",
  "signature": "sha256:70f1b5f21057345c055d427fbfafda69d0c039ed5cf2b5188e8c05d185705827"
 },
 "nbformat": 3,
 "nbformat_minor": 0,
 "worksheets": [
  {
   "cells": [
    {
     "cell_type": "heading",
     "level": 1,
     "metadata": {},
     "source": [
      "Monte Carlo Integration Exercises"
     ]
    },
    {
     "cell_type": "code",
     "collapsed": false,
     "input": [
      "%pylab inline\n",
      "import numpy as np\n",
      "import matplotlib.pyplot as plt"
     ],
     "language": "python",
     "metadata": {},
     "outputs": [
      {
       "output_type": "stream",
       "stream": "stdout",
       "text": [
        "Populating the interactive namespace from numpy and matplotlib\n"
       ]
      }
     ],
     "prompt_number": 1
    },
    {
     "cell_type": "code",
     "collapsed": false,
     "input": [
      "from Electrostatics import *\n",
      "from IPython.html.widgets import interact, interactive"
     ],
     "language": "python",
     "metadata": {},
     "outputs": [],
     "prompt_number": 4
    },
    {
     "cell_type": "code",
     "collapsed": false,
     "input": [
      "def potentialFinder(N=10000,xmin=-1,xmax=1,ymin=0,ymax=2):\n",
      "    #q = 1 microcoulomb\n",
      "    #finding potential at point (2,3)\n",
      "    # Q = sigma*dA\n",
      "    # sigma = 1 microcoulomb per meter sqared. dA = (.001)^2\n",
      "    # q = 10^-6 microcoulombs\n",
      "    f = lambda x,y: pointPotential(x,y,10**-11,2,3)\n",
      "    print f(0,0)\n",
      "    \n",
      "    #creating x and y values\n",
      "    x = np.arange(xmin,xmax,0.001)\n",
      "    y = np.arange(ymin,ymax,0.001)\n",
      "    \n",
      "    \n",
      "    #not sure what this is for\n",
      "    \"\"\"subx = x[logical_and((x > xmin),(x<xmax))]\n",
      "    suby = y[logical_and((y > ymin),(y<ymax))]\"\"\"\n",
      "    \n",
      "    \n",
      "\n",
      "    #setting ragnge for z one way\n",
      "    zmax = f(x,y).max()\n",
      "    zmin = 0\n",
      "    \n",
      "    #getting random (x,y) points\n",
      "    samples_x = xmin + (xmax-xmin)*np.random.random_sample(N);\n",
      "    samples_y = ymin + (ymax-ymin)*np.random.random_sample(N);\n",
      "\n",
      "    \n",
      "    #approximating the function with set of random points\n",
      "    approx = f(samples_x,samples_y)\n",
      "    \n",
      "    #the uncertainty\n",
      "    Iunc = (xmax-xmin)*(ymax-ymin)*np.sqrt(((f(x,y)**2).mean() - \n",
      "                                          ((f(x,y)).mean())**2))\n",
      "    #getting range of z\n",
      "    zmax = f(x,y).max()\n",
      "    zmin = f(x,y).min()\n",
      "    \n",
      "    samples_z = zmin + (zmax-zmin)*np.random.random_sample(N);\n",
      "    \n",
      "    #number of samples within \n",
      "    newmask = (samples_z < f(samples_x,samples_y))\n",
      "    I = (xmax-xmin)*(ymax-ymin)*(zmax-zmin)*newmask.sum()/float(newmask.size)\n",
      "\n",
      "    print zmax, zmin\n",
      "    \n",
      "    print \"I_samplemean =\", I, \" +/- \",Iunc\n",
      "potentialFinder()"
     ],
     "language": "python",
     "metadata": {},
     "outputs": [
      {
       "output_type": "stream",
       "stream": "stdout",
       "text": [
        "0.0249269837019\n",
        "0.0634881000555 0.0211838627185\n",
        "I_samplemean = 0.046196227172  +/-  0.0451579428226\n"
       ]
      }
     ],
     "prompt_number": 23
    },
    {
     "cell_type": "markdown",
     "metadata": {},
     "source": [
      "Question 2\n",
      "Use the sample mean method to compute the volume of a sphere with radius 1 using spherical coordinates:\n",
      "\n",
      "$V=\\int_{0}^{1}\\int_{0}^{\\pi}\\int_{0}^{2\\pi}r^2sin(\u03b8)drd\u03b8d\u03d5$\n",
      "\n",
      "for $N=(10^1,10^2,10^3,10^4,10^5,10^6)$. Report the value and statistical uncertainty for each sample size. How does the result depend on N?"
     ]
    },
    {
     "cell_type": "code",
     "collapsed": false,
     "input": [
      "frpt =  lambda r,phi,theta: (r**2)*np.sin(theta)\n",
      "r_range = 1\n",
      "phi_range =2*np.pi\n",
      "theta_range = np.pi\n",
      "\n",
      "i = (10**1,10**2,10**3,10**4,10**5,10**6)\n",
      "for N in i:\n",
      "    r = r_range*np.random.random_sample(N)\n",
      "    phi = phi_range*np.random.random_sample(N)\n",
      "    theta = theta_range*np.random.random_sample(N)\n",
      "\n",
      "    \n",
      "    I = r_range*phi_range*theta_range*frpt(r,phi,theta).mean()\n",
      "    err = r_range*phi_range*theta_range*np.sqrt(((frpt(r,phi,theta)**2).mean() - (frpt(r,phi,theta).mean())**2)/N)\n",
      "    exact = 4*np.pi/3.\n",
      "    \n",
      "    \n",
      "    print \"Exact =\",exact,\"I=\",I,\" +/-\",err,\"percentErr =\",100.*np.abs(I-exact)/exact"
     ],
     "language": "python",
     "metadata": {},
     "outputs": [
      {
       "output_type": "stream",
       "stream": "stdout",
       "text": [
        "Exact = 4.18879020479 I= 4.53496947356  +/- 1.67850568948 percentErr = 8.2644212733\n",
        "Exact = 4.18879020479 I= 3.94737115203  +/- 0.442442848966 percentErr = 5.76345534032\n",
        "Exact = 4.18879020479 I= 4.21544082802  +/- 0.148094860542 percentErr = 0.636236763605\n",
        "Exact = 4.18879020479 I= 4.21141754211  +/- 0.0467289533005 percentErr = 0.54018788755\n",
        "Exact ="
       ]
      },
      {
       "output_type": "stream",
       "stream": "stdout",
       "text": [
        " 4.18879020479 I= 4.187562786  +/- 0.0146091583657 percentErr = 0.0293024649734\n",
        "Exact ="
       ]
      },
      {
       "output_type": "stream",
       "stream": "stdout",
       "text": [
        " 4.18879020479 I= 4.18914299981  +/- 0.00462599812829 percentErr = 0.00842236083438\n"
       ]
      }
     ],
     "prompt_number": 13
    },
    {
     "cell_type": "markdown",
     "metadata": {},
     "source": [
      "Question 3\n",
      "(a) Use the hit or miss Monte Carlo method to estimate the integral of f(x)=41\u2212x2\u2212\u2212\u2212\u2212\u2212\u221a in the interval 0\u2264x\u22641 as a function of N, the number of samples. Let N range from 101 to 106 and use at least 100 different values for N.\n",
      "(np.logspace might be useful here to get evenly spaced values for N.)"
     ]
    },
    {
     "cell_type": "code",
     "collapsed": false,
     "input": [
      "def fx_integral(N):\n",
      "    f = lambda x: 4*np.sqrt(1-x**2)\n",
      "    x = np.arange(0,1,.001)\n",
      "    xmax = 1\n",
      "    xmin = 0\n",
      "    ymax = f(x).max()\n",
      "    ymin = 0\n",
      "\n",
      "    fdsa = np.random.random_sample(N)\n",
      "    samples_x = xmin + (xmax-xmin)*np.random.random_sample(N);\n",
      "    samples_y = ymin + (ymax-ymin)*np.random.random_sample(N);\n",
      "    \n",
      "    mask = (samples_y < f(samples_x))\n",
      "    \n",
      "    I = (xmax-xmin)*(ymax-ymin)*mask.sum()/mask.size\n",
      "    return I\n",
      "    \n",
      "    \"\"\"plt.plot(x,f(x),lw=3)\n",
      "    plt.ylabel(r'$4\\sqrt{1-x^2}$',fontsize=20)\n",
      "    plt.xlabel(r'$x$', fontsize = 20)\n",
      "    plt.plot(samples_x[1:500],samples_y[1:500],'g.')\n",
      "    plt.show()\"\"\""
     ],
     "language": "python",
     "metadata": {},
     "outputs": [],
     "prompt_number": 66
    },
    {
     "cell_type": "code",
     "collapsed": false,
     "input": [
      "x = fx_integral(10000000)\n",
      "print x"
     ],
     "language": "python",
     "metadata": {},
     "outputs": [
      {
       "output_type": "stream",
       "stream": "stdout",
       "text": [
        "3.1412756\n"
       ]
      }
     ],
     "prompt_number": 67
    },
    {
     "cell_type": "code",
     "collapsed": false,
     "input": [
      "tot = 0\n",
      "for N in np.logspace(2,6,num = 100):\n",
      "    I = fx_integral(N)\n",
      "    print \"For N = %.2f, the integral evaluates to %.5f\"%(N,I)\n"
     ],
     "language": "python",
     "metadata": {},
     "outputs": [
      {
       "output_type": "stream",
       "stream": "stdout",
       "text": [
        "For N = 100.00, the integral evaluates to 3.32000\n",
        "For N = 109.75, the integral evaluates to 3.30275\n",
        "For N = 120.45, the integral evaluates to 3.23333\n",
        "For N = 132.19, the integral evaluates to 3.24242\n",
        "For N = 145.08, the integral evaluates to 3.08966\n",
        "For N = 159.23, the integral evaluates to 3.27044\n",
        "For N = 174.75, the integral evaluates to 3.05747\n",
        "For N = 191.79, the integral evaluates to 3.20419\n",
        "For N = 210.49, the integral evaluates to 3.12381\n",
        "For N = 231.01, the integral evaluates to 3.22078\n",
        "For N = 253.54, the integral evaluates to 3.00395\n",
        "For N = 278.26, the integral evaluates to 3.39568\n",
        "For N = 305.39, the integral evaluates to 2.93770\n",
        "For N = 335.16, the integral evaluates to 3.08060\n",
        "For N = 367.84, the integral evaluates to 2.96458\n",
        "For N = 403.70, the integral evaluates to 3.03722\n",
        "For N = 443.06, the integral evaluates to 3.14221\n",
        "For N = 486.26, the integral evaluates to 3.08642\n",
        "For N = 533.67, the integral evaluates to 3.27205\n",
        "For N = 585.70, the integral evaluates to 3.17949\n",
        "For N = 642.81, the integral evaluates to 3.08411\n",
        "For N = 705.48, the integral evaluates to 3.10922\n",
        "For N = 774.26, the integral evaluates to 3.09561\n",
        "For N = 849.75, the integral evaluates to 3.14252\n",
        "For N = 932.60, the integral evaluates to 3.12017\n",
        "For N = 1023.53, the integral evaluates to 3.16716\n",
        "For N = 1123.32, the integral evaluates to 3.13090\n",
        "For N = 1232.85, the integral evaluates to 3.25000\n",
        "For N = 1353.05, the integral evaluates to 3.16334\n",
        "For N = 1484.97, the integral evaluates to 3.19137\n",
        "For N = 1629.75, the integral evaluates to 3.14303\n",
        "For N = 1788.65, the integral evaluates to 3.09396\n",
        "For N = 1963.04, the integral evaluates to 3.12990\n",
        "For N = 2154.43, the integral evaluates to 3.10678\n",
        "For N = 2364.49, the integral evaluates to 3.12860\n",
        "For N = 2595.02, the integral evaluates to 3.11830\n",
        "For N = 2848.04, the integral evaluates to 3.12500\n",
        "For N = 3125.72, the integral evaluates to 3.14112\n",
        "For N = 3430.47, the integral evaluates to 3.14169\n",
        "For N = 3764.94, the integral evaluates to 3.13603\n",
        "For N = 4132.01, the integral evaluates to 3.17425\n",
        "For N = 4534.88, the integral evaluates to 3.16895\n",
        "For N = 4977.02, the integral evaluates to 3.11433\n",
        "For N = 5462.28, the integral evaluates to 3.16807\n",
        "For N = 5994.84, the integral evaluates to 3.12779\n",
        "For N = 6579.33, the integral evaluates to 3.18589\n",
        "For N = 7220.81, the integral evaluates to 3.16233\n",
        "For N = 7924.83, the integral evaluates to 3.14942\n",
        "For N = 8697.49, the integral evaluates to 3.10544\n",
        "For N = 9545.48, the integral evaluates to 3.13798\n",
        "For N = 10476.16, the integral evaluates to 3.14586\n"
       ]
      },
      {
       "output_type": "stream",
       "stream": "stdout",
       "text": [
        "For N = 11497.57, the integral evaluates to 3.13125\n",
        "For N = 12618.57, the integral evaluates to 3.15422\n",
        "For N = 13848.86, the integral evaluates to 3.13692\n",
        "For N = 15199.11, the integral evaluates to 3.16389\n",
        "For N = 16681.01, the integral evaluates to 3.14370\n",
        "For N = 18307.38, the integral evaluates to 3.13847\n",
        "For N = 20092.33, the integral evaluates to 3.14095\n",
        "For N = 22051.31, the integral evaluates to 3.15378\n",
        "For N = 24201.28, the integral evaluates to 3.15888\n",
        "For N = 26560.88, the integral evaluates to 3.13208\n",
        "For N = 29150.53, the integral evaluates to 3.15787\n",
        "For N = 31992.67, the integral evaluates to 3.14641"
       ]
      },
      {
       "output_type": "stream",
       "stream": "stdout",
       "text": [
        "\n",
        "For N = 35111.92, the integral evaluates to 3.14477\n",
        "For N = 38535.29, the integral evaluates to 3.15755\n",
        "For N = 42292.43, the integral evaluates to 3.13771\n",
        "For N = 46415.89, the integral evaluates to 3.14105\n",
        "For N = 50941.38, the integral evaluates to 3.14105\n",
        "For N = 55908.10, the integral evaluates to 3.13723"
       ]
      },
      {
       "output_type": "stream",
       "stream": "stdout",
       "text": [
        "\n",
        "For N = 61359.07, the integral evaluates to 3.13460\n",
        "For N = 67341.51, the integral evaluates to 3.14507\n",
        "For N = 73907.22, the integral evaluates to 3.15018\n",
        "For N = 81113.08, the integral evaluates to 3.14223"
       ]
      },
      {
       "output_type": "stream",
       "stream": "stdout",
       "text": [
        "\n",
        "For N = 89021.51, the integral evaluates to 3.14187\n",
        "For N = 97701.00, the integral evaluates to 3.14391\n",
        "For N = 107226.72, the integral evaluates to 3.14398"
       ]
      },
      {
       "output_type": "stream",
       "stream": "stdout",
       "text": [
        "\n",
        "For N = 117681.20, the integral evaluates to 3.13668\n",
        "For N = 129154.97, the integral evaluates to 3.13889"
       ]
      },
      {
       "output_type": "stream",
       "stream": "stdout",
       "text": [
        "\n",
        "For N = 141747.42, the integral evaluates to 3.13962\n",
        "For N = 155567.61, the integral evaluates to 3.13444"
       ]
      },
      {
       "output_type": "stream",
       "stream": "stdout",
       "text": [
        "\n",
        "For N = 170735.26, the integral evaluates to 3.14436\n",
        "For N = 187381.74, the integral evaluates to 3.14053"
       ]
      },
      {
       "output_type": "stream",
       "stream": "stdout",
       "text": [
        "\n",
        "For N = 205651.23, the integral evaluates to 3.14634"
       ]
      },
      {
       "output_type": "stream",
       "stream": "stdout",
       "text": [
        "\n",
        "For N = 225701.97, the integral evaluates to 3.14352"
       ]
      },
      {
       "output_type": "stream",
       "stream": "stdout",
       "text": [
        "\n",
        "For N = 247707.64, the integral evaluates to 3.14181"
       ]
      },
      {
       "output_type": "stream",
       "stream": "stdout",
       "text": [
        "\n",
        "For N = 271858.82, the integral evaluates to 3.14236"
       ]
      },
      {
       "output_type": "stream",
       "stream": "stdout",
       "text": [
        "\n",
        "For N = 298364.72, the integral evaluates to 3.14102"
       ]
      },
      {
       "output_type": "stream",
       "stream": "stdout",
       "text": [
        "\n",
        "For N = 327454.92, the integral evaluates to 3.14098"
       ]
      },
      {
       "output_type": "stream",
       "stream": "stdout",
       "text": [
        "\n",
        "For N = 359381.37, the integral evaluates to 3.14349"
       ]
      },
      {
       "output_type": "stream",
       "stream": "stdout",
       "text": [
        "\n",
        "For N = 394420.61, the integral evaluates to 3.14063"
       ]
      },
      {
       "output_type": "stream",
       "stream": "stdout",
       "text": [
        "\n",
        "For N = 432876.13, the integral evaluates to 3.14400"
       ]
      },
      {
       "output_type": "stream",
       "stream": "stdout",
       "text": [
        "\n",
        "For N = 475081.02, the integral evaluates to 3.14336"
       ]
      },
      {
       "output_type": "stream",
       "stream": "stdout",
       "text": [
        "\n",
        "For N = 521400.83, the integral evaluates to 3.13946"
       ]
      },
      {
       "output_type": "stream",
       "stream": "stdout",
       "text": [
        "\n",
        "For N = 572236.77, the integral evaluates to 3.14029"
       ]
      },
      {
       "output_type": "stream",
       "stream": "stdout",
       "text": [
        "\n",
        "For N = 628029.14, the integral evaluates to 3.14084"
       ]
      },
      {
       "output_type": "stream",
       "stream": "stdout",
       "text": [
        "\n",
        "For N = 689261.21, the integral evaluates to 3.14155"
       ]
      },
      {
       "output_type": "stream",
       "stream": "stdout",
       "text": [
        "\n",
        "For N = 756463.33, the integral evaluates to 3.14007"
       ]
      },
      {
       "output_type": "stream",
       "stream": "stdout",
       "text": [
        "\n",
        "For N = 830217.57, the integral evaluates to 3.13896"
       ]
      },
      {
       "output_type": "stream",
       "stream": "stdout",
       "text": [
        "\n",
        "For N = 911162.76, the integral evaluates to 3.14176"
       ]
      },
      {
       "output_type": "stream",
       "stream": "stdout",
       "text": [
        "\n",
        "For N = 1000000.00, the integral evaluates to 3.14065"
       ]
      },
      {
       "output_type": "stream",
       "stream": "stdout",
       "text": [
        "\n"
       ]
      }
     ],
     "prompt_number": 82
    },
    {
     "cell_type": "markdown",
     "metadata": {},
     "source": [
      "(b) Calculate the percent error for the N values from part (a) using the exact result \u03c0. Make a log-log plot of the error as a function of N.\n",
      "What is the approximate functional dependence of the error on N for large N, for example N\u2265104?\n"
     ]
    },
    {
     "cell_type": "code",
     "collapsed": false,
     "input": [
      "N_list = []\n",
      "error_list = []\n",
      "for N in np.logspace(2,6,num = 100):\n",
      "    I = fx_integral(N)\n",
      "    N_list.append(N)\n",
      "    error = np.abs(I-np.pi)/np.pi * 100\n",
      "    error_list.append(error)\n",
      "\n",
      "plt.plot(N_list,error_list)\n",
      "plt.xscale('log')\n",
      "plt.yscale('log')\n",
      "plt.xlabel(\"Number of Samples\",fontsize=20)\n",
      "plt.ylabel(\"Percent Error (logscale)\",fontsize=20)\n",
      "plt.show()"
     ],
     "language": "python",
     "metadata": {},
     "outputs": [
      {
       "metadata": {},
       "output_type": "display_data",
       "png": "[encoded data removed]",
       "text": [
        "<matplotlib.figure.Figure at 0xaceada0>"
       ]
      }
     ],
     "prompt_number": 92
    },
    {
     "cell_type": "markdown",
     "metadata": {},
     "source": [
      "When N is greater than 10,000 the functional dependance of the error on N is approximately exponentially decreasing."
     ]
    },
    {
     "cell_type": "markdown",
     "metadata": {},
     "source": [
      "(c) Estimate the same integral using the sample mean method and compute the statistical uncertainty and error as a function of the number of samples N for N\u2265104. Use at least 100 different values for N.\n",
      "Make a log-log plot of both the statistical uncertainty and the error as a function of N.\n",
      "How many samples are needed to determine the result to two decimal places? What is the approximate functional dependence of the error on N for large N?"
     ]
    },
    {
     "cell_type": "code",
     "collapsed": false,
     "input": [
      "def mean_integral(N):\n",
      "    f = lambda x: 4*np.sqrt(1-x**2)\n",
      "    x = np.arange(0,1,.001)\n",
      "\n",
      "    x_samples = np.random.random_sample(N)\n",
      "    approx = f(x_samples)\n",
      "    I = approx.mean()\n",
      "    \n",
      "    unc = np.sqrt(((approx**2).mean() - (approx.mean())**2)/N)\n",
      "    \n",
      "    return I,unc"
     ],
     "language": "python",
     "metadata": {},
     "outputs": [],
     "prompt_number": 2
    },
    {
     "cell_type": "code",
     "collapsed": false,
     "input": [
      "N_list = []\n",
      "error_list = []\n",
      "unc_list = []\n",
      "for N in np.logspace(4,7,num = 100):\n",
      "    I,unc = mean_integral(N)\n",
      "    N_list.append(N)\n",
      "    unc_list.append(unc)\n",
      "    error = np.abs(I-np.pi)/np.pi * 100\n",
      "    error_list.append(error)\n",
      "\n",
      "\n",
      "\n",
      "plt.plot(N_list,error_list, color = \"purple\", label = \"percent error\")\n",
      "plt.plot(N_list,unc_list, color = 'red', label = \"uncertainty\")\n",
      "plt.xscale('log')\n",
      "plt.yscale('log')\n",
      "plt.xlabel(\"Number of Samples\",fontsize=20)\n",
      "plt.ylabel(\"Percent (logscale)\",fontsize=20)\n",
      "plt.legend(loc = 'best')\n",
      "plt.show()\n",
      "\n"
     ],
     "language": "python",
     "metadata": {},
     "outputs": [
      {
       "metadata": {},
       "output_type": "display_data",
       "png": "[encoded data removed]",
       "text": [
        "<matplotlib.figure.Figure at 0xa776c50>"
       ]
      }
     ],
     "prompt_number": 10
    },
    {
     "cell_type": "markdown",
     "metadata": {},
     "source": [
      "About 1,000,000 samples are needed to determine the result to two decimal places. The error dependance of N for large N appear to be about linear."
     ]
    },
    {
     "cell_type": "code",
     "collapsed": false,
     "input": [],
     "language": "python",
     "metadata": {},
     "outputs": []
    }
   ],
   "metadata": {}
  }
 ]
}