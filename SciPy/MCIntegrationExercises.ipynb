{
 "metadata": {
  "name": "",
  "signature": "sha256:f0d07d3e11aac7272a1bc3592fbeafb9beb2ae649075f266147b3ad2b9cd7df5"
 },
 "nbformat": 3,
 "nbformat_minor": 0,
 "worksheets": [
  {
   "cells": [
    {
     "cell_type": "heading",
     "level": 1,
     "metadata": {},
     "source": [
      "Monte Carlo Integration Exercises"
     ]
    },
    {
     "cell_type": "code",
     "collapsed": false,
     "input": [
      "%pylab inline\n",
      "import numpy as np\n",
      "import matplotlib.pyplot as plt"
     ],
     "language": "python",
     "metadata": {},
     "outputs": [
      {
       "output_type": "stream",
       "stream": "stdout",
       "text": [
        "Populating the interactive namespace from numpy and matplotlib\n"
       ]
      },
      {
       "output_type": "stream",
       "stream": "stderr",
       "text": [
        "WARNING: pylab import has clobbered these variables: ['interactive']\n",
        "`%matplotlib` prevents importing * from pylab and numpy\n"
       ]
      }
     ],
     "prompt_number": 48
    },
    {
     "cell_type": "code",
     "collapsed": false,
     "input": [
      "from Electrostatics import *\n",
      "from IPython.html.widgets import interact, interactive"
     ],
     "language": "python",
     "metadata": {},
     "outputs": [],
     "prompt_number": 49
    },
    {
     "cell_type": "code",
     "collapsed": false,
     "input": [
      "def sampleMean(N=10000,xmin=1.7,xmax=12.4):\n",
      "    \n",
      "    f = lambda x: x**(0.5) + np.sin(x)\n",
      "    x = np.arange(0.,15.,0.001)\n",
      "    Iana = lambda x: (2./3.)*x**(3./2.) - np.cos(x)\n",
      "    Iexact = Iana(xmax)-Iana(xmin)\n",
      "    \n",
      "    samples_x = xmin + (xmax-xmin)*np.random.random_sample(N);\n",
      "    \n",
      "    approx = f(samples_x)\n",
      "    \n",
      "    Iunc = (xmax - xmin)*np.sqrt( ((approx**2).mean()-(approx.mean())**2)/N)\n",
      "    \n",
      "    \n",
      "    ymax = approx.max()\n",
      "    ymin=0.\n",
      "    \n",
      "    newmask = (samples_y < f(samples_x,))\n",
      "    I = (xmax-xmin)*(ymax-ymin)*newmask.sum()/newmask.size\n",
      "    \n",
      "    print \"I_exact = \", Iexact\n",
      "    print \"I_samplemean =\", I, \" +/- \",Iunc\n",
      "    print \"Error on I =\", Ierr,\"%\"\n",
      "    \n",
      "    plt.plot(x,f(x),lw=3)\n",
      "    plt.ylabel(r'$x^{1/2} + \\sin(x)$',fontsize=20)\n",
      "    plt.xlabel(r'$x$', fontsize = 20)\n",
      "    plt.xlim(0.,15.)\n",
      "    \n",
      "    plt.plot([xmin, xmin], [ymin, ymax], color='k', linestyle='--') \n",
      "    plt.plot([xmax, xmax], [ymin, ymax], color='k', linestyle='--')\n",
      "    plt.plot([xmin, xmax], [ymax, ymax], color='k', linestyle='--')\n",
      "    \n",
      "    plt.plot((xmin,xmax),(approx.mean(),approx.mean()),'r-',\n",
      "             label=\"Average value of the function at sample points\")\n",
      "    plt.legend(loc=\"upper left\")\n",
      "    \n",
      "    plt.show()\n",
      "    \n",
      "v = interact(sampleMean,N=(1000,100000,100),xmin=(0.,15.,0.001),\n",
      "              xmax=(0.,15.,0.001))"
     ],
     "language": "python",
     "metadata": {},
     "outputs": []
    },
    {
     "cell_type": "code",
     "collapsed": false,
     "input": [
      "def potentialFinder(N=10000,xmin=-1,xmax=1,ymin=-1,ymax=1):\n",
      "    #q = 1 microcoulomb\n",
      "    #finding potential at point (2,3)\n",
      "    # Q = sigma*dA\n",
      "    # sigma = 1 microcoulomb per meter sqared. dA = (.001)^2\n",
      "    # q = 10^-6 microcoulombs\n",
      "    f = lambda x,y: pointPotential(x,y,10**-12,2,3)\n",
      "    print f(0,0)\n",
      "    \n",
      "    #creating x and y values\n",
      "    x = np.arange(-1.,1.,0.001)\n",
      "    y = np.arange(0.,2.,0.001)\n",
      "    \n",
      "    \n",
      "    #not sure what this is for\n",
      "    \"\"\"subx = x[logical_and((x > xmin),(x<xmax))]\n",
      "    suby = y[logical_and((y > ymin),(y<ymax))]\"\"\"\n",
      "    \n",
      "    \n",
      "\n",
      "    #setting ragnge for z one way\n",
      "    zmax = f(x,y).max()\n",
      "    zmin = 0\n",
      "    \n",
      "    #getting random (x,y) points\n",
      "    samples_x = xmin + (xmax-xmin)*np.random.random_sample(N);\n",
      "    samples_y = ymin + (ymax-ymin)*np.random.random_sample(N);\n",
      "\n",
      "    \n",
      "    #approximating the function with set of random points\n",
      "    approx = f(samples_x,samples_y)\n",
      "    \n",
      "    #the uncertainty\n",
      "    Iunc = (xmax-xmin)*(ymax-ymin)*np.sqrt(((f(x,y)**2).mean() - \n",
      "                                          ((f(x,y)).mean())**2))\n",
      "    #getting range of z\n",
      "    zmax = approx.max()\n",
      "    zmin = approx.min()\n",
      "    \n",
      "    samples_z = zmin + (zmax-zmin)*np.random.random_sample(N);\n",
      "    \n",
      "    #number of samples within \n",
      "    newmask = (samples_z < f(samples_x,samples_y))\n",
      "    I = (xmax-xmin)*(ymax-ymin)*(zmax-zmin)*newmask.sum()/float(newmask.size)\n",
      "\n",
      "    print zmax\n",
      "    \n",
      "    print \"I_samplemean =\", I, \" +/- \",Iunc\n",
      "potentialFinder()"
     ],
     "language": "python",
     "metadata": {},
     "outputs": [
      {
       "output_type": "stream",
       "stream": "stdout",
       "text": [
        "0.00249269837019\n",
        "0.00399773084321\n",
        "I_samplemean = 0.0028669424154  +/-  0.00451579428226\n"
       ]
      }
     ],
     "prompt_number": 38
    },
    {
     "cell_type": "code",
     "collapsed": false,
     "input": [
      "!cat Electrostatics.py"
     ],
     "language": "python",
     "metadata": {},
     "outputs": [
      {
       "output_type": "stream",
       "stream": "stdout",
       "text": [
        "\r\n",
        "import numpy as np\r\n",
        "\r\n",
        "def pointPotential(x,y,q,Xc,Yc):\r\n",
        "    \"\"\"\r\n",
        "    Return the electric potential for a \r\n",
        "    point charge q at (Xc,Yc)\r\n",
        "    \r\n",
        "    Units returned are [Volts] if input \r\n",
        "    units are [meters] and [Coulombs]                                   \r\n",
        "    \"\"\"\r\n",
        "    \r\n",
        "    k = 8.987551787997912e9 #(Nm^2/C^2) \r\n",
        "    \r\n",
        "    Vxy = k*q/np.sqrt(((x-Xc)**2 + (y-Yc)**2))\r\n",
        "    return Vxy\r\n",
        "\r\n",
        "def dipolePotential(x,y,q,d):\r\n",
        "    Vxy=pointPotential(x,y,q,-d/2.,0.) + pointPotential(x,y,-q,+d/2.,0.)\r\n",
        "    return Vxy"
       ]
      }
     ],
     "prompt_number": 12
    },
    {
     "cell_type": "markdown",
     "metadata": {},
     "source": [
      "Question 2\n",
      "Use the sample mean method to compute the volume of a sphere with radius 1 using spherical coordinates:\n",
      "\n",
      "$V=\\int_{0}^{1}\\int_{0}^{\\pi}\\int_{0}^{2\\pi}r^2sin(\u03b8)drd\u03b8d\u03d5$\n",
      "\n",
      "for $N=(10^1,10^2,10^3,10^4,10^5,10^6)$. Report the value and statistical uncertainty for each sample size. How does the result depend on N?"
     ]
    },
    {
     "cell_type": "code",
     "collapsed": false,
     "input": [
      "frpt =  lambda r,t: (r**2)*np.sin(t)\n",
      "L = 1\n",
      "W =2*np.pi\n",
      "H = np.pi\n",
      "\n",
      "i = (10**1,10**2,10**3,10**4,10**5,10**6)\n",
      "for N in i:\n",
      "    r = L*np.random.random_sample(N)\n",
      "    p = W*np.random.random_sample(N)\n",
      "    t = H*np.random.random_sample(N)\n",
      "    \n",
      "    I = L*W*H*frpt(r,t).mean()\n",
      "    err = L*W*H*np.sqrt(((frpt(r,t)**2).mean() - (frpt(r,t).mean())**2)/N)\n",
      "    exact = 4*np.pi\n",
      "    \n",
      "    print frpt(r,t).mean()\n",
      "    \n",
      "    print \"Exact =\",exact,\"I=\",I,\" +/-\",err,\"percentErr =\",100.*np.abs(I-exact)/exact"
     ],
     "language": "python",
     "metadata": {},
     "outputs": [
      {
       "output_type": "stream",
       "stream": "stdout",
       "text": [
        "0.168483808206\n",
        "Exact = 12.5663706144 I= 3.32573706996  +/- 1.13660078037 percentErr = 73.5346252946\n",
        "0.170325241042\n",
        "Exact = 12.5663706144 I= 3.36208549721  +/- 0.406259413125 percentErr = 73.2453737011\n",
        "0.203473768757\n",
        "Exact = 12.5663706144 I= 4.01641120726  +/- 0.137051942989 percentErr = 68.0384151438\n",
        "0.211943517918\n",
        "Exact = 12.5663706144 I= 4.18359735445  +/- 0.0460729850199 percentErr = 66.7079900567\n",
        "0.211893822413"
       ]
      },
      {
       "output_type": "stream",
       "stream": "stdout",
       "text": [
        "\n",
        "Exact = 12.5663706144 I= 4.1826164045  +/- 0.01463363501 percentErr = 66.7157962083\n",
        "0.21222833196"
       ]
      },
      {
       "output_type": "stream",
       "stream": "stdout",
       "text": [
        "\n",
        "Exact = 12.5663706144 I= 4.1892193583  +/- 0.00462334291079 percentErr = 66.6632515715\n"
       ]
      }
     ],
     "prompt_number": 56
    },
    {
     "cell_type": "code",
     "collapsed": false,
     "input": [],
     "language": "python",
     "metadata": {},
     "outputs": []
    }
   ],
   "metadata": {}
  }
 ]
}