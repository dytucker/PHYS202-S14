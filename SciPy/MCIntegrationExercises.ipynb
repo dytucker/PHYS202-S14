{
 "metadata": {
  "name": "",
  "signature": "sha256:08886f42c13898f10ac2afb3eadc0f58f372420b0e966eebefbffebb89026343"
 },
 "nbformat": 3,
 "nbformat_minor": 0,
 "worksheets": [
  {
   "cells": [
    {
     "cell_type": "heading",
     "level": 1,
     "metadata": {},
     "source": [
      "Monte Carlo Integration Exercises"
     ]
    },
    {
     "cell_type": "code",
     "collapsed": false,
     "input": [
      "%pylab inline\n",
      "import numpy as np\n",
      "import matplotlib.pyplot as plt"
     ],
     "language": "python",
     "metadata": {},
     "outputs": [
      {
       "output_type": "stream",
       "stream": "stdout",
       "text": [
        "Populating the interactive namespace from numpy and matplotlib\n"
       ]
      }
     ],
     "prompt_number": 1
    },
    {
     "cell_type": "code",
     "collapsed": false,
     "input": [
      "from Electrostatics import *\n",
      "from IPython.html.widgets import interact, interactive"
     ],
     "language": "python",
     "metadata": {},
     "outputs": [],
     "prompt_number": 2
    },
    {
     "cell_type": "code",
     "collapsed": false,
     "input": [
      "def sampleMean(N=10000,xmin=1.7,xmax=12.4):\n",
      "    \n",
      "    f = lambda x: x**(0.5) + np.sin(x)\n",
      "    x = np.arange(0.,15.,0.001)\n",
      "    Iana = lambda x: (2./3.)*x**(3./2.) - np.cos(x)\n",
      "    Iexact = Iana(xmax)-Iana(xmin)\n",
      "    \n",
      "    samples_x = xmin + (xmax-xmin)*np.random.random_sample(N);\n",
      "    \n",
      "    approx = f(samples_x)\n",
      "    \n",
      "    Iunc = (xmax - xmin)*np.sqrt( ((approx**2).mean()-(approx.mean())**2)/N)\n",
      "    \n",
      "    \n",
      "    ymax = approx.max()\n",
      "    ymin=0.\n",
      "    \n",
      "    newmask = (samples_y < f(samples_x,))\n",
      "    I = (xmax-xmin)*(ymax-ymin)*newmask.sum()/newmask.size\n",
      "    \n",
      "    print \"I_exact = \", Iexact\n",
      "    print \"I_samplemean =\", I, \" +/- \",Iunc\n",
      "    print \"Error on I =\", Ierr,\"%\"\n",
      "    \n",
      "    plt.plot(x,f(x),lw=3)\n",
      "    plt.ylabel(r'$x^{1/2} + \\sin(x)$',fontsize=20)\n",
      "    plt.xlabel(r'$x$', fontsize = 20)\n",
      "    plt.xlim(0.,15.)\n",
      "    \n",
      "    plt.plot([xmin, xmin], [ymin, ymax], color='k', linestyle='--') \n",
      "    plt.plot([xmax, xmax], [ymin, ymax], color='k', linestyle='--')\n",
      "    plt.plot([xmin, xmax], [ymax, ymax], color='k', linestyle='--')\n",
      "    \n",
      "    plt.plot((xmin,xmax),(approx.mean(),approx.mean()),'r-',\n",
      "             label=\"Average value of the function at sample points\")\n",
      "    plt.legend(loc=\"upper left\")\n",
      "    \n",
      "    plt.show()\n",
      "    \n",
      "v = interact(sampleMean,N=(1000,100000,100),xmin=(0.,15.,0.001),\n",
      "              xmax=(0.,15.,0.001))"
     ],
     "language": "python",
     "metadata": {},
     "outputs": [
      {
       "ename": "NameError",
       "evalue": "global name 'samples_y' is not defined",
       "output_type": "pyerr",
       "traceback": [
        "\u001b[1;31m---------------------------------------------------------------------------\u001b[0m\n\u001b[1;31mNameError\u001b[0m                                 Traceback (most recent call last)",
        "\u001b[1;32m<ipython-input-3-80dea03c0271>\u001b[0m in \u001b[0;36msampleMean\u001b[1;34m(N, xmin, xmax)\u001b[0m\n\u001b[0;32m     16\u001b[0m     \u001b[0mymin\u001b[0m\u001b[1;33m=\u001b[0m\u001b[1;36m0.\u001b[0m\u001b[1;33m\u001b[0m\u001b[0m\n\u001b[0;32m     17\u001b[0m \u001b[1;33m\u001b[0m\u001b[0m\n\u001b[1;32m---> 18\u001b[1;33m     \u001b[0mnewmask\u001b[0m \u001b[1;33m=\u001b[0m \u001b[1;33m(\u001b[0m\u001b[0msamples_y\u001b[0m \u001b[1;33m<\u001b[0m \u001b[0mf\u001b[0m\u001b[1;33m(\u001b[0m\u001b[0msamples_x\u001b[0m\u001b[1;33m,\u001b[0m\u001b[1;33m)\u001b[0m\u001b[1;33m)\u001b[0m\u001b[1;33m\u001b[0m\u001b[0m\n\u001b[0m\u001b[0;32m     19\u001b[0m     \u001b[0mI\u001b[0m \u001b[1;33m=\u001b[0m \u001b[1;33m(\u001b[0m\u001b[0mxmax\u001b[0m\u001b[1;33m-\u001b[0m\u001b[0mxmin\u001b[0m\u001b[1;33m)\u001b[0m\u001b[1;33m*\u001b[0m\u001b[1;33m(\u001b[0m\u001b[0mymax\u001b[0m\u001b[1;33m-\u001b[0m\u001b[0mymin\u001b[0m\u001b[1;33m)\u001b[0m\u001b[1;33m*\u001b[0m\u001b[0mnewmask\u001b[0m\u001b[1;33m.\u001b[0m\u001b[0msum\u001b[0m\u001b[1;33m(\u001b[0m\u001b[1;33m)\u001b[0m\u001b[1;33m/\u001b[0m\u001b[0mnewmask\u001b[0m\u001b[1;33m.\u001b[0m\u001b[0msize\u001b[0m\u001b[1;33m\u001b[0m\u001b[0m\n\u001b[0;32m     20\u001b[0m \u001b[1;33m\u001b[0m\u001b[0m\n",
        "\u001b[1;31mNameError\u001b[0m: global name 'samples_y' is not defined"
       ]
      }
     ],
     "prompt_number": 3
    },
    {
     "cell_type": "code",
     "collapsed": false,
     "input": [
      "def potentialFinder(N=10000,xmin=-1,xmax=1,ymin=-1,ymax=1):\n",
      "    #q = 1 microcoulomb\n",
      "    #finding potential at point (2,3)\n",
      "    # Q = sigma*dA\n",
      "    # sigma = 1 microcoulomb per meter sqared. dA = (.001)^2\n",
      "    # q = 10^-6 microcoulombs\n",
      "    f = lambda x,y: pointPotential(x,y,10**-12,2,3)\n",
      "    print f(0,0)\n",
      "    \n",
      "    #creating x and y values\n",
      "    x = np.arange(-1.,1.,0.001)\n",
      "    y = np.arange(0.,2.,0.001)\n",
      "    \n",
      "    \n",
      "    #not sure what this is for\n",
      "    \"\"\"subx = x[logical_and((x > xmin),(x<xmax))]\n",
      "    suby = y[logical_and((y > ymin),(y<ymax))]\"\"\"\n",
      "    \n",
      "    \n",
      "\n",
      "    #setting ragnge for z one way\n",
      "    zmax = f(x,y).max()\n",
      "    zmin = 0\n",
      "    \n",
      "    #getting random (x,y) points\n",
      "    samples_x = xmin + (xmax-xmin)*np.random.random_sample(N);\n",
      "    samples_y = ymin + (ymax-ymin)*np.random.random_sample(N);\n",
      "\n",
      "    \n",
      "    #approximating the function with set of random points\n",
      "    approx = f(samples_x,samples_y)\n",
      "    \n",
      "    #the uncertainty\n",
      "    Iunc = (xmax-xmin)*(ymax-ymin)*np.sqrt(((f(x,y)**2).mean() - \n",
      "                                          ((f(x,y)).mean())**2))\n",
      "    #getting range of z\n",
      "    zmax = approx.max()\n",
      "    zmin = approx.min()\n",
      "    \n",
      "    samples_z = zmin + (zmax-zmin)*np.random.random_sample(N);\n",
      "    \n",
      "    #number of samples within \n",
      "    newmask = (samples_z < f(samples_x,samples_y))\n",
      "    I = (xmax-xmin)*(ymax-ymin)*(zmax-zmin)*newmask.sum()/float(newmask.size)\n",
      "\n",
      "    print zmax\n",
      "    \n",
      "    print \"I_samplemean =\", I, \" +/- \",Iunc\n",
      "potentialFinder()"
     ],
     "language": "python",
     "metadata": {},
     "outputs": [
      {
       "output_type": "stream",
       "stream": "stdout",
       "text": [
        "0.00249269837019\n",
        "0.00399773084321\n",
        "I_samplemean = 0.0028669424154  +/-  0.00451579428226\n"
       ]
      }
     ],
     "prompt_number": 38
    },
    {
     "cell_type": "code",
     "collapsed": false,
     "input": [
      "!cat Electrostatics.py"
     ],
     "language": "python",
     "metadata": {},
     "outputs": [
      {
       "output_type": "stream",
       "stream": "stdout",
       "text": [
        "\r\n",
        "import numpy as np\r\n",
        "\r\n",
        "def pointPotential(x,y,q,Xc,Yc):\r\n",
        "    \"\"\"\r\n",
        "    Return the electric potential for a \r\n",
        "    point charge q at (Xc,Yc)\r\n",
        "    \r\n",
        "    Units returned are [Volts] if input \r\n",
        "    units are [meters] and [Coulombs]                                   \r\n",
        "    \"\"\"\r\n",
        "    \r\n",
        "    k = 8.987551787997912e9 #(Nm^2/C^2) \r\n",
        "    \r\n",
        "    Vxy = k*q/np.sqrt(((x-Xc)**2 + (y-Yc)**2))\r\n",
        "    return Vxy\r\n",
        "\r\n",
        "def dipolePotential(x,y,q,d):\r\n",
        "    Vxy=pointPotential(x,y,q,-d/2.,0.) + pointPotential(x,y,-q,+d/2.,0.)\r\n",
        "    return Vxy"
       ]
      }
     ],
     "prompt_number": 12
    },
    {
     "cell_type": "markdown",
     "metadata": {},
     "source": [
      "Question 2\n",
      "Use the sample mean method to compute the volume of a sphere with radius 1 using spherical coordinates:\n",
      "\n",
      "$V=\\int_{0}^{1}\\int_{0}^{\\pi}\\int_{0}^{2\\pi}r^2sin(\u03b8)drd\u03b8d\u03d5$\n",
      "\n",
      "for $N=(10^1,10^2,10^3,10^4,10^5,10^6)$. Report the value and statistical uncertainty for each sample size. How does the result depend on N?"
     ]
    },
    {
     "cell_type": "code",
     "collapsed": false,
     "input": [
      "frpt =  lambda r,phi,theta: (r**2)*np.sin(theta)\n",
      "r_range = 1\n",
      "phi_range =2*np.pi\n",
      "theta_range = np.pi\n",
      "\n",
      "i = (10**1,10**2,10**3,10**4,10**5,10**6)\n",
      "for N in i:\n",
      "    r = r_range*np.random.random_sample(N)\n",
      "    phi = phi_range*np.random.random_sample(N)\n",
      "    theta = theta_range*np.random.random_sample(N)\n",
      "\n",
      "    \n",
      "    I = r_range*phi_range*theta_range*frpt(r,phi,theta).mean()\n",
      "    err = r_range*phi_range*theta_range*np.sqrt(((frpt(r,phi,theta)**2).mean() - (frpt(r,phi,theta).mean())**2)/N)\n",
      "    exact = 4*np.pi/3.\n",
      "    \n",
      "    \n",
      "    print \"Exact =\",exact,\"I=\",I,\" +/-\",err,\"percentErr =\",100.*np.abs(I-exact)/exact"
     ],
     "language": "python",
     "metadata": {},
     "outputs": [
      {
       "output_type": "stream",
       "stream": "stdout",
       "text": [
        "Exact = 4.18879020479 I= 4.53496947356  +/- 1.67850568948 percentErr = 8.2644212733\n",
        "Exact = 4.18879020479 I= 3.94737115203  +/- 0.442442848966 percentErr = 5.76345534032\n",
        "Exact = 4.18879020479 I= 4.21544082802  +/- 0.148094860542 percentErr = 0.636236763605\n",
        "Exact = 4.18879020479 I= 4.21141754211  +/- 0.0467289533005 percentErr = 0.54018788755\n",
        "Exact ="
       ]
      },
      {
       "output_type": "stream",
       "stream": "stdout",
       "text": [
        " 4.18879020479 I= 4.187562786  +/- 0.0146091583657 percentErr = 0.0293024649734\n",
        "Exact ="
       ]
      },
      {
       "output_type": "stream",
       "stream": "stdout",
       "text": [
        " 4.18879020479 I= 4.18914299981  +/- 0.00462599812829 percentErr = 0.00842236083438\n"
       ]
      }
     ],
     "prompt_number": 13
    },
    {
     "cell_type": "code",
     "collapsed": false,
     "input": [],
     "language": "python",
     "metadata": {},
     "outputs": []
    }
   ],
   "metadata": {}
  }
 ]
}