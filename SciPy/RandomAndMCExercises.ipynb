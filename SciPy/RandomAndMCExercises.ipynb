{
 "metadata": {
  "name": "",
  "signature": "sha256:67372d4f9f91c9274a67d8bd20f238d708190bae76d87919e787179fcdda747c"
 },
 "nbformat": 3,
 "nbformat_minor": 0,
 "worksheets": [
  {
   "cells": [
    {
     "cell_type": "heading",
     "level": 1,
     "metadata": {},
     "source": [
      "Random Numbers, Monte Carlo Sampling and Simulation Exercises"
     ]
    },
    {
     "cell_type": "code",
     "collapsed": false,
     "input": [
      "%pylab inline\n",
      "import numpy as np\n",
      "import matplotlib.pyplot as plot\n",
      "from IPython.html.widgets import interact, interactive\n",
      "from scipy.integrate import trapz,cumtrapz"
     ],
     "language": "python",
     "metadata": {},
     "outputs": [
      {
       "output_type": "stream",
       "stream": "stdout",
       "text": [
        "Populating the interactive namespace from numpy and matplotlib\n"
       ]
      }
     ],
     "prompt_number": 1
    },
    {
     "cell_type": "markdown",
     "metadata": {},
     "source": [
      "Question 1\n",
      "The Weibull distribution, with parameters \u03b1>0 and \u03b2>0 is described by the density function\n",
      "f(x)={\u03b1\u03b2\u2212\u03b1x\u03b1\u22121e\u2212(x/\u03b2)\u03b10x>0otherwise"
     ]
    },
    {
     "cell_type": "markdown",
     "metadata": {},
     "source": [
      "(a) Solve for the CDF of the Weibull distribution analytically, using\n",
      "\n",
      "$F(x)=\\int_{-\\infty}^{x}f(t)dt$"
     ]
    },
    {
     "cell_type": "code",
     "collapsed": false,
     "input": [
      "def weibullCDF(xmax=4,a=1,b=1):\n",
      "\n",
      "    x = np.arange(0.,xmax+0.01,0.01)\n",
      "    \n",
      "    f = lambda x: a*b**(-a)*x**(a-1)*e**(-(x/b)**a)\n",
      "    CDF = lambda x: 1 - e**(-a*x/b)\n",
      "    \n",
      "    plt.plot(x,f(x),label=\"Weibull Distribution\",lw=3)\n",
      "    plt.plot(x,CDF(x),label=\"Weibull CDF\",lw=3)\n",
      "    plt.legend(loc=\"center right\")\n",
      "    plt.show()\n",
      "\n",
      "v = interact(weibullCDF,xmax=4)"
     ],
     "language": "python",
     "metadata": {},
     "outputs": [
      {
       "metadata": {},
       "output_type": "display_data",
       "png": "[encoded data removed]",
       "text": [
        "<matplotlib.figure.Figure at 0xaa1be80>"
       ]
      }
     ],
     "prompt_number": 2
    },
    {
     "cell_type": "markdown",
     "metadata": {},
     "source": [
      "(b) Find the inverse of the CDF $F^{-1}(x)$ analytically."
     ]
    },
    {
     "cell_type": "code",
     "collapsed": false,
     "input": [
      "def weibullCDFinv(xmax=4,a=1,b=1):\n",
      "    x = np.arange(0.,4.,0.001)\n",
      "\n",
      "    CDFinv = lambda x: b*(-log(1-x))**(1/a)\n",
      "\n",
      "    plt.plot(x,CDFinv(x),label=\"Weibull inverse CDF\",lw=3)\n",
      "    plt.legend(loc=\"center right\")\n",
      "    plt.show()\n",
      "\n",
      "v2 = interact(weibullCDFinv,xmax=4)"
     ],
     "language": "python",
     "metadata": {},
     "outputs": [
      {
       "output_type": "stream",
       "stream": "stderr",
       "text": [
        "-c:4: RuntimeWarning: divide by zero encountered in log\n",
        "-c:4: RuntimeWarning: invalid value encountered in log\n"
       ]
      },
      {
       "metadata": {},
       "output_type": "display_data",
       "png": "[encoded data removed]",
       "text": [
        "<matplotlib.figure.Figure at 0xaa1bf98>"
       ]
      }
     ],
     "prompt_number": 3
    },
    {
     "cell_type": "markdown",
     "metadata": {},
     "source": [
      "(c) Write a program to generate 10,000 samples from the Weibull distribution and plot the true distribution, the CDF and the sampled distribution as a histogram, all on the same graph. Let $\u03b1 = 1.5, \u03b2 = 6.$\n",
      "Note: Do not use the built-in Weibull function from numpy.random."
     ]
    },
    {
     "cell_type": "code",
     "collapsed": false,
     "input": [
      "xmax = 20\n",
      "N = 10000\n",
      "z = np.random.random_sample(N);\n",
      "\n",
      "x = np.arange(0,xmax,0.001)\n",
      "f = lambda x: 1.5*6**(-1.5)*x**(1.5-1)*e**(-(x/6)**1.5)\n",
      "CDF = lambda x: 1 - e**(-1.5*x/6)    \n",
      "CDFinv = lambda x: 6*(-log(1-x))**(1/1.5)\n",
      "\n",
      "xsamples = CDFinv(z);\n",
      "\n",
      "plt.hist(xsamples,bins=50,normed=True,label=\"Sampled distribution\")\n",
      "plt.plot(x,f(x),label=\"Weibull Distribution\",lw=3)\n",
      "#plt.plot(x,CDF(x),label=\"Weibull CDF\",lw=3)\n",
      "#plt.xlim(0,xmax)\n",
      "\n",
      "\n",
      "plt.legend(loc='center right')\n",
      "plt.show()\n"
     ],
     "language": "python",
     "metadata": {},
     "outputs": [
      {
       "metadata": {},
       "output_type": "display_data",
       "png": "[encoded data removed]",
       "text": [
        "<matplotlib.figure.Figure at 0xadd89b0>"
       ]
      }
     ],
     "prompt_number": 5
    },
    {
     "cell_type": "markdown",
     "metadata": {},
     "source": [
      "(d) Run the four statistical tests of randomness (mean, variance, chi-square, K-S) on your results from question 1(c). Does it pass all of them?"
     ]
    },
    {
     "cell_type": "markdown",
     "metadata": {},
     "source": [
      "Mean Test"
     ]
    },
    {
     "cell_type": "code",
     "collapsed": false,
     "input": [
      "xmax = 200\n",
      "N = 10000.\n",
      "z = np.random.random_sample(N);\n",
      "\n",
      "x = np.arange(0,xmax,0.001)\n",
      "CDFinv = lambda x: 6*(-log(1-x))**(1/1.5)\n",
      "\n",
      "samples = CDFinv(z)\n",
      "\n",
      "average = sum(samples)/10000.\n",
      "print \"The expected mean for a=1.5,b=5 is 5.41. The sampled average is %s\"% average"
     ],
     "language": "python",
     "metadata": {},
     "outputs": [
      {
       "output_type": "stream",
       "stream": "stdout",
       "text": [
        "The expected mean for a=1.5,b=5 is 5.41. The sampled average is 5.44609976191\n"
       ]
      }
     ],
     "prompt_number": 82
    },
    {
     "cell_type": "markdown",
     "metadata": {},
     "source": [
      "Variance Test"
     ]
    },
    {
     "cell_type": "code",
     "collapsed": false,
     "input": [
      "xmax = 200\n",
      "N = 10000.\n",
      "z = np.random.random_sample(N);\n",
      "\n",
      "x = np.arange(0,xmax,0.001)\n",
      "CDFinv = lambda x: 6*(-log(1-x))**(1/1.5)\n",
      "\n",
      "samples = CDFinv(z)\n",
      "\n",
      "sigma = 1/(N-1)*((samples-average)**2).sum()\n",
      "sigma = np.sqrt(sigma)\n",
      "\n",
      "print \"Sigma is %s\"%sigma"
     ],
     "language": "python",
     "metadata": {},
     "outputs": [
      {
       "output_type": "stream",
       "stream": "stdout",
       "text": [
        "Sigma is 3.60515577457\n"
       ]
      }
     ],
     "prompt_number": 71
    },
    {
     "cell_type": "code",
     "collapsed": false,
     "input": [
      "#check 1 standard deviation\n",
      "\n",
      "ii = (samples>(average - sigma)) & (samples<(average + sigma))\n",
      "result = len(samples[ii])/N*100\n",
      "\n",
      "print \"%s percent  of samples are within 1 standard deviation.\"%result"
     ],
     "language": "python",
     "metadata": {},
     "outputs": [
      {
       "output_type": "stream",
       "stream": "stdout",
       "text": [
        "70.05 percent  of samples are within 1 standard deviation.\n"
       ]
      }
     ],
     "prompt_number": 72
    },
    {
     "cell_type": "code",
     "collapsed": false,
     "input": [
      "#check 2 standard deviations\n",
      "\n",
      "ii = (samples>(average - 2*sigma)) & (samples<(average + 2*sigma))\n",
      "result = len(samples[ii])/N*100\n",
      "\n",
      "print \"%s percent  of samples are within 2 standard deviations.\"%result"
     ],
     "language": "python",
     "metadata": {},
     "outputs": [
      {
       "output_type": "stream",
       "stream": "stdout",
       "text": [
        "95.62 percent  of samples are within 2 standard deviations.\n"
       ]
      }
     ],
     "prompt_number": 73
    },
    {
     "cell_type": "code",
     "collapsed": false,
     "input": [
      "#check 3 standard deviations\n",
      "\n",
      "ii = (samples>(average - 3*sigma)) & (samples<(average + 3*sigma))\n",
      "result = len(samples[ii])/N*100\n",
      "\n",
      "print \"%s percent  of samples are within 3 standard deviations.\"%result"
     ],
     "language": "python",
     "metadata": {},
     "outputs": [
      {
       "output_type": "stream",
       "stream": "stdout",
       "text": [
        "98.89 percent  of samples are within 3 standard deviations.\n"
       ]
      }
     ],
     "prompt_number": 74
    },
    {
     "cell_type": "markdown",
     "metadata": {},
     "source": [
      "I would say it passes the variance test. It follows the 65-95-99 rule fairly well"
     ]
    },
    {
     "cell_type": "code",
     "collapsed": false,
     "input": [
      "bucket0_2 = (samples>0) & (samples < 2)\n",
      "bucket2_4 = (samples>2) & (samples < 4)\n",
      "bucket4_6 = (samples>4) & (samples < 6)\n",
      "bucket6_8 = (samples>6) & (samples < 8)\n",
      "bucket8_10 = (samples>8) & (samples < 10)\n",
      "bucket10_12 = (samples>10) & (samples < 12)\n",
      "bucket12_14 = (samples>12) & (samples < 14)\n",
      "\n",
      "\n",
      "\n",
      "chi_squared = []\n",
      "chi_squared.append(((len(samples[bucket0_2])-(0.17506*N))**2/(0.17506*N)))\n",
      "chi_squared.append(((len(samples[bucket2_4])-(0.24471*N))**2/(0.24471*N)))\n",
      "chi_squared.append(((len(samples[bucket4_6])-(0.21235*N))**2/(0.21235*N)))\n",
      "chi_squared.append(((len(samples[bucket6_8])-(0.15341*N))**2/(0.15341*N)))\n",
      "chi_squared.append(((len(samples[bucket8_10])-(0.09818*N))**2/(0.09818*N)))\n",
      "chi_squared.append(((len(samples[bucket10_12])-(0.05719*N))**2/(0.05719*N)))\n",
      "chi_squared.append(((len(samples[bucket12_14])-(0.03079*N))**2/(0.03079*N)))\n",
      "\n",
      "chi_squared = sum(chi_squared)\n",
      "print chi_squared"
     ],
     "language": "python",
     "metadata": {},
     "outputs": [
      {
       "output_type": "stream",
       "stream": "stdout",
       "text": [
        "14.9935956767\n"
       ]
      }
     ],
     "prompt_number": 93
    },
    {
     "cell_type": "code",
     "collapsed": false,
     "input": [
      "xmax = 200\n",
      "N = 10000.\n",
      "z = np.random.random_sample(N);\n",
      "\n",
      "x = np.arange(0,xmax,0.001)\n",
      "CDFinv = lambda x: 6*(-log(1-x))**(1/1.5)\n",
      "\n",
      "samples = CDFinv(z)\n",
      "\n",
      "average = sum(samples)/10000.\n",
      "\n",
      "buckets = []\n",
      "for i in range(2,22,2):\n",
      "    ii = ((sample>(i-2)) & (sample<i))\n",
      "    print samples[ii]"
     ],
     "language": "python",
     "metadata": {},
     "outputs": [
      {
       "output_type": "stream",
       "stream": "stdout",
       "text": [
        "1.43193502244\n",
        "1.43193502244\n",
        "1.43193502244\n",
        "1.43193502244\n",
        "1.43193502244\n",
        "1.43193502244\n",
        "1.43193502244\n",
        "1.43193502244\n",
        "1.43193502244\n",
        "1.43193502244\n"
       ]
      }
     ],
     "prompt_number": 104
    },
    {
     "cell_type": "code",
     "collapsed": false,
     "input": [],
     "language": "python",
     "metadata": {},
     "outputs": [],
     "prompt_number": 103
    }
   ],
   "metadata": {}
  }
 ]
}